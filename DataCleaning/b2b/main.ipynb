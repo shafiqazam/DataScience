{
 "cells": [
  {
   "cell_type": "markdown",
   "metadata": {},
   "source": [
    "# B2B Ecommerce Fraud: Case Study"
   ]
  },
  {
   "cell_type": "markdown",
   "metadata": {},
   "source": [
    " Dataset comes from https://statso.io/b2b-ecommerce-fraud-case-study/"
   ]
  },
  {
   "cell_type": "markdown",
   "metadata": {},
   "source": [
    "Dataset Summary:  \n",
    "  \n",
    "Goal: Company wants to check if **fees are charged correctly** by courier companies\n",
    "\n",
    "Important files:\n",
    "\n",
    "> Website Order Report 'Order Report .csv' -  order IDs, SKUs for each order  \n",
    "\n",
    "> Master SKU 'SKU Master.csv' -  gross weight for each product (for price calculation)\n",
    "\n",
    "> Warehouse PIN 'pincodes.csv - India Pincode mappings  \n",
    "\n",
    "> Invoices 'Invoice.csv' - AWB Number, order ID, shipment weight, warehouse pickup PIN, customer delivery PIN, delivery area, charge per shipment, type shipment\n"
   ]
  },
  {
   "cell_type": "code",
   "execution_count": 1,
   "metadata": {},
   "outputs": [],
   "source": [
    "import pandas as pd\n",
    "import numpy as np\n",
    "\n",
    "import seaborn as sns\n",
    "\n",
    "import math"
   ]
  },
  {
   "cell_type": "markdown",
   "metadata": {},
   "source": [
    "## Data Cleaning of E-Commerce Logistics Data (https://thecleverprogrammer.com/2025/03/02/try-these-datasets-to-master-data-cleaning/)"
   ]
  },
  {
   "cell_type": "code",
   "execution_count": 2,
   "metadata": {},
   "outputs": [
    {
     "data": {
      "application/vnd.microsoft.datawrangler.viewer.v0+json": {
       "columns": [
        {
         "name": "index",
         "rawType": "int64",
         "type": "integer"
        },
        {
         "name": "fwd_a_fixed",
         "rawType": "float64",
         "type": "float"
        },
        {
         "name": "fwd_a_additional",
         "rawType": "float64",
         "type": "float"
        },
        {
         "name": "fwd_b_fixed",
         "rawType": "int64",
         "type": "integer"
        },
        {
         "name": "fwd_b_additional",
         "rawType": "float64",
         "type": "float"
        },
        {
         "name": "fwd_c_fixed",
         "rawType": "float64",
         "type": "float"
        },
        {
         "name": "fwd_c_additional",
         "rawType": "float64",
         "type": "float"
        },
        {
         "name": "fwd_d_fixed",
         "rawType": "float64",
         "type": "float"
        },
        {
         "name": "fwd_d_additional",
         "rawType": "float64",
         "type": "float"
        },
        {
         "name": "fwd_e_fixed",
         "rawType": "float64",
         "type": "float"
        },
        {
         "name": "fwd_e_additional",
         "rawType": "float64",
         "type": "float"
        },
        {
         "name": "rto_a_fixed",
         "rawType": "float64",
         "type": "float"
        },
        {
         "name": "rto_a_additional",
         "rawType": "float64",
         "type": "float"
        },
        {
         "name": "rto_b_fixed",
         "rawType": "float64",
         "type": "float"
        },
        {
         "name": "rto_b_additional",
         "rawType": "float64",
         "type": "float"
        },
        {
         "name": "rto_c_fixed",
         "rawType": "float64",
         "type": "float"
        },
        {
         "name": "rto_c_additional",
         "rawType": "float64",
         "type": "float"
        },
        {
         "name": "rto_d_fixed",
         "rawType": "float64",
         "type": "float"
        },
        {
         "name": "rto_d_additional",
         "rawType": "float64",
         "type": "float"
        },
        {
         "name": "rto_e_fixed",
         "rawType": "float64",
         "type": "float"
        },
        {
         "name": "rto_e_additional",
         "rawType": "float64",
         "type": "float"
        }
       ],
       "conversionMethod": "pd.DataFrame",
       "ref": "00878a41-b270-4305-a111-40e45711d2db",
       "rows": [
        [
         "0",
         "29.5",
         "23.6",
         "33",
         "28.3",
         "40.1",
         "38.9",
         "45.4",
         "44.8",
         "56.6",
         "55.5",
         "13.6",
         "23.6",
         "20.5",
         "28.3",
         "31.9",
         "38.9",
         "41.3",
         "44.8",
         "50.7",
         "55.5"
        ]
       ],
       "shape": {
        "columns": 20,
        "rows": 1
       }
      },
      "text/html": [
       "<div>\n",
       "<style scoped>\n",
       "    .dataframe tbody tr th:only-of-type {\n",
       "        vertical-align: middle;\n",
       "    }\n",
       "\n",
       "    .dataframe tbody tr th {\n",
       "        vertical-align: top;\n",
       "    }\n",
       "\n",
       "    .dataframe thead th {\n",
       "        text-align: right;\n",
       "    }\n",
       "</style>\n",
       "<table border=\"1\" class=\"dataframe\">\n",
       "  <thead>\n",
       "    <tr style=\"text-align: right;\">\n",
       "      <th></th>\n",
       "      <th>fwd_a_fixed</th>\n",
       "      <th>fwd_a_additional</th>\n",
       "      <th>fwd_b_fixed</th>\n",
       "      <th>fwd_b_additional</th>\n",
       "      <th>fwd_c_fixed</th>\n",
       "      <th>fwd_c_additional</th>\n",
       "      <th>fwd_d_fixed</th>\n",
       "      <th>fwd_d_additional</th>\n",
       "      <th>fwd_e_fixed</th>\n",
       "      <th>fwd_e_additional</th>\n",
       "      <th>rto_a_fixed</th>\n",
       "      <th>rto_a_additional</th>\n",
       "      <th>rto_b_fixed</th>\n",
       "      <th>rto_b_additional</th>\n",
       "      <th>rto_c_fixed</th>\n",
       "      <th>rto_c_additional</th>\n",
       "      <th>rto_d_fixed</th>\n",
       "      <th>rto_d_additional</th>\n",
       "      <th>rto_e_fixed</th>\n",
       "      <th>rto_e_additional</th>\n",
       "    </tr>\n",
       "  </thead>\n",
       "  <tbody>\n",
       "    <tr>\n",
       "      <th>0</th>\n",
       "      <td>29.5</td>\n",
       "      <td>23.6</td>\n",
       "      <td>33</td>\n",
       "      <td>28.3</td>\n",
       "      <td>40.1</td>\n",
       "      <td>38.9</td>\n",
       "      <td>45.4</td>\n",
       "      <td>44.8</td>\n",
       "      <td>56.6</td>\n",
       "      <td>55.5</td>\n",
       "      <td>13.6</td>\n",
       "      <td>23.6</td>\n",
       "      <td>20.5</td>\n",
       "      <td>28.3</td>\n",
       "      <td>31.9</td>\n",
       "      <td>38.9</td>\n",
       "      <td>41.3</td>\n",
       "      <td>44.8</td>\n",
       "      <td>50.7</td>\n",
       "      <td>55.5</td>\n",
       "    </tr>\n",
       "  </tbody>\n",
       "</table>\n",
       "</div>"
      ],
      "text/plain": [
       "   fwd_a_fixed  fwd_a_additional  fwd_b_fixed  fwd_b_additional  fwd_c_fixed  \\\n",
       "0         29.5              23.6           33              28.3         40.1   \n",
       "\n",
       "   fwd_c_additional  fwd_d_fixed  fwd_d_additional  fwd_e_fixed  \\\n",
       "0              38.9         45.4              44.8         56.6   \n",
       "\n",
       "   fwd_e_additional  rto_a_fixed  rto_a_additional  rto_b_fixed  \\\n",
       "0              55.5         13.6              23.6         20.5   \n",
       "\n",
       "   rto_b_additional  rto_c_fixed  rto_c_additional  rto_d_fixed  \\\n",
       "0              28.3         31.9              38.9         41.3   \n",
       "\n",
       "   rto_d_additional  rto_e_fixed  rto_e_additional  \n",
       "0              44.8         50.7              55.5  "
      ]
     },
     "execution_count": 2,
     "metadata": {},
     "output_type": "execute_result"
    }
   ],
   "source": [
    "courierCompany = pd.read_csv('./Courier Company - Rates.csv')\n",
    "courierCompany"
   ]
  },
  {
   "cell_type": "markdown",
   "metadata": {},
   "source": [
    "============== SKU Master =================="
   ]
  },
  {
   "cell_type": "code",
   "execution_count": 3,
   "metadata": {},
   "outputs": [
    {
     "data": {
      "application/vnd.microsoft.datawrangler.viewer.v0+json": {
       "columns": [
        {
         "name": "index",
         "rawType": "int64",
         "type": "integer"
        },
        {
         "name": "SKU",
         "rawType": "object",
         "type": "string"
        },
        {
         "name": "Weight (g)",
         "rawType": "int64",
         "type": "integer"
        },
        {
         "name": "Unnamed: 2",
         "rawType": "float64",
         "type": "float"
        },
        {
         "name": "Unnamed: 3",
         "rawType": "float64",
         "type": "float"
        },
        {
         "name": "Unnamed: 4",
         "rawType": "float64",
         "type": "float"
        }
       ],
       "conversionMethod": "pd.DataFrame",
       "ref": "145fcf5b-8c9c-4b0a-a263-11fe89070fd3",
       "rows": [
        [
         "0",
         "8904223815682",
         "210",
         null,
         null,
         null
        ],
        [
         "1",
         "8904223815859",
         "165",
         null,
         null,
         null
        ],
        [
         "2",
         "8904223815866",
         "113",
         null,
         null,
         null
        ],
        [
         "3",
         "8904223815873",
         "65",
         null,
         null,
         null
        ],
        [
         "4",
         "8904223816214",
         "120",
         null,
         null,
         null
        ],
        [
         "5",
         "8904223816665",
         "102",
         null,
         null,
         null
        ],
        [
         "6",
         "8904223817273",
         "65",
         null,
         null,
         null
        ],
        [
         "7",
         "8904223817334",
         "170",
         null,
         null,
         null
        ],
        [
         "8",
         "8904223817501",
         "350",
         null,
         null,
         null
        ],
        [
         "9",
         "8904223818430",
         "165",
         null,
         null,
         null
        ],
        [
         "10",
         "8904223818478",
         "350",
         null,
         null,
         null
        ],
        [
         "11",
         "8904223818553",
         "115",
         null,
         null,
         null
        ],
        [
         "12",
         "8904223818577",
         "150",
         null,
         null,
         null
        ],
        [
         "13",
         "8904223818591",
         "120",
         null,
         null,
         null
        ],
        [
         "14",
         "8904223818614",
         "65",
         null,
         null,
         null
        ],
        [
         "15",
         "8904223818638",
         "137",
         null,
         null,
         null
        ],
        [
         "16",
         "8904223818645",
         "137",
         null,
         null,
         null
        ],
        [
         "17",
         "8904223818669",
         "240",
         null,
         null,
         null
        ],
        [
         "18",
         "8904223818683",
         "121",
         null,
         null,
         null
        ],
        [
         "19",
         "8904223818706",
         "127",
         null,
         null,
         null
        ],
        [
         "20",
         "8904223818713",
         "120",
         null,
         null,
         null
        ],
        [
         "21",
         "8904223815804",
         "160",
         null,
         null,
         null
        ],
        [
         "22",
         "8904223818454",
         "232",
         null,
         null,
         null
        ],
        [
         "23",
         "8904223818751",
         "113",
         null,
         null,
         null
        ],
        [
         "24",
         "8904223818850",
         "240",
         null,
         null,
         null
        ],
        [
         "25",
         "8904223818935",
         "120",
         null,
         null,
         null
        ],
        [
         "26",
         "8904223818874",
         "100",
         null,
         null,
         null
        ],
        [
         "27",
         "8904223818997",
         "490",
         null,
         null,
         null
        ],
        [
         "28",
         "8904223818942",
         "133",
         null,
         null,
         null
        ],
        [
         "29",
         "8904223819024",
         "112",
         null,
         null,
         null
        ],
        [
         "30",
         "8904223819031",
         "112",
         null,
         null,
         null
        ],
        [
         "31",
         "8904223818980",
         "110",
         null,
         null,
         null
        ],
        [
         "32",
         "8904223819017",
         "115",
         null,
         null,
         null
        ],
        [
         "33",
         "8904223819093",
         "150",
         null,
         null,
         null
        ],
        [
         "34",
         "8904223819109",
         "100",
         null,
         null,
         null
        ],
        [
         "35",
         "8904223819116",
         "30",
         null,
         null,
         null
        ],
        [
         "36",
         "8904223819161",
         "115",
         null,
         null,
         null
        ],
        [
         "37",
         "8904223819147",
         "240",
         null,
         null,
         null
        ],
        [
         "38",
         "8904223819130",
         "350",
         null,
         null,
         null
        ],
        [
         "39",
         "8904223818881",
         "140",
         null,
         null,
         null
        ],
        [
         "40",
         "8904223818898",
         "140",
         null,
         null,
         null
        ],
        [
         "41",
         "8904223819277",
         "350",
         null,
         null,
         null
        ],
        [
         "42",
         "8904223819284",
         "350",
         null,
         null,
         null
        ],
        [
         "43",
         "8904223819345",
         "165",
         null,
         null,
         null
        ],
        [
         "44",
         "8904223819352",
         "165",
         null,
         null,
         null
        ],
        [
         "45",
         "8904223819239",
         "290",
         null,
         null,
         null
        ],
        [
         "46",
         "8904223819246",
         "290",
         null,
         null,
         null
        ],
        [
         "47",
         "8904223819253",
         "290",
         null,
         null,
         null
        ],
        [
         "48",
         "8904223819291",
         "112",
         null,
         null,
         null
        ],
        [
         "49",
         "8904223819437",
         "552",
         null,
         null,
         null
        ]
       ],
       "shape": {
        "columns": 5,
        "rows": 66
       }
      },
      "text/html": [
       "<div>\n",
       "<style scoped>\n",
       "    .dataframe tbody tr th:only-of-type {\n",
       "        vertical-align: middle;\n",
       "    }\n",
       "\n",
       "    .dataframe tbody tr th {\n",
       "        vertical-align: top;\n",
       "    }\n",
       "\n",
       "    .dataframe thead th {\n",
       "        text-align: right;\n",
       "    }\n",
       "</style>\n",
       "<table border=\"1\" class=\"dataframe\">\n",
       "  <thead>\n",
       "    <tr style=\"text-align: right;\">\n",
       "      <th></th>\n",
       "      <th>SKU</th>\n",
       "      <th>Weight (g)</th>\n",
       "      <th>Unnamed: 2</th>\n",
       "      <th>Unnamed: 3</th>\n",
       "      <th>Unnamed: 4</th>\n",
       "    </tr>\n",
       "  </thead>\n",
       "  <tbody>\n",
       "    <tr>\n",
       "      <th>0</th>\n",
       "      <td>8904223815682</td>\n",
       "      <td>210</td>\n",
       "      <td>NaN</td>\n",
       "      <td>NaN</td>\n",
       "      <td>NaN</td>\n",
       "    </tr>\n",
       "    <tr>\n",
       "      <th>1</th>\n",
       "      <td>8904223815859</td>\n",
       "      <td>165</td>\n",
       "      <td>NaN</td>\n",
       "      <td>NaN</td>\n",
       "      <td>NaN</td>\n",
       "    </tr>\n",
       "    <tr>\n",
       "      <th>2</th>\n",
       "      <td>8904223815866</td>\n",
       "      <td>113</td>\n",
       "      <td>NaN</td>\n",
       "      <td>NaN</td>\n",
       "      <td>NaN</td>\n",
       "    </tr>\n",
       "    <tr>\n",
       "      <th>3</th>\n",
       "      <td>8904223815873</td>\n",
       "      <td>65</td>\n",
       "      <td>NaN</td>\n",
       "      <td>NaN</td>\n",
       "      <td>NaN</td>\n",
       "    </tr>\n",
       "    <tr>\n",
       "      <th>4</th>\n",
       "      <td>8904223816214</td>\n",
       "      <td>120</td>\n",
       "      <td>NaN</td>\n",
       "      <td>NaN</td>\n",
       "      <td>NaN</td>\n",
       "    </tr>\n",
       "    <tr>\n",
       "      <th>...</th>\n",
       "      <td>...</td>\n",
       "      <td>...</td>\n",
       "      <td>...</td>\n",
       "      <td>...</td>\n",
       "      <td>...</td>\n",
       "    </tr>\n",
       "    <tr>\n",
       "      <th>61</th>\n",
       "      <td>8904223819505</td>\n",
       "      <td>210</td>\n",
       "      <td>NaN</td>\n",
       "      <td>NaN</td>\n",
       "      <td>NaN</td>\n",
       "    </tr>\n",
       "    <tr>\n",
       "      <th>62</th>\n",
       "      <td>8904223819499</td>\n",
       "      <td>210</td>\n",
       "      <td>NaN</td>\n",
       "      <td>NaN</td>\n",
       "      <td>NaN</td>\n",
       "    </tr>\n",
       "    <tr>\n",
       "      <th>63</th>\n",
       "      <td>8904223819512</td>\n",
       "      <td>210</td>\n",
       "      <td>NaN</td>\n",
       "      <td>NaN</td>\n",
       "      <td>NaN</td>\n",
       "    </tr>\n",
       "    <tr>\n",
       "      <th>64</th>\n",
       "      <td>8904223819543</td>\n",
       "      <td>300</td>\n",
       "      <td>NaN</td>\n",
       "      <td>NaN</td>\n",
       "      <td>NaN</td>\n",
       "    </tr>\n",
       "    <tr>\n",
       "      <th>65</th>\n",
       "      <td>SACHETS001</td>\n",
       "      <td>10</td>\n",
       "      <td>NaN</td>\n",
       "      <td>NaN</td>\n",
       "      <td>NaN</td>\n",
       "    </tr>\n",
       "  </tbody>\n",
       "</table>\n",
       "<p>66 rows × 5 columns</p>\n",
       "</div>"
      ],
      "text/plain": [
       "              SKU  Weight (g)  Unnamed: 2  Unnamed: 3  Unnamed: 4\n",
       "0   8904223815682         210         NaN         NaN         NaN\n",
       "1   8904223815859         165         NaN         NaN         NaN\n",
       "2   8904223815866         113         NaN         NaN         NaN\n",
       "3   8904223815873          65         NaN         NaN         NaN\n",
       "4   8904223816214         120         NaN         NaN         NaN\n",
       "..            ...         ...         ...         ...         ...\n",
       "61  8904223819505         210         NaN         NaN         NaN\n",
       "62  8904223819499         210         NaN         NaN         NaN\n",
       "63  8904223819512         210         NaN         NaN         NaN\n",
       "64  8904223819543         300         NaN         NaN         NaN\n",
       "65     SACHETS001          10         NaN         NaN         NaN\n",
       "\n",
       "[66 rows x 5 columns]"
      ]
     },
     "execution_count": 3,
     "metadata": {},
     "output_type": "execute_result"
    }
   ],
   "source": [
    "skuDf = pd.read_csv('./SKU Master.csv')\n",
    "skuDf"
   ]
  },
  {
   "cell_type": "code",
   "execution_count": 4,
   "metadata": {},
   "outputs": [
    {
     "name": "stdout",
     "output_type": "stream",
     "text": [
      "<class 'pandas.core.frame.DataFrame'>\n",
      "RangeIndex: 66 entries, 0 to 65\n",
      "Data columns (total 5 columns):\n",
      " #   Column      Non-Null Count  Dtype  \n",
      "---  ------      --------------  -----  \n",
      " 0   SKU         66 non-null     object \n",
      " 1   Weight (g)  66 non-null     int64  \n",
      " 2   Unnamed: 2  0 non-null      float64\n",
      " 3   Unnamed: 3  0 non-null      float64\n",
      " 4   Unnamed: 4  0 non-null      float64\n",
      "dtypes: float64(3), int64(1), object(1)\n",
      "memory usage: 2.7+ KB\n"
     ]
    }
   ],
   "source": [
    "skuDf.info()"
   ]
  },
  {
   "cell_type": "markdown",
   "metadata": {},
   "source": [
    "Drop unneccessary columns"
   ]
  },
  {
   "cell_type": "code",
   "execution_count": 5,
   "metadata": {},
   "outputs": [],
   "source": [
    "skuDf = skuDf[[\"SKU\", \"Weight (g)\"]]"
   ]
  },
  {
   "cell_type": "markdown",
   "metadata": {},
   "source": [
    "Find duplicates"
   ]
  },
  {
   "cell_type": "code",
   "execution_count": 6,
   "metadata": {},
   "outputs": [
    {
     "data": {
      "application/vnd.microsoft.datawrangler.viewer.v0+json": {
       "columns": [
        {
         "name": "index",
         "rawType": "int64",
         "type": "integer"
        },
        {
         "name": "SKU",
         "rawType": "object",
         "type": "string"
        },
        {
         "name": "Weight (g)",
         "rawType": "int64",
         "type": "integer"
        }
       ],
       "conversionMethod": "pd.DataFrame",
       "ref": "441abc60-fb61-4430-b35c-50ffa3ec8f07",
       "rows": [
        [
         "56",
         "GIFTBOX202002",
         "500"
        ]
       ],
       "shape": {
        "columns": 2,
        "rows": 1
       }
      },
      "text/html": [
       "<div>\n",
       "<style scoped>\n",
       "    .dataframe tbody tr th:only-of-type {\n",
       "        vertical-align: middle;\n",
       "    }\n",
       "\n",
       "    .dataframe tbody tr th {\n",
       "        vertical-align: top;\n",
       "    }\n",
       "\n",
       "    .dataframe thead th {\n",
       "        text-align: right;\n",
       "    }\n",
       "</style>\n",
       "<table border=\"1\" class=\"dataframe\">\n",
       "  <thead>\n",
       "    <tr style=\"text-align: right;\">\n",
       "      <th></th>\n",
       "      <th>SKU</th>\n",
       "      <th>Weight (g)</th>\n",
       "    </tr>\n",
       "  </thead>\n",
       "  <tbody>\n",
       "    <tr>\n",
       "      <th>56</th>\n",
       "      <td>GIFTBOX202002</td>\n",
       "      <td>500</td>\n",
       "    </tr>\n",
       "  </tbody>\n",
       "</table>\n",
       "</div>"
      ],
      "text/plain": [
       "              SKU  Weight (g)\n",
       "56  GIFTBOX202002         500"
      ]
     },
     "execution_count": 6,
     "metadata": {},
     "output_type": "execute_result"
    }
   ],
   "source": [
    "skuDf[skuDf['SKU'].duplicated()]"
   ]
  },
  {
   "cell_type": "markdown",
   "metadata": {},
   "source": [
    "Drop duplicates"
   ]
  },
  {
   "cell_type": "code",
   "execution_count": 7,
   "metadata": {},
   "outputs": [
    {
     "name": "stderr",
     "output_type": "stream",
     "text": [
      "C:\\Users\\mshaf\\AppData\\Local\\Temp\\ipykernel_36444\\105083256.py:1: SettingWithCopyWarning: \n",
      "A value is trying to be set on a copy of a slice from a DataFrame\n",
      "\n",
      "See the caveats in the documentation: https://pandas.pydata.org/pandas-docs/stable/user_guide/indexing.html#returning-a-view-versus-a-copy\n",
      "  skuDf.drop_duplicates(subset=[\"SKU\"], inplace=True)\n"
     ]
    }
   ],
   "source": [
    "skuDf.drop_duplicates(subset=[\"SKU\"], inplace=True)"
   ]
  },
  {
   "cell_type": "markdown",
   "metadata": {},
   "source": [
    "============== Pincodes =================="
   ]
  },
  {
   "cell_type": "code",
   "execution_count": 8,
   "metadata": {},
   "outputs": [
    {
     "data": {
      "application/vnd.microsoft.datawrangler.viewer.v0+json": {
       "columns": [
        {
         "name": "index",
         "rawType": "int64",
         "type": "integer"
        },
        {
         "name": "Warehouse Pincode",
         "rawType": "int64",
         "type": "integer"
        },
        {
         "name": "Customer Pincode",
         "rawType": "int64",
         "type": "integer"
        },
        {
         "name": "Zone",
         "rawType": "object",
         "type": "string"
        },
        {
         "name": "Unnamed: 3",
         "rawType": "float64",
         "type": "float"
        },
        {
         "name": "Unnamed: 4",
         "rawType": "float64",
         "type": "float"
        }
       ],
       "conversionMethod": "pd.DataFrame",
       "ref": "0b267cae-0753-4b5f-ad88-cbc315f2b3a7",
       "rows": [
        [
         "0",
         "121003",
         "507101",
         "d",
         null,
         null
        ],
        [
         "1",
         "121003",
         "486886",
         "d",
         null,
         null
        ],
        [
         "2",
         "121003",
         "532484",
         "d",
         null,
         null
        ],
        [
         "3",
         "121003",
         "143001",
         "b",
         null,
         null
        ],
        [
         "4",
         "121003",
         "515591",
         "d",
         null,
         null
        ],
        [
         "5",
         "121003",
         "326502",
         "d",
         null,
         null
        ],
        [
         "6",
         "121003",
         "208019",
         "b",
         null,
         null
        ],
        [
         "7",
         "121003",
         "140301",
         "b",
         null,
         null
        ],
        [
         "8",
         "121003",
         "396001",
         "d",
         null,
         null
        ],
        [
         "9",
         "121003",
         "711106",
         "d",
         null,
         null
        ],
        [
         "10",
         "121003",
         "284001",
         "b",
         null,
         null
        ],
        [
         "11",
         "121003",
         "441601",
         "d",
         null,
         null
        ],
        [
         "12",
         "121003",
         "248006",
         "b",
         null,
         null
        ],
        [
         "13",
         "121003",
         "485001",
         "d",
         null,
         null
        ],
        [
         "14",
         "121003",
         "845438",
         "d",
         null,
         null
        ],
        [
         "15",
         "121003",
         "463106",
         "d",
         null,
         null
        ],
        [
         "16",
         "121003",
         "140301",
         "b",
         null,
         null
        ],
        [
         "17",
         "121003",
         "495671",
         "d",
         null,
         null
        ],
        [
         "18",
         "121003",
         "673002",
         "e",
         null,
         null
        ],
        [
         "19",
         "121003",
         "208002",
         "b",
         null,
         null
        ],
        [
         "20",
         "121003",
         "416010",
         "d",
         null,
         null
        ],
        [
         "21",
         "121003",
         "226010",
         "b",
         null,
         null
        ],
        [
         "22",
         "121003",
         "400705",
         "d",
         null,
         null
        ],
        [
         "23",
         "121003",
         "262405",
         "b",
         null,
         null
        ],
        [
         "24",
         "121003",
         "394210",
         "d",
         null,
         null
        ],
        [
         "25",
         "121003",
         "411014",
         "d",
         null,
         null
        ],
        [
         "26",
         "121003",
         "783301",
         "e",
         null,
         null
        ],
        [
         "27",
         "121003",
         "486661",
         "d",
         null,
         null
        ],
        [
         "28",
         "121003",
         "244001",
         "b",
         null,
         null
        ],
        [
         "29",
         "121003",
         "492001",
         "d",
         null,
         null
        ],
        [
         "30",
         "121003",
         "517128",
         "d",
         null,
         null
        ],
        [
         "31",
         "121003",
         "562110",
         "d",
         null,
         null
        ],
        [
         "32",
         "121003",
         "831006",
         "d",
         null,
         null
        ],
        [
         "33",
         "121003",
         "140604",
         "b",
         null,
         null
        ],
        [
         "34",
         "121003",
         "723146",
         "d",
         null,
         null
        ],
        [
         "35",
         "121003",
         "421204",
         "d",
         null,
         null
        ],
        [
         "36",
         "121003",
         "263139",
         "b",
         null,
         null
        ],
        [
         "37",
         "121003",
         "743263",
         "d",
         null,
         null
        ],
        [
         "38",
         "121003",
         "392150",
         "d",
         null,
         null
        ],
        [
         "39",
         "121003",
         "382830",
         "d",
         null,
         null
        ],
        [
         "40",
         "121003",
         "711303",
         "d",
         null,
         null
        ],
        [
         "41",
         "121003",
         "283102",
         "b",
         null,
         null
        ],
        [
         "42",
         "121003",
         "370201",
         "d",
         null,
         null
        ],
        [
         "43",
         "121003",
         "248001",
         "b",
         null,
         null
        ],
        [
         "44",
         "121003",
         "144001",
         "b",
         null,
         null
        ],
        [
         "45",
         "121003",
         "403401",
         "d",
         null,
         null
        ],
        [
         "46",
         "121003",
         "452001",
         "d",
         null,
         null
        ],
        [
         "47",
         "121003",
         "721636",
         "d",
         null,
         null
        ],
        [
         "48",
         "121003",
         "831002",
         "d",
         null,
         null
        ],
        [
         "49",
         "121003",
         "226004",
         "b",
         null,
         null
        ]
       ],
       "shape": {
        "columns": 5,
        "rows": 124
       }
      },
      "text/html": [
       "<div>\n",
       "<style scoped>\n",
       "    .dataframe tbody tr th:only-of-type {\n",
       "        vertical-align: middle;\n",
       "    }\n",
       "\n",
       "    .dataframe tbody tr th {\n",
       "        vertical-align: top;\n",
       "    }\n",
       "\n",
       "    .dataframe thead th {\n",
       "        text-align: right;\n",
       "    }\n",
       "</style>\n",
       "<table border=\"1\" class=\"dataframe\">\n",
       "  <thead>\n",
       "    <tr style=\"text-align: right;\">\n",
       "      <th></th>\n",
       "      <th>Warehouse Pincode</th>\n",
       "      <th>Customer Pincode</th>\n",
       "      <th>Zone</th>\n",
       "      <th>Unnamed: 3</th>\n",
       "      <th>Unnamed: 4</th>\n",
       "    </tr>\n",
       "  </thead>\n",
       "  <tbody>\n",
       "    <tr>\n",
       "      <th>0</th>\n",
       "      <td>121003</td>\n",
       "      <td>507101</td>\n",
       "      <td>d</td>\n",
       "      <td>NaN</td>\n",
       "      <td>NaN</td>\n",
       "    </tr>\n",
       "    <tr>\n",
       "      <th>1</th>\n",
       "      <td>121003</td>\n",
       "      <td>486886</td>\n",
       "      <td>d</td>\n",
       "      <td>NaN</td>\n",
       "      <td>NaN</td>\n",
       "    </tr>\n",
       "    <tr>\n",
       "      <th>2</th>\n",
       "      <td>121003</td>\n",
       "      <td>532484</td>\n",
       "      <td>d</td>\n",
       "      <td>NaN</td>\n",
       "      <td>NaN</td>\n",
       "    </tr>\n",
       "    <tr>\n",
       "      <th>3</th>\n",
       "      <td>121003</td>\n",
       "      <td>143001</td>\n",
       "      <td>b</td>\n",
       "      <td>NaN</td>\n",
       "      <td>NaN</td>\n",
       "    </tr>\n",
       "    <tr>\n",
       "      <th>4</th>\n",
       "      <td>121003</td>\n",
       "      <td>515591</td>\n",
       "      <td>d</td>\n",
       "      <td>NaN</td>\n",
       "      <td>NaN</td>\n",
       "    </tr>\n",
       "    <tr>\n",
       "      <th>...</th>\n",
       "      <td>...</td>\n",
       "      <td>...</td>\n",
       "      <td>...</td>\n",
       "      <td>...</td>\n",
       "      <td>...</td>\n",
       "    </tr>\n",
       "    <tr>\n",
       "      <th>119</th>\n",
       "      <td>121003</td>\n",
       "      <td>325207</td>\n",
       "      <td>b</td>\n",
       "      <td>NaN</td>\n",
       "      <td>NaN</td>\n",
       "    </tr>\n",
       "    <tr>\n",
       "      <th>120</th>\n",
       "      <td>121003</td>\n",
       "      <td>303702</td>\n",
       "      <td>b</td>\n",
       "      <td>NaN</td>\n",
       "      <td>NaN</td>\n",
       "    </tr>\n",
       "    <tr>\n",
       "      <th>121</th>\n",
       "      <td>121003</td>\n",
       "      <td>313301</td>\n",
       "      <td>b</td>\n",
       "      <td>NaN</td>\n",
       "      <td>NaN</td>\n",
       "    </tr>\n",
       "    <tr>\n",
       "      <th>122</th>\n",
       "      <td>121003</td>\n",
       "      <td>173212</td>\n",
       "      <td>e</td>\n",
       "      <td>NaN</td>\n",
       "      <td>NaN</td>\n",
       "    </tr>\n",
       "    <tr>\n",
       "      <th>123</th>\n",
       "      <td>121003</td>\n",
       "      <td>302020</td>\n",
       "      <td>b</td>\n",
       "      <td>NaN</td>\n",
       "      <td>NaN</td>\n",
       "    </tr>\n",
       "  </tbody>\n",
       "</table>\n",
       "<p>124 rows × 5 columns</p>\n",
       "</div>"
      ],
      "text/plain": [
       "     Warehouse Pincode  Customer Pincode Zone  Unnamed: 3  Unnamed: 4\n",
       "0               121003            507101    d         NaN         NaN\n",
       "1               121003            486886    d         NaN         NaN\n",
       "2               121003            532484    d         NaN         NaN\n",
       "3               121003            143001    b         NaN         NaN\n",
       "4               121003            515591    d         NaN         NaN\n",
       "..                 ...               ...  ...         ...         ...\n",
       "119             121003            325207    b         NaN         NaN\n",
       "120             121003            303702    b         NaN         NaN\n",
       "121             121003            313301    b         NaN         NaN\n",
       "122             121003            173212    e         NaN         NaN\n",
       "123             121003            302020    b         NaN         NaN\n",
       "\n",
       "[124 rows x 5 columns]"
      ]
     },
     "execution_count": 8,
     "metadata": {},
     "output_type": "execute_result"
    }
   ],
   "source": [
    "pincodesDf = pd.read_csv('./pincodes.csv')\n",
    "pincodesDf"
   ]
  },
  {
   "cell_type": "code",
   "execution_count": 9,
   "metadata": {},
   "outputs": [
    {
     "name": "stdout",
     "output_type": "stream",
     "text": [
      "<class 'pandas.core.frame.DataFrame'>\n",
      "RangeIndex: 124 entries, 0 to 123\n",
      "Data columns (total 5 columns):\n",
      " #   Column             Non-Null Count  Dtype  \n",
      "---  ------             --------------  -----  \n",
      " 0   Warehouse Pincode  124 non-null    int64  \n",
      " 1   Customer Pincode   124 non-null    int64  \n",
      " 2   Zone               124 non-null    object \n",
      " 3   Unnamed: 3         0 non-null      float64\n",
      " 4   Unnamed: 4         0 non-null      float64\n",
      "dtypes: float64(2), int64(2), object(1)\n",
      "memory usage: 5.0+ KB\n"
     ]
    }
   ],
   "source": [
    "pincodesDf.info()"
   ]
  },
  {
   "cell_type": "markdown",
   "metadata": {},
   "source": [
    "Drop unneccessary columns"
   ]
  },
  {
   "cell_type": "code",
   "execution_count": 10,
   "metadata": {},
   "outputs": [],
   "source": [
    "pincodesDf = pincodesDf[[\"Warehouse Pincode\", \"Customer Pincode\", \"Zone\"]]"
   ]
  },
  {
   "cell_type": "code",
   "execution_count": 11,
   "metadata": {},
   "outputs": [
    {
     "data": {
      "application/vnd.microsoft.datawrangler.viewer.v0+json": {
       "columns": [
        {
         "name": "index",
         "rawType": "int64",
         "type": "integer"
        },
        {
         "name": "Warehouse Pincode",
         "rawType": "int64",
         "type": "integer"
        },
        {
         "name": "Customer Pincode",
         "rawType": "int64",
         "type": "integer"
        },
        {
         "name": "Zone",
         "rawType": "object",
         "type": "string"
        }
       ],
       "conversionMethod": "pd.DataFrame",
       "ref": "579c5fc8-e74f-457b-bb31-22041129d561",
       "rows": [
        [
         "16",
         "121003",
         "140301",
         "b"
        ],
        [
         "50",
         "121003",
         "248001",
         "b"
        ],
        [
         "72",
         "121003",
         "302002",
         "b"
        ],
        [
         "75",
         "121003",
         "302017",
         "b"
        ],
        [
         "77",
         "121003",
         "313001",
         "b"
        ],
        [
         "78",
         "121003",
         "313001",
         "b"
        ],
        [
         "82",
         "121003",
         "313001",
         "b"
        ],
        [
         "90",
         "121003",
         "302017",
         "b"
        ],
        [
         "101",
         "121003",
         "335001",
         "b"
        ],
        [
         "106",
         "121003",
         "302031",
         "b"
        ],
        [
         "113",
         "121003",
         "302017",
         "b"
        ],
        [
         "116",
         "121003",
         "302018",
         "b"
        ],
        [
         "117",
         "121003",
         "302017",
         "b"
        ],
        [
         "118",
         "121003",
         "302012",
         "b"
        ],
        [
         "122",
         "121003",
         "173212",
         "e"
        ],
        [
         "123",
         "121003",
         "302020",
         "b"
        ]
       ],
       "shape": {
        "columns": 3,
        "rows": 16
       }
      },
      "text/html": [
       "<div>\n",
       "<style scoped>\n",
       "    .dataframe tbody tr th:only-of-type {\n",
       "        vertical-align: middle;\n",
       "    }\n",
       "\n",
       "    .dataframe tbody tr th {\n",
       "        vertical-align: top;\n",
       "    }\n",
       "\n",
       "    .dataframe thead th {\n",
       "        text-align: right;\n",
       "    }\n",
       "</style>\n",
       "<table border=\"1\" class=\"dataframe\">\n",
       "  <thead>\n",
       "    <tr style=\"text-align: right;\">\n",
       "      <th></th>\n",
       "      <th>Warehouse Pincode</th>\n",
       "      <th>Customer Pincode</th>\n",
       "      <th>Zone</th>\n",
       "    </tr>\n",
       "  </thead>\n",
       "  <tbody>\n",
       "    <tr>\n",
       "      <th>16</th>\n",
       "      <td>121003</td>\n",
       "      <td>140301</td>\n",
       "      <td>b</td>\n",
       "    </tr>\n",
       "    <tr>\n",
       "      <th>50</th>\n",
       "      <td>121003</td>\n",
       "      <td>248001</td>\n",
       "      <td>b</td>\n",
       "    </tr>\n",
       "    <tr>\n",
       "      <th>72</th>\n",
       "      <td>121003</td>\n",
       "      <td>302002</td>\n",
       "      <td>b</td>\n",
       "    </tr>\n",
       "    <tr>\n",
       "      <th>75</th>\n",
       "      <td>121003</td>\n",
       "      <td>302017</td>\n",
       "      <td>b</td>\n",
       "    </tr>\n",
       "    <tr>\n",
       "      <th>77</th>\n",
       "      <td>121003</td>\n",
       "      <td>313001</td>\n",
       "      <td>b</td>\n",
       "    </tr>\n",
       "    <tr>\n",
       "      <th>78</th>\n",
       "      <td>121003</td>\n",
       "      <td>313001</td>\n",
       "      <td>b</td>\n",
       "    </tr>\n",
       "    <tr>\n",
       "      <th>82</th>\n",
       "      <td>121003</td>\n",
       "      <td>313001</td>\n",
       "      <td>b</td>\n",
       "    </tr>\n",
       "    <tr>\n",
       "      <th>90</th>\n",
       "      <td>121003</td>\n",
       "      <td>302017</td>\n",
       "      <td>b</td>\n",
       "    </tr>\n",
       "    <tr>\n",
       "      <th>101</th>\n",
       "      <td>121003</td>\n",
       "      <td>335001</td>\n",
       "      <td>b</td>\n",
       "    </tr>\n",
       "    <tr>\n",
       "      <th>106</th>\n",
       "      <td>121003</td>\n",
       "      <td>302031</td>\n",
       "      <td>b</td>\n",
       "    </tr>\n",
       "    <tr>\n",
       "      <th>113</th>\n",
       "      <td>121003</td>\n",
       "      <td>302017</td>\n",
       "      <td>b</td>\n",
       "    </tr>\n",
       "    <tr>\n",
       "      <th>116</th>\n",
       "      <td>121003</td>\n",
       "      <td>302018</td>\n",
       "      <td>b</td>\n",
       "    </tr>\n",
       "    <tr>\n",
       "      <th>117</th>\n",
       "      <td>121003</td>\n",
       "      <td>302017</td>\n",
       "      <td>b</td>\n",
       "    </tr>\n",
       "    <tr>\n",
       "      <th>118</th>\n",
       "      <td>121003</td>\n",
       "      <td>302012</td>\n",
       "      <td>b</td>\n",
       "    </tr>\n",
       "    <tr>\n",
       "      <th>122</th>\n",
       "      <td>121003</td>\n",
       "      <td>173212</td>\n",
       "      <td>e</td>\n",
       "    </tr>\n",
       "    <tr>\n",
       "      <th>123</th>\n",
       "      <td>121003</td>\n",
       "      <td>302020</td>\n",
       "      <td>b</td>\n",
       "    </tr>\n",
       "  </tbody>\n",
       "</table>\n",
       "</div>"
      ],
      "text/plain": [
       "     Warehouse Pincode  Customer Pincode Zone\n",
       "16              121003            140301    b\n",
       "50              121003            248001    b\n",
       "72              121003            302002    b\n",
       "75              121003            302017    b\n",
       "77              121003            313001    b\n",
       "78              121003            313001    b\n",
       "82              121003            313001    b\n",
       "90              121003            302017    b\n",
       "101             121003            335001    b\n",
       "106             121003            302031    b\n",
       "113             121003            302017    b\n",
       "116             121003            302018    b\n",
       "117             121003            302017    b\n",
       "118             121003            302012    b\n",
       "122             121003            173212    e\n",
       "123             121003            302020    b"
      ]
     },
     "execution_count": 11,
     "metadata": {},
     "output_type": "execute_result"
    }
   ],
   "source": [
    "pincodesDf[pincodesDf.duplicated(subset=[\"Warehouse Pincode\", \"Customer Pincode\"])]"
   ]
  },
  {
   "cell_type": "code",
   "execution_count": 12,
   "metadata": {},
   "outputs": [
    {
     "name": "stderr",
     "output_type": "stream",
     "text": [
      "C:\\Users\\mshaf\\AppData\\Local\\Temp\\ipykernel_36444\\3913719337.py:1: SettingWithCopyWarning: \n",
      "A value is trying to be set on a copy of a slice from a DataFrame\n",
      "\n",
      "See the caveats in the documentation: https://pandas.pydata.org/pandas-docs/stable/user_guide/indexing.html#returning-a-view-versus-a-copy\n",
      "  pincodesDf.drop_duplicates(subset=[\"Warehouse Pincode\", \"Customer Pincode\"], inplace=True)\n"
     ]
    }
   ],
   "source": [
    "pincodesDf.drop_duplicates(subset=[\"Warehouse Pincode\", \"Customer Pincode\"], inplace=True)"
   ]
  },
  {
   "cell_type": "code",
   "execution_count": 13,
   "metadata": {},
   "outputs": [
    {
     "data": {
      "application/vnd.microsoft.datawrangler.viewer.v0+json": {
       "columns": [
        {
         "name": "index",
         "rawType": "int64",
         "type": "integer"
        },
        {
         "name": "Warehouse Pincode",
         "rawType": "int64",
         "type": "integer"
        },
        {
         "name": "Customer Pincode",
         "rawType": "int64",
         "type": "integer"
        },
        {
         "name": "Zone",
         "rawType": "object",
         "type": "string"
        }
       ],
       "conversionMethod": "pd.DataFrame",
       "ref": "fbd7b8bc-ef56-4b26-ad3a-b738e0b20447",
       "rows": [
        [
         "0",
         "121003",
         "507101",
         "d"
        ],
        [
         "1",
         "121003",
         "486886",
         "d"
        ],
        [
         "2",
         "121003",
         "532484",
         "d"
        ],
        [
         "3",
         "121003",
         "143001",
         "b"
        ],
        [
         "4",
         "121003",
         "515591",
         "d"
        ],
        [
         "5",
         "121003",
         "326502",
         "d"
        ],
        [
         "6",
         "121003",
         "208019",
         "b"
        ],
        [
         "7",
         "121003",
         "140301",
         "b"
        ],
        [
         "8",
         "121003",
         "396001",
         "d"
        ],
        [
         "9",
         "121003",
         "711106",
         "d"
        ],
        [
         "10",
         "121003",
         "284001",
         "b"
        ],
        [
         "11",
         "121003",
         "441601",
         "d"
        ],
        [
         "12",
         "121003",
         "248006",
         "b"
        ],
        [
         "13",
         "121003",
         "485001",
         "d"
        ],
        [
         "14",
         "121003",
         "845438",
         "d"
        ],
        [
         "15",
         "121003",
         "463106",
         "d"
        ],
        [
         "17",
         "121003",
         "495671",
         "d"
        ],
        [
         "18",
         "121003",
         "673002",
         "e"
        ],
        [
         "19",
         "121003",
         "208002",
         "b"
        ],
        [
         "20",
         "121003",
         "416010",
         "d"
        ],
        [
         "21",
         "121003",
         "226010",
         "b"
        ],
        [
         "22",
         "121003",
         "400705",
         "d"
        ],
        [
         "23",
         "121003",
         "262405",
         "b"
        ],
        [
         "24",
         "121003",
         "394210",
         "d"
        ],
        [
         "25",
         "121003",
         "411014",
         "d"
        ],
        [
         "26",
         "121003",
         "783301",
         "e"
        ],
        [
         "27",
         "121003",
         "486661",
         "d"
        ],
        [
         "28",
         "121003",
         "244001",
         "b"
        ],
        [
         "29",
         "121003",
         "492001",
         "d"
        ],
        [
         "30",
         "121003",
         "517128",
         "d"
        ],
        [
         "31",
         "121003",
         "562110",
         "d"
        ],
        [
         "32",
         "121003",
         "831006",
         "d"
        ],
        [
         "33",
         "121003",
         "140604",
         "b"
        ],
        [
         "34",
         "121003",
         "723146",
         "d"
        ],
        [
         "35",
         "121003",
         "421204",
         "d"
        ],
        [
         "36",
         "121003",
         "263139",
         "b"
        ],
        [
         "37",
         "121003",
         "743263",
         "d"
        ],
        [
         "38",
         "121003",
         "392150",
         "d"
        ],
        [
         "39",
         "121003",
         "382830",
         "d"
        ],
        [
         "40",
         "121003",
         "711303",
         "d"
        ],
        [
         "41",
         "121003",
         "283102",
         "b"
        ],
        [
         "42",
         "121003",
         "370201",
         "d"
        ],
        [
         "43",
         "121003",
         "248001",
         "b"
        ],
        [
         "44",
         "121003",
         "144001",
         "b"
        ],
        [
         "45",
         "121003",
         "403401",
         "d"
        ],
        [
         "46",
         "121003",
         "452001",
         "d"
        ],
        [
         "47",
         "121003",
         "721636",
         "d"
        ],
        [
         "48",
         "121003",
         "831002",
         "d"
        ],
        [
         "49",
         "121003",
         "226004",
         "b"
        ],
        [
         "51",
         "121003",
         "410206",
         "d"
        ]
       ],
       "shape": {
        "columns": 3,
        "rows": 108
       }
      },
      "text/html": [
       "<div>\n",
       "<style scoped>\n",
       "    .dataframe tbody tr th:only-of-type {\n",
       "        vertical-align: middle;\n",
       "    }\n",
       "\n",
       "    .dataframe tbody tr th {\n",
       "        vertical-align: top;\n",
       "    }\n",
       "\n",
       "    .dataframe thead th {\n",
       "        text-align: right;\n",
       "    }\n",
       "</style>\n",
       "<table border=\"1\" class=\"dataframe\">\n",
       "  <thead>\n",
       "    <tr style=\"text-align: right;\">\n",
       "      <th></th>\n",
       "      <th>Warehouse Pincode</th>\n",
       "      <th>Customer Pincode</th>\n",
       "      <th>Zone</th>\n",
       "    </tr>\n",
       "  </thead>\n",
       "  <tbody>\n",
       "    <tr>\n",
       "      <th>0</th>\n",
       "      <td>121003</td>\n",
       "      <td>507101</td>\n",
       "      <td>d</td>\n",
       "    </tr>\n",
       "    <tr>\n",
       "      <th>1</th>\n",
       "      <td>121003</td>\n",
       "      <td>486886</td>\n",
       "      <td>d</td>\n",
       "    </tr>\n",
       "    <tr>\n",
       "      <th>2</th>\n",
       "      <td>121003</td>\n",
       "      <td>532484</td>\n",
       "      <td>d</td>\n",
       "    </tr>\n",
       "    <tr>\n",
       "      <th>3</th>\n",
       "      <td>121003</td>\n",
       "      <td>143001</td>\n",
       "      <td>b</td>\n",
       "    </tr>\n",
       "    <tr>\n",
       "      <th>4</th>\n",
       "      <td>121003</td>\n",
       "      <td>515591</td>\n",
       "      <td>d</td>\n",
       "    </tr>\n",
       "    <tr>\n",
       "      <th>...</th>\n",
       "      <td>...</td>\n",
       "      <td>...</td>\n",
       "      <td>...</td>\n",
       "    </tr>\n",
       "    <tr>\n",
       "      <th>114</th>\n",
       "      <td>121003</td>\n",
       "      <td>324008</td>\n",
       "      <td>b</td>\n",
       "    </tr>\n",
       "    <tr>\n",
       "      <th>115</th>\n",
       "      <td>121003</td>\n",
       "      <td>302020</td>\n",
       "      <td>b</td>\n",
       "    </tr>\n",
       "    <tr>\n",
       "      <th>119</th>\n",
       "      <td>121003</td>\n",
       "      <td>325207</td>\n",
       "      <td>b</td>\n",
       "    </tr>\n",
       "    <tr>\n",
       "      <th>120</th>\n",
       "      <td>121003</td>\n",
       "      <td>303702</td>\n",
       "      <td>b</td>\n",
       "    </tr>\n",
       "    <tr>\n",
       "      <th>121</th>\n",
       "      <td>121003</td>\n",
       "      <td>313301</td>\n",
       "      <td>b</td>\n",
       "    </tr>\n",
       "  </tbody>\n",
       "</table>\n",
       "<p>108 rows × 3 columns</p>\n",
       "</div>"
      ],
      "text/plain": [
       "     Warehouse Pincode  Customer Pincode Zone\n",
       "0               121003            507101    d\n",
       "1               121003            486886    d\n",
       "2               121003            532484    d\n",
       "3               121003            143001    b\n",
       "4               121003            515591    d\n",
       "..                 ...               ...  ...\n",
       "114             121003            324008    b\n",
       "115             121003            302020    b\n",
       "119             121003            325207    b\n",
       "120             121003            303702    b\n",
       "121             121003            313301    b\n",
       "\n",
       "[108 rows x 3 columns]"
      ]
     },
     "execution_count": 13,
     "metadata": {},
     "output_type": "execute_result"
    }
   ],
   "source": [
    "pincodesDf"
   ]
  },
  {
   "cell_type": "markdown",
   "metadata": {},
   "source": [
    "============== Order Report =================="
   ]
  },
  {
   "cell_type": "code",
   "execution_count": 14,
   "metadata": {},
   "outputs": [
    {
     "data": {
      "application/vnd.microsoft.datawrangler.viewer.v0+json": {
       "columns": [
        {
         "name": "index",
         "rawType": "int64",
         "type": "integer"
        },
        {
         "name": "ExternOrderNo",
         "rawType": "int64",
         "type": "integer"
        },
        {
         "name": "SKU",
         "rawType": "object",
         "type": "string"
        },
        {
         "name": "Order Qty",
         "rawType": "float64",
         "type": "float"
        },
        {
         "name": "Unnamed: 3",
         "rawType": "float64",
         "type": "float"
        },
        {
         "name": "Unnamed: 4",
         "rawType": "float64",
         "type": "float"
        }
       ],
       "conversionMethod": "pd.DataFrame",
       "ref": "89e1a092-99d4-47c3-8df6-2ab2e450d5a0",
       "rows": [
        [
         "0",
         "2001827036",
         "8904223818706",
         "1.0",
         null,
         null
        ],
        [
         "1",
         "2001827036",
         "8904223819093",
         "1.0",
         null,
         null
        ],
        [
         "2",
         "2001827036",
         "8904223819109",
         "1.0",
         null,
         null
        ],
        [
         "3",
         "2001827036",
         "8904223818430",
         "1.0",
         null,
         null
        ],
        [
         "4",
         "2001827036",
         "8904223819277",
         "1.0",
         null,
         null
        ],
        [
         "5",
         "2001827036",
         "GIFTBOX202002",
         "1.0",
         null,
         null
        ],
        [
         "6",
         "2001827036",
         "8904223818638",
         "2.0",
         null,
         null
        ],
        [
         "7",
         "2001827036",
         "SACHETS001",
         "1.0",
         null,
         null
        ],
        [
         "8",
         "2001825261",
         "8904223819024",
         "4.0",
         null,
         null
        ],
        [
         "9",
         "2001825261",
         "8904223819291",
         "4.0",
         null,
         null
        ],
        [
         "10",
         "2001825261",
         "8904223818638",
         "3.0",
         null,
         null
        ],
        [
         "11",
         "2001825261",
         "8904223818669",
         "1.0",
         null,
         null
        ],
        [
         "12",
         "2001825261",
         "SACHETS001",
         "1.0",
         null,
         null
        ],
        [
         "13",
         "2001823564",
         "8904223819291",
         "2.0",
         null,
         null
        ],
        [
         "14",
         "2001823564",
         "8904223819031",
         "2.0",
         null,
         null
        ],
        [
         "15",
         "2001823564",
         "8904223819024",
         "2.0",
         null,
         null
        ],
        [
         "16",
         "2001822466",
         "8904223819468",
         "2.0",
         null,
         null
        ],
        [
         "17",
         "2001822466",
         "8904223819291",
         "8.0",
         null,
         null
        ],
        [
         "18",
         "2001821995",
         "8904223819130",
         "1.0",
         null,
         null
        ],
        [
         "19",
         "2001821995",
         "8904223818706",
         "1.0",
         null,
         null
        ],
        [
         "20",
         "2001821766",
         "8904223818591",
         "2.0",
         null,
         null
        ],
        [
         "21",
         "2001821750",
         "8904223818850",
         "1.0",
         null,
         null
        ],
        [
         "22",
         "2001821750",
         "8904223818430",
         "1.0",
         null,
         null
        ],
        [
         "23",
         "2001821750",
         "8904223819130",
         "1.0",
         null,
         null
        ],
        [
         "24",
         "2001821742",
         "8904223819468",
         "1.0",
         null,
         null
        ],
        [
         "25",
         "2001821679",
         "8904223818430",
         "1.0",
         null,
         null
        ],
        [
         "26",
         "2001821502",
         "8904223818980",
         "1.0",
         null,
         null
        ],
        [
         "27",
         "2001821502",
         "8904223819031",
         "2.0",
         null,
         null
        ],
        [
         "28",
         "2001821502",
         "8904223819024",
         "2.0",
         null,
         null
        ],
        [
         "29",
         "2001821284",
         "8904223818614",
         "1.0",
         null,
         null
        ],
        [
         "30",
         "2001821284",
         "8904223819024",
         "1.0",
         null,
         null
        ],
        [
         "31",
         "2001821190",
         "8904223819321",
         "1.0",
         null,
         null
        ],
        [
         "32",
         "2001821190",
         "8904223819338",
         "1.0",
         null,
         null
        ],
        [
         "33",
         "2001821185",
         "8904223818942",
         "2.0",
         null,
         null
        ],
        [
         "34",
         "2001821185",
         "8904223818683",
         "2.0",
         null,
         null
        ],
        [
         "35",
         "2001821185",
         "8904223819239",
         "1.0",
         null,
         null
        ],
        [
         "36",
         "2001821185",
         "8904223819246",
         "1.0",
         null,
         null
        ],
        [
         "37",
         "2001821185",
         "8904223819253",
         "1.0",
         null,
         null
        ],
        [
         "38",
         "2001821185",
         "8904223818669",
         "1.0",
         null,
         null
        ],
        [
         "39",
         "2001821185",
         "8904223819147",
         "1.0",
         null,
         null
        ],
        [
         "40",
         "2001821185",
         "8904223818850",
         "1.0",
         null,
         null
        ],
        [
         "41",
         "2001820978",
         "8904223815859",
         "1.0",
         null,
         null
        ],
        [
         "42",
         "2001820978",
         "8904223817501",
         "1.0",
         null,
         null
        ],
        [
         "43",
         "2001820690",
         "8904223817273",
         "1.0",
         null,
         null
        ],
        [
         "44",
         "2001819252",
         "8904223818942",
         "1.0",
         null,
         null
        ],
        [
         "45",
         "2001819252",
         "8904223818706",
         "1.0",
         null,
         null
        ],
        [
         "46",
         "2001819252",
         "SACHETS001",
         "1.0",
         null,
         null
        ],
        [
         "47",
         "2001818390",
         "8904223819147",
         "1.0",
         null,
         null
        ],
        [
         "48",
         "2001818390",
         "8904223818935",
         "4.0",
         null,
         null
        ],
        [
         "49",
         "2001818390",
         "8904223818683",
         "1.0",
         null,
         null
        ]
       ],
       "shape": {
        "columns": 5,
        "rows": 400
       }
      },
      "text/html": [
       "<div>\n",
       "<style scoped>\n",
       "    .dataframe tbody tr th:only-of-type {\n",
       "        vertical-align: middle;\n",
       "    }\n",
       "\n",
       "    .dataframe tbody tr th {\n",
       "        vertical-align: top;\n",
       "    }\n",
       "\n",
       "    .dataframe thead th {\n",
       "        text-align: right;\n",
       "    }\n",
       "</style>\n",
       "<table border=\"1\" class=\"dataframe\">\n",
       "  <thead>\n",
       "    <tr style=\"text-align: right;\">\n",
       "      <th></th>\n",
       "      <th>ExternOrderNo</th>\n",
       "      <th>SKU</th>\n",
       "      <th>Order Qty</th>\n",
       "      <th>Unnamed: 3</th>\n",
       "      <th>Unnamed: 4</th>\n",
       "    </tr>\n",
       "  </thead>\n",
       "  <tbody>\n",
       "    <tr>\n",
       "      <th>0</th>\n",
       "      <td>2001827036</td>\n",
       "      <td>8904223818706</td>\n",
       "      <td>1.0</td>\n",
       "      <td>NaN</td>\n",
       "      <td>NaN</td>\n",
       "    </tr>\n",
       "    <tr>\n",
       "      <th>1</th>\n",
       "      <td>2001827036</td>\n",
       "      <td>8904223819093</td>\n",
       "      <td>1.0</td>\n",
       "      <td>NaN</td>\n",
       "      <td>NaN</td>\n",
       "    </tr>\n",
       "    <tr>\n",
       "      <th>2</th>\n",
       "      <td>2001827036</td>\n",
       "      <td>8904223819109</td>\n",
       "      <td>1.0</td>\n",
       "      <td>NaN</td>\n",
       "      <td>NaN</td>\n",
       "    </tr>\n",
       "    <tr>\n",
       "      <th>3</th>\n",
       "      <td>2001827036</td>\n",
       "      <td>8904223818430</td>\n",
       "      <td>1.0</td>\n",
       "      <td>NaN</td>\n",
       "      <td>NaN</td>\n",
       "    </tr>\n",
       "    <tr>\n",
       "      <th>4</th>\n",
       "      <td>2001827036</td>\n",
       "      <td>8904223819277</td>\n",
       "      <td>1.0</td>\n",
       "      <td>NaN</td>\n",
       "      <td>NaN</td>\n",
       "    </tr>\n",
       "    <tr>\n",
       "      <th>...</th>\n",
       "      <td>...</td>\n",
       "      <td>...</td>\n",
       "      <td>...</td>\n",
       "      <td>...</td>\n",
       "      <td>...</td>\n",
       "    </tr>\n",
       "    <tr>\n",
       "      <th>395</th>\n",
       "      <td>2001806229</td>\n",
       "      <td>8904223818942</td>\n",
       "      <td>1.0</td>\n",
       "      <td>NaN</td>\n",
       "      <td>NaN</td>\n",
       "    </tr>\n",
       "    <tr>\n",
       "      <th>396</th>\n",
       "      <td>2001806229</td>\n",
       "      <td>8904223818850</td>\n",
       "      <td>1.0</td>\n",
       "      <td>NaN</td>\n",
       "      <td>NaN</td>\n",
       "    </tr>\n",
       "    <tr>\n",
       "      <th>397</th>\n",
       "      <td>2001806226</td>\n",
       "      <td>8904223818850</td>\n",
       "      <td>2.0</td>\n",
       "      <td>NaN</td>\n",
       "      <td>NaN</td>\n",
       "    </tr>\n",
       "    <tr>\n",
       "      <th>398</th>\n",
       "      <td>2001806210</td>\n",
       "      <td>8904223816214</td>\n",
       "      <td>1.0</td>\n",
       "      <td>NaN</td>\n",
       "      <td>NaN</td>\n",
       "    </tr>\n",
       "    <tr>\n",
       "      <th>399</th>\n",
       "      <td>2001806210</td>\n",
       "      <td>8904223818874</td>\n",
       "      <td>1.0</td>\n",
       "      <td>NaN</td>\n",
       "      <td>NaN</td>\n",
       "    </tr>\n",
       "  </tbody>\n",
       "</table>\n",
       "<p>400 rows × 5 columns</p>\n",
       "</div>"
      ],
      "text/plain": [
       "     ExternOrderNo            SKU  Order Qty  Unnamed: 3  Unnamed: 4\n",
       "0       2001827036  8904223818706        1.0         NaN         NaN\n",
       "1       2001827036  8904223819093        1.0         NaN         NaN\n",
       "2       2001827036  8904223819109        1.0         NaN         NaN\n",
       "3       2001827036  8904223818430        1.0         NaN         NaN\n",
       "4       2001827036  8904223819277        1.0         NaN         NaN\n",
       "..             ...            ...        ...         ...         ...\n",
       "395     2001806229  8904223818942        1.0         NaN         NaN\n",
       "396     2001806229  8904223818850        1.0         NaN         NaN\n",
       "397     2001806226  8904223818850        2.0         NaN         NaN\n",
       "398     2001806210  8904223816214        1.0         NaN         NaN\n",
       "399     2001806210  8904223818874        1.0         NaN         NaN\n",
       "\n",
       "[400 rows x 5 columns]"
      ]
     },
     "execution_count": 14,
     "metadata": {},
     "output_type": "execute_result"
    }
   ],
   "source": [
    "orderDf = pd.read_csv('./Order Report.csv')\n",
    "orderDf"
   ]
  },
  {
   "cell_type": "code",
   "execution_count": 15,
   "metadata": {},
   "outputs": [
    {
     "name": "stdout",
     "output_type": "stream",
     "text": [
      "<class 'pandas.core.frame.DataFrame'>\n",
      "RangeIndex: 400 entries, 0 to 399\n",
      "Data columns (total 5 columns):\n",
      " #   Column         Non-Null Count  Dtype  \n",
      "---  ------         --------------  -----  \n",
      " 0   ExternOrderNo  400 non-null    int64  \n",
      " 1   SKU            400 non-null    object \n",
      " 2   Order Qty      400 non-null    float64\n",
      " 3   Unnamed: 3     0 non-null      float64\n",
      " 4   Unnamed: 4     0 non-null      float64\n",
      "dtypes: float64(3), int64(1), object(1)\n",
      "memory usage: 15.8+ KB\n"
     ]
    }
   ],
   "source": [
    "orderDf.info()"
   ]
  },
  {
   "cell_type": "markdown",
   "metadata": {},
   "source": [
    "Drop unnecessary columns"
   ]
  },
  {
   "cell_type": "code",
   "execution_count": 16,
   "metadata": {},
   "outputs": [],
   "source": [
    "orderDf = orderDf[[\"ExternOrderNo\", \"SKU\", \"Order Qty\"]]"
   ]
  },
  {
   "cell_type": "code",
   "execution_count": 17,
   "metadata": {},
   "outputs": [
    {
     "data": {
      "application/vnd.microsoft.datawrangler.viewer.v0+json": {
       "columns": [
        {
         "name": "index",
         "rawType": "int64",
         "type": "integer"
        },
        {
         "name": "ExternOrderNo",
         "rawType": "int64",
         "type": "integer"
        },
        {
         "name": "SKU",
         "rawType": "object",
         "type": "string"
        },
        {
         "name": "Order Qty",
         "rawType": "float64",
         "type": "float"
        }
       ],
       "conversionMethod": "pd.DataFrame",
       "ref": "ff1a0c86-fc9e-441f-a804-6244c39841ad",
       "rows": [
        [
         "0",
         "2001827036",
         "8904223818706",
         "1.0"
        ],
        [
         "1",
         "2001827036",
         "8904223819093",
         "1.0"
        ],
        [
         "2",
         "2001827036",
         "8904223819109",
         "1.0"
        ],
        [
         "3",
         "2001827036",
         "8904223818430",
         "1.0"
        ],
        [
         "4",
         "2001827036",
         "8904223819277",
         "1.0"
        ],
        [
         "5",
         "2001827036",
         "GIFTBOX202002",
         "1.0"
        ],
        [
         "6",
         "2001827036",
         "8904223818638",
         "2.0"
        ],
        [
         "7",
         "2001827036",
         "SACHETS001",
         "1.0"
        ],
        [
         "8",
         "2001825261",
         "8904223819024",
         "4.0"
        ],
        [
         "9",
         "2001825261",
         "8904223819291",
         "4.0"
        ],
        [
         "10",
         "2001825261",
         "8904223818638",
         "3.0"
        ],
        [
         "11",
         "2001825261",
         "8904223818669",
         "1.0"
        ],
        [
         "12",
         "2001825261",
         "SACHETS001",
         "1.0"
        ],
        [
         "13",
         "2001823564",
         "8904223819291",
         "2.0"
        ],
        [
         "14",
         "2001823564",
         "8904223819031",
         "2.0"
        ],
        [
         "15",
         "2001823564",
         "8904223819024",
         "2.0"
        ],
        [
         "16",
         "2001822466",
         "8904223819468",
         "2.0"
        ],
        [
         "17",
         "2001822466",
         "8904223819291",
         "8.0"
        ],
        [
         "18",
         "2001821995",
         "8904223819130",
         "1.0"
        ],
        [
         "19",
         "2001821995",
         "8904223818706",
         "1.0"
        ],
        [
         "20",
         "2001821766",
         "8904223818591",
         "2.0"
        ],
        [
         "21",
         "2001821750",
         "8904223818850",
         "1.0"
        ],
        [
         "22",
         "2001821750",
         "8904223818430",
         "1.0"
        ],
        [
         "23",
         "2001821750",
         "8904223819130",
         "1.0"
        ],
        [
         "24",
         "2001821742",
         "8904223819468",
         "1.0"
        ],
        [
         "25",
         "2001821679",
         "8904223818430",
         "1.0"
        ],
        [
         "26",
         "2001821502",
         "8904223818980",
         "1.0"
        ],
        [
         "27",
         "2001821502",
         "8904223819031",
         "2.0"
        ],
        [
         "28",
         "2001821502",
         "8904223819024",
         "2.0"
        ],
        [
         "29",
         "2001821284",
         "8904223818614",
         "1.0"
        ],
        [
         "30",
         "2001821284",
         "8904223819024",
         "1.0"
        ],
        [
         "31",
         "2001821190",
         "8904223819321",
         "1.0"
        ],
        [
         "32",
         "2001821190",
         "8904223819338",
         "1.0"
        ],
        [
         "33",
         "2001821185",
         "8904223818942",
         "2.0"
        ],
        [
         "34",
         "2001821185",
         "8904223818683",
         "2.0"
        ],
        [
         "35",
         "2001821185",
         "8904223819239",
         "1.0"
        ],
        [
         "36",
         "2001821185",
         "8904223819246",
         "1.0"
        ],
        [
         "37",
         "2001821185",
         "8904223819253",
         "1.0"
        ],
        [
         "38",
         "2001821185",
         "8904223818669",
         "1.0"
        ],
        [
         "39",
         "2001821185",
         "8904223819147",
         "1.0"
        ],
        [
         "40",
         "2001821185",
         "8904223818850",
         "1.0"
        ],
        [
         "41",
         "2001820978",
         "8904223815859",
         "1.0"
        ],
        [
         "42",
         "2001820978",
         "8904223817501",
         "1.0"
        ],
        [
         "43",
         "2001820690",
         "8904223817273",
         "1.0"
        ],
        [
         "44",
         "2001819252",
         "8904223818942",
         "1.0"
        ],
        [
         "45",
         "2001819252",
         "8904223818706",
         "1.0"
        ],
        [
         "46",
         "2001819252",
         "SACHETS001",
         "1.0"
        ],
        [
         "47",
         "2001818390",
         "8904223819147",
         "1.0"
        ],
        [
         "48",
         "2001818390",
         "8904223818935",
         "4.0"
        ],
        [
         "49",
         "2001818390",
         "8904223818683",
         "1.0"
        ]
       ],
       "shape": {
        "columns": 3,
        "rows": 400
       }
      },
      "text/html": [
       "<div>\n",
       "<style scoped>\n",
       "    .dataframe tbody tr th:only-of-type {\n",
       "        vertical-align: middle;\n",
       "    }\n",
       "\n",
       "    .dataframe tbody tr th {\n",
       "        vertical-align: top;\n",
       "    }\n",
       "\n",
       "    .dataframe thead th {\n",
       "        text-align: right;\n",
       "    }\n",
       "</style>\n",
       "<table border=\"1\" class=\"dataframe\">\n",
       "  <thead>\n",
       "    <tr style=\"text-align: right;\">\n",
       "      <th></th>\n",
       "      <th>ExternOrderNo</th>\n",
       "      <th>SKU</th>\n",
       "      <th>Order Qty</th>\n",
       "    </tr>\n",
       "  </thead>\n",
       "  <tbody>\n",
       "    <tr>\n",
       "      <th>0</th>\n",
       "      <td>2001827036</td>\n",
       "      <td>8904223818706</td>\n",
       "      <td>1.0</td>\n",
       "    </tr>\n",
       "    <tr>\n",
       "      <th>1</th>\n",
       "      <td>2001827036</td>\n",
       "      <td>8904223819093</td>\n",
       "      <td>1.0</td>\n",
       "    </tr>\n",
       "    <tr>\n",
       "      <th>2</th>\n",
       "      <td>2001827036</td>\n",
       "      <td>8904223819109</td>\n",
       "      <td>1.0</td>\n",
       "    </tr>\n",
       "    <tr>\n",
       "      <th>3</th>\n",
       "      <td>2001827036</td>\n",
       "      <td>8904223818430</td>\n",
       "      <td>1.0</td>\n",
       "    </tr>\n",
       "    <tr>\n",
       "      <th>4</th>\n",
       "      <td>2001827036</td>\n",
       "      <td>8904223819277</td>\n",
       "      <td>1.0</td>\n",
       "    </tr>\n",
       "    <tr>\n",
       "      <th>...</th>\n",
       "      <td>...</td>\n",
       "      <td>...</td>\n",
       "      <td>...</td>\n",
       "    </tr>\n",
       "    <tr>\n",
       "      <th>395</th>\n",
       "      <td>2001806229</td>\n",
       "      <td>8904223818942</td>\n",
       "      <td>1.0</td>\n",
       "    </tr>\n",
       "    <tr>\n",
       "      <th>396</th>\n",
       "      <td>2001806229</td>\n",
       "      <td>8904223818850</td>\n",
       "      <td>1.0</td>\n",
       "    </tr>\n",
       "    <tr>\n",
       "      <th>397</th>\n",
       "      <td>2001806226</td>\n",
       "      <td>8904223818850</td>\n",
       "      <td>2.0</td>\n",
       "    </tr>\n",
       "    <tr>\n",
       "      <th>398</th>\n",
       "      <td>2001806210</td>\n",
       "      <td>8904223816214</td>\n",
       "      <td>1.0</td>\n",
       "    </tr>\n",
       "    <tr>\n",
       "      <th>399</th>\n",
       "      <td>2001806210</td>\n",
       "      <td>8904223818874</td>\n",
       "      <td>1.0</td>\n",
       "    </tr>\n",
       "  </tbody>\n",
       "</table>\n",
       "<p>400 rows × 3 columns</p>\n",
       "</div>"
      ],
      "text/plain": [
       "     ExternOrderNo            SKU  Order Qty\n",
       "0       2001827036  8904223818706        1.0\n",
       "1       2001827036  8904223819093        1.0\n",
       "2       2001827036  8904223819109        1.0\n",
       "3       2001827036  8904223818430        1.0\n",
       "4       2001827036  8904223819277        1.0\n",
       "..             ...            ...        ...\n",
       "395     2001806229  8904223818942        1.0\n",
       "396     2001806229  8904223818850        1.0\n",
       "397     2001806226  8904223818850        2.0\n",
       "398     2001806210  8904223816214        1.0\n",
       "399     2001806210  8904223818874        1.0\n",
       "\n",
       "[400 rows x 3 columns]"
      ]
     },
     "execution_count": 17,
     "metadata": {},
     "output_type": "execute_result"
    }
   ],
   "source": [
    "orderDf"
   ]
  },
  {
   "cell_type": "markdown",
   "metadata": {},
   "source": [
    "Try to check duplicates for ExternOrderNo"
   ]
  },
  {
   "cell_type": "code",
   "execution_count": 18,
   "metadata": {},
   "outputs": [
    {
     "data": {
      "application/vnd.microsoft.datawrangler.viewer.v0+json": {
       "columns": [
        {
         "name": "index",
         "rawType": "int64",
         "type": "integer"
        },
        {
         "name": "ExternOrderNo",
         "rawType": "int64",
         "type": "integer"
        },
        {
         "name": "SKU",
         "rawType": "object",
         "type": "string"
        },
        {
         "name": "Order Qty",
         "rawType": "float64",
         "type": "float"
        }
       ],
       "conversionMethod": "pd.DataFrame",
       "ref": "01a7cc7e-7f8b-4ab0-b5f8-6b9442c1ca01",
       "rows": [
        [
         "1",
         "2001827036",
         "8904223819093",
         "1.0"
        ],
        [
         "2",
         "2001827036",
         "8904223819109",
         "1.0"
        ],
        [
         "3",
         "2001827036",
         "8904223818430",
         "1.0"
        ],
        [
         "4",
         "2001827036",
         "8904223819277",
         "1.0"
        ],
        [
         "5",
         "2001827036",
         "GIFTBOX202002",
         "1.0"
        ],
        [
         "6",
         "2001827036",
         "8904223818638",
         "2.0"
        ],
        [
         "7",
         "2001827036",
         "SACHETS001",
         "1.0"
        ],
        [
         "9",
         "2001825261",
         "8904223819291",
         "4.0"
        ],
        [
         "10",
         "2001825261",
         "8904223818638",
         "3.0"
        ],
        [
         "11",
         "2001825261",
         "8904223818669",
         "1.0"
        ],
        [
         "12",
         "2001825261",
         "SACHETS001",
         "1.0"
        ],
        [
         "14",
         "2001823564",
         "8904223819031",
         "2.0"
        ],
        [
         "15",
         "2001823564",
         "8904223819024",
         "2.0"
        ],
        [
         "17",
         "2001822466",
         "8904223819291",
         "8.0"
        ],
        [
         "19",
         "2001821995",
         "8904223818706",
         "1.0"
        ],
        [
         "22",
         "2001821750",
         "8904223818430",
         "1.0"
        ],
        [
         "23",
         "2001821750",
         "8904223819130",
         "1.0"
        ],
        [
         "27",
         "2001821502",
         "8904223819031",
         "2.0"
        ],
        [
         "28",
         "2001821502",
         "8904223819024",
         "2.0"
        ],
        [
         "30",
         "2001821284",
         "8904223819024",
         "1.0"
        ],
        [
         "32",
         "2001821190",
         "8904223819338",
         "1.0"
        ],
        [
         "34",
         "2001821185",
         "8904223818683",
         "2.0"
        ],
        [
         "35",
         "2001821185",
         "8904223819239",
         "1.0"
        ],
        [
         "36",
         "2001821185",
         "8904223819246",
         "1.0"
        ],
        [
         "37",
         "2001821185",
         "8904223819253",
         "1.0"
        ],
        [
         "38",
         "2001821185",
         "8904223818669",
         "1.0"
        ],
        [
         "39",
         "2001821185",
         "8904223819147",
         "1.0"
        ],
        [
         "40",
         "2001821185",
         "8904223818850",
         "1.0"
        ],
        [
         "42",
         "2001820978",
         "8904223817501",
         "1.0"
        ],
        [
         "45",
         "2001819252",
         "8904223818706",
         "1.0"
        ],
        [
         "46",
         "2001819252",
         "SACHETS001",
         "1.0"
        ],
        [
         "48",
         "2001818390",
         "8904223818935",
         "4.0"
        ],
        [
         "49",
         "2001818390",
         "8904223818683",
         "1.0"
        ],
        [
         "51",
         "2001817160",
         "8904223819284",
         "1.0"
        ],
        [
         "53",
         "2001817093",
         "8904223818874",
         "1.0"
        ],
        [
         "54",
         "2001817093",
         "8904223819512",
         "1.0"
        ],
        [
         "55",
         "2001817093",
         "8904223818881",
         "1.0"
        ],
        [
         "56",
         "2001817093",
         "8904223819291",
         "2.0"
        ],
        [
         "57",
         "2001817093",
         "8904223819031",
         "2.0"
        ],
        [
         "58",
         "2001817093",
         "8904223819024",
         "2.0"
        ],
        [
         "59",
         "2001817093",
         "8904223818553",
         "1.0"
        ],
        [
         "61",
         "2001816996",
         "8904223818942",
         "1.0"
        ],
        [
         "62",
         "2001816996",
         "8904223818850",
         "1.0"
        ],
        [
         "64",
         "2001816684",
         "8904223818874",
         "2.0"
        ],
        [
         "65",
         "2001816684",
         "8904223818935",
         "4.0"
        ],
        [
         "67",
         "2001816131",
         "8904223819277",
         "1.0"
        ],
        [
         "69",
         "2001815688",
         "8904223818874",
         "1.0"
        ],
        [
         "72",
         "2001813009",
         "8904223818874",
         "1.0"
        ],
        [
         "73",
         "2001813009",
         "8904223818706",
         "1.0"
        ],
        [
         "74",
         "2001813009",
         "8904223818942",
         "1.0"
        ]
       ],
       "shape": {
        "columns": 3,
        "rows": 276
       }
      },
      "text/html": [
       "<div>\n",
       "<style scoped>\n",
       "    .dataframe tbody tr th:only-of-type {\n",
       "        vertical-align: middle;\n",
       "    }\n",
       "\n",
       "    .dataframe tbody tr th {\n",
       "        vertical-align: top;\n",
       "    }\n",
       "\n",
       "    .dataframe thead th {\n",
       "        text-align: right;\n",
       "    }\n",
       "</style>\n",
       "<table border=\"1\" class=\"dataframe\">\n",
       "  <thead>\n",
       "    <tr style=\"text-align: right;\">\n",
       "      <th></th>\n",
       "      <th>ExternOrderNo</th>\n",
       "      <th>SKU</th>\n",
       "      <th>Order Qty</th>\n",
       "    </tr>\n",
       "  </thead>\n",
       "  <tbody>\n",
       "    <tr>\n",
       "      <th>1</th>\n",
       "      <td>2001827036</td>\n",
       "      <td>8904223819093</td>\n",
       "      <td>1.0</td>\n",
       "    </tr>\n",
       "    <tr>\n",
       "      <th>2</th>\n",
       "      <td>2001827036</td>\n",
       "      <td>8904223819109</td>\n",
       "      <td>1.0</td>\n",
       "    </tr>\n",
       "    <tr>\n",
       "      <th>3</th>\n",
       "      <td>2001827036</td>\n",
       "      <td>8904223818430</td>\n",
       "      <td>1.0</td>\n",
       "    </tr>\n",
       "    <tr>\n",
       "      <th>4</th>\n",
       "      <td>2001827036</td>\n",
       "      <td>8904223819277</td>\n",
       "      <td>1.0</td>\n",
       "    </tr>\n",
       "    <tr>\n",
       "      <th>5</th>\n",
       "      <td>2001827036</td>\n",
       "      <td>GIFTBOX202002</td>\n",
       "      <td>1.0</td>\n",
       "    </tr>\n",
       "    <tr>\n",
       "      <th>...</th>\n",
       "      <td>...</td>\n",
       "      <td>...</td>\n",
       "      <td>...</td>\n",
       "    </tr>\n",
       "    <tr>\n",
       "      <th>391</th>\n",
       "      <td>2001806233</td>\n",
       "      <td>8904223819260</td>\n",
       "      <td>1.0</td>\n",
       "    </tr>\n",
       "    <tr>\n",
       "      <th>393</th>\n",
       "      <td>2001806232</td>\n",
       "      <td>8904223819147</td>\n",
       "      <td>2.0</td>\n",
       "    </tr>\n",
       "    <tr>\n",
       "      <th>395</th>\n",
       "      <td>2001806229</td>\n",
       "      <td>8904223818942</td>\n",
       "      <td>1.0</td>\n",
       "    </tr>\n",
       "    <tr>\n",
       "      <th>396</th>\n",
       "      <td>2001806229</td>\n",
       "      <td>8904223818850</td>\n",
       "      <td>1.0</td>\n",
       "    </tr>\n",
       "    <tr>\n",
       "      <th>399</th>\n",
       "      <td>2001806210</td>\n",
       "      <td>8904223818874</td>\n",
       "      <td>1.0</td>\n",
       "    </tr>\n",
       "  </tbody>\n",
       "</table>\n",
       "<p>276 rows × 3 columns</p>\n",
       "</div>"
      ],
      "text/plain": [
       "     ExternOrderNo            SKU  Order Qty\n",
       "1       2001827036  8904223819093        1.0\n",
       "2       2001827036  8904223819109        1.0\n",
       "3       2001827036  8904223818430        1.0\n",
       "4       2001827036  8904223819277        1.0\n",
       "5       2001827036  GIFTBOX202002        1.0\n",
       "..             ...            ...        ...\n",
       "391     2001806233  8904223819260        1.0\n",
       "393     2001806232  8904223819147        2.0\n",
       "395     2001806229  8904223818942        1.0\n",
       "396     2001806229  8904223818850        1.0\n",
       "399     2001806210  8904223818874        1.0\n",
       "\n",
       "[276 rows x 3 columns]"
      ]
     },
     "execution_count": 18,
     "metadata": {},
     "output_type": "execute_result"
    }
   ],
   "source": [
    "orderDf[orderDf.duplicated(subset=[\"ExternOrderNo\"])]"
   ]
  },
  {
   "cell_type": "markdown",
   "metadata": {},
   "source": [
    "It looks like there can be multiple SKUs in one external order -> Try to check duplicates for both columns"
   ]
  },
  {
   "cell_type": "code",
   "execution_count": 19,
   "metadata": {},
   "outputs": [
    {
     "data": {
      "application/vnd.microsoft.datawrangler.viewer.v0+json": {
       "columns": [
        {
         "name": "index",
         "rawType": "int64",
         "type": "integer"
        },
        {
         "name": "ExternOrderNo",
         "rawType": "int64",
         "type": "integer"
        },
        {
         "name": "SKU",
         "rawType": "object",
         "type": "string"
        },
        {
         "name": "Order Qty",
         "rawType": "float64",
         "type": "float"
        }
       ],
       "conversionMethod": "pd.DataFrame",
       "ref": "25d58ca4-1a27-4c88-98e3-19e6d013b964",
       "rows": [
        [
         "110",
         "2001811363",
         "8904223815859",
         "1.0"
        ],
        [
         "281",
         "2001807362",
         "8904223819031",
         "2.0"
        ],
        [
         "282",
         "2001807362",
         "8904223819024",
         "2.0"
        ],
        [
         "317",
         "2001806885",
         "8904223819499",
         "2.0"
        ],
        [
         "365",
         "2001806471",
         "8904223818706",
         "1.0"
        ],
        [
         "366",
         "2001806471",
         "8904223818942",
         "1.0"
        ],
        [
         "367",
         "2001806471",
         "8904223818850",
         "1.0"
        ]
       ],
       "shape": {
        "columns": 3,
        "rows": 7
       }
      },
      "text/html": [
       "<div>\n",
       "<style scoped>\n",
       "    .dataframe tbody tr th:only-of-type {\n",
       "        vertical-align: middle;\n",
       "    }\n",
       "\n",
       "    .dataframe tbody tr th {\n",
       "        vertical-align: top;\n",
       "    }\n",
       "\n",
       "    .dataframe thead th {\n",
       "        text-align: right;\n",
       "    }\n",
       "</style>\n",
       "<table border=\"1\" class=\"dataframe\">\n",
       "  <thead>\n",
       "    <tr style=\"text-align: right;\">\n",
       "      <th></th>\n",
       "      <th>ExternOrderNo</th>\n",
       "      <th>SKU</th>\n",
       "      <th>Order Qty</th>\n",
       "    </tr>\n",
       "  </thead>\n",
       "  <tbody>\n",
       "    <tr>\n",
       "      <th>110</th>\n",
       "      <td>2001811363</td>\n",
       "      <td>8904223815859</td>\n",
       "      <td>1.0</td>\n",
       "    </tr>\n",
       "    <tr>\n",
       "      <th>281</th>\n",
       "      <td>2001807362</td>\n",
       "      <td>8904223819031</td>\n",
       "      <td>2.0</td>\n",
       "    </tr>\n",
       "    <tr>\n",
       "      <th>282</th>\n",
       "      <td>2001807362</td>\n",
       "      <td>8904223819024</td>\n",
       "      <td>2.0</td>\n",
       "    </tr>\n",
       "    <tr>\n",
       "      <th>317</th>\n",
       "      <td>2001806885</td>\n",
       "      <td>8904223819499</td>\n",
       "      <td>2.0</td>\n",
       "    </tr>\n",
       "    <tr>\n",
       "      <th>365</th>\n",
       "      <td>2001806471</td>\n",
       "      <td>8904223818706</td>\n",
       "      <td>1.0</td>\n",
       "    </tr>\n",
       "    <tr>\n",
       "      <th>366</th>\n",
       "      <td>2001806471</td>\n",
       "      <td>8904223818942</td>\n",
       "      <td>1.0</td>\n",
       "    </tr>\n",
       "    <tr>\n",
       "      <th>367</th>\n",
       "      <td>2001806471</td>\n",
       "      <td>8904223818850</td>\n",
       "      <td>1.0</td>\n",
       "    </tr>\n",
       "  </tbody>\n",
       "</table>\n",
       "</div>"
      ],
      "text/plain": [
       "     ExternOrderNo            SKU  Order Qty\n",
       "110     2001811363  8904223815859        1.0\n",
       "281     2001807362  8904223819031        2.0\n",
       "282     2001807362  8904223819024        2.0\n",
       "317     2001806885  8904223819499        2.0\n",
       "365     2001806471  8904223818706        1.0\n",
       "366     2001806471  8904223818942        1.0\n",
       "367     2001806471  8904223818850        1.0"
      ]
     },
     "execution_count": 19,
     "metadata": {},
     "output_type": "execute_result"
    }
   ],
   "source": [
    "orderDf[orderDf.duplicated(subset=[\"ExternOrderNo\", \"SKU\"])]"
   ]
  },
  {
   "cell_type": "code",
   "execution_count": 20,
   "metadata": {},
   "outputs": [
    {
     "data": {
      "application/vnd.microsoft.datawrangler.viewer.v0+json": {
       "columns": [
        {
         "name": "index",
         "rawType": "int64",
         "type": "integer"
        },
        {
         "name": "ExternOrderNo",
         "rawType": "int64",
         "type": "integer"
        },
        {
         "name": "SKU",
         "rawType": "object",
         "type": "string"
        },
        {
         "name": "Order Qty",
         "rawType": "float64",
         "type": "float"
        }
       ],
       "conversionMethod": "pd.DataFrame",
       "ref": "4cd074e5-4f68-471d-99a0-1fc2030a7ec6",
       "rows": [
        [
         "279",
         "2001807362",
         "8904223819024",
         "6.0"
        ],
        [
         "282",
         "2001807362",
         "8904223819024",
         "2.0"
        ]
       ],
       "shape": {
        "columns": 3,
        "rows": 2
       }
      },
      "text/html": [
       "<div>\n",
       "<style scoped>\n",
       "    .dataframe tbody tr th:only-of-type {\n",
       "        vertical-align: middle;\n",
       "    }\n",
       "\n",
       "    .dataframe tbody tr th {\n",
       "        vertical-align: top;\n",
       "    }\n",
       "\n",
       "    .dataframe thead th {\n",
       "        text-align: right;\n",
       "    }\n",
       "</style>\n",
       "<table border=\"1\" class=\"dataframe\">\n",
       "  <thead>\n",
       "    <tr style=\"text-align: right;\">\n",
       "      <th></th>\n",
       "      <th>ExternOrderNo</th>\n",
       "      <th>SKU</th>\n",
       "      <th>Order Qty</th>\n",
       "    </tr>\n",
       "  </thead>\n",
       "  <tbody>\n",
       "    <tr>\n",
       "      <th>279</th>\n",
       "      <td>2001807362</td>\n",
       "      <td>8904223819024</td>\n",
       "      <td>6.0</td>\n",
       "    </tr>\n",
       "    <tr>\n",
       "      <th>282</th>\n",
       "      <td>2001807362</td>\n",
       "      <td>8904223819024</td>\n",
       "      <td>2.0</td>\n",
       "    </tr>\n",
       "  </tbody>\n",
       "</table>\n",
       "</div>"
      ],
      "text/plain": [
       "     ExternOrderNo            SKU  Order Qty\n",
       "279     2001807362  8904223819024        6.0\n",
       "282     2001807362  8904223819024        2.0"
      ]
     },
     "execution_count": 20,
     "metadata": {},
     "output_type": "execute_result"
    }
   ],
   "source": [
    "orderDf[(orderDf[\"ExternOrderNo\"] == 2001807362) & (orderDf[\"SKU\"] == \"8904223819024\")]"
   ]
  },
  {
   "cell_type": "markdown",
   "metadata": {},
   "source": [
    "Is it really a duplicate? From the previous cell we can see that the order qty varies. It can be that it billed two times?"
   ]
  },
  {
   "cell_type": "markdown",
   "metadata": {},
   "source": [
    "For now, let us just add those orders up"
   ]
  },
  {
   "cell_type": "code",
   "execution_count": 21,
   "metadata": {},
   "outputs": [],
   "source": [
    "orderGroupBy = orderDf.groupby(by=[\"ExternOrderNo\", \"SKU\"]).sum()"
   ]
  },
  {
   "cell_type": "code",
   "execution_count": 22,
   "metadata": {},
   "outputs": [
    {
     "data": {
      "application/vnd.microsoft.datawrangler.viewer.v0+json": {
       "columns": [
        {
         "name": "('ExternOrderNo', 'SKU')",
         "rawType": "object",
         "type": "unknown"
        },
        {
         "name": "Order Qty",
         "rawType": "float64",
         "type": "float"
        }
       ],
       "conversionMethod": "pd.DataFrame",
       "ref": "14da95e6-bf0e-4c34-9ede-3e0892ad9caa",
       "rows": [
        [
         "(2001806210, '8904223816214')",
         "1.0"
        ],
        [
         "(2001806210, '8904223818874')",
         "1.0"
        ],
        [
         "(2001806226, '8904223818850')",
         "2.0"
        ],
        [
         "(2001806229, '8904223818706')",
         "1.0"
        ],
        [
         "(2001806229, '8904223818850')",
         "1.0"
        ],
        [
         "(2001806229, '8904223818942')",
         "1.0"
        ],
        [
         "(2001806232, '8904223818645')",
         "6.0"
        ],
        [
         "(2001806232, '8904223819147')",
         "2.0"
        ],
        [
         "(2001806233, '8904223819161')",
         "1.0"
        ],
        [
         "(2001806233, '8904223819260')",
         "1.0"
        ],
        [
         "(2001806251, '8904223819161')",
         "1.0"
        ],
        [
         "(2001806251, '8904223819260')",
         "1.0"
        ],
        [
         "(2001806273, '8904223818706')",
         "1.0"
        ],
        [
         "(2001806273, '8904223818850')",
         "1.0"
        ],
        [
         "(2001806273, '8904223818942')",
         "1.0"
        ],
        [
         "(2001806273, '8904223819017')",
         "1.0"
        ],
        [
         "(2001806304, '8904223818706')",
         "1.0"
        ],
        [
         "(2001806304, '8904223818850')",
         "1.0"
        ],
        [
         "(2001806304, '8904223818942')",
         "1.0"
        ],
        [
         "(2001806338, '8904223818706')",
         "1.0"
        ],
        [
         "(2001806338, '8904223818850')",
         "1.0"
        ],
        [
         "(2001806338, '8904223818942')",
         "1.0"
        ],
        [
         "(2001806408, '8904223818874')",
         "1.0"
        ],
        [
         "(2001806408, '8904223819024')",
         "8.0"
        ],
        [
         "(2001806408, '8904223819352')",
         "1.0"
        ],
        [
         "(2001806408, '8904223819437')",
         "2.0"
        ],
        [
         "(2001806446, '8904223818706')",
         "1.0"
        ],
        [
         "(2001806446, '8904223818850')",
         "1.0"
        ],
        [
         "(2001806446, '8904223818942')",
         "1.0"
        ],
        [
         "(2001806458, '8904223818478')",
         "1.0"
        ],
        [
         "(2001806458, '8904223819284')",
         "1.0"
        ],
        [
         "(2001806471, '8904223818683')",
         "1.0"
        ],
        [
         "(2001806471, '8904223818706')",
         "3.0"
        ],
        [
         "(2001806471, '8904223818850')",
         "3.0"
        ],
        [
         "(2001806471, '8904223818942')",
         "3.0"
        ],
        [
         "(2001806533, '8904223818706')",
         "1.0"
        ],
        [
         "(2001806533, '8904223818850')",
         "1.0"
        ],
        [
         "(2001806533, '8904223818942')",
         "1.0"
        ],
        [
         "(2001806547, '8904223818706')",
         "1.0"
        ],
        [
         "(2001806567, '8904223815804')",
         "1.0"
        ],
        [
         "(2001806567, '8904223816214')",
         "1.0"
        ],
        [
         "(2001806567, '8904223818577')",
         "1.0"
        ],
        [
         "(2001806567, '8904223818591')",
         "1.0"
        ],
        [
         "(2001806567, '8904223819024')",
         "1.0"
        ],
        [
         "(2001806567, '8904223819253')",
         "1.0"
        ],
        [
         "(2001806575, '8904223818706')",
         "1.0"
        ],
        [
         "(2001806575, '8904223818850')",
         "1.0"
        ],
        [
         "(2001806575, '8904223818942')",
         "1.0"
        ],
        [
         "(2001806616, '8904223818669')",
         "1.0"
        ],
        [
         "(2001806616, '8904223818683')",
         "1.0"
        ]
       ],
       "shape": {
        "columns": 1,
        "rows": 393
       }
      },
      "text/html": [
       "<div>\n",
       "<style scoped>\n",
       "    .dataframe tbody tr th:only-of-type {\n",
       "        vertical-align: middle;\n",
       "    }\n",
       "\n",
       "    .dataframe tbody tr th {\n",
       "        vertical-align: top;\n",
       "    }\n",
       "\n",
       "    .dataframe thead th {\n",
       "        text-align: right;\n",
       "    }\n",
       "</style>\n",
       "<table border=\"1\" class=\"dataframe\">\n",
       "  <thead>\n",
       "    <tr style=\"text-align: right;\">\n",
       "      <th></th>\n",
       "      <th></th>\n",
       "      <th>Order Qty</th>\n",
       "    </tr>\n",
       "    <tr>\n",
       "      <th>ExternOrderNo</th>\n",
       "      <th>SKU</th>\n",
       "      <th></th>\n",
       "    </tr>\n",
       "  </thead>\n",
       "  <tbody>\n",
       "    <tr>\n",
       "      <th rowspan=\"2\" valign=\"top\">2001806210</th>\n",
       "      <th>8904223816214</th>\n",
       "      <td>1.0</td>\n",
       "    </tr>\n",
       "    <tr>\n",
       "      <th>8904223818874</th>\n",
       "      <td>1.0</td>\n",
       "    </tr>\n",
       "    <tr>\n",
       "      <th>2001806226</th>\n",
       "      <th>8904223818850</th>\n",
       "      <td>2.0</td>\n",
       "    </tr>\n",
       "    <tr>\n",
       "      <th rowspan=\"2\" valign=\"top\">2001806229</th>\n",
       "      <th>8904223818706</th>\n",
       "      <td>1.0</td>\n",
       "    </tr>\n",
       "    <tr>\n",
       "      <th>8904223818850</th>\n",
       "      <td>1.0</td>\n",
       "    </tr>\n",
       "    <tr>\n",
       "      <th>...</th>\n",
       "      <th>...</th>\n",
       "      <td>...</td>\n",
       "    </tr>\n",
       "    <tr>\n",
       "      <th rowspan=\"5\" valign=\"top\">2001827036</th>\n",
       "      <th>8904223819093</th>\n",
       "      <td>1.0</td>\n",
       "    </tr>\n",
       "    <tr>\n",
       "      <th>8904223819109</th>\n",
       "      <td>1.0</td>\n",
       "    </tr>\n",
       "    <tr>\n",
       "      <th>8904223819277</th>\n",
       "      <td>1.0</td>\n",
       "    </tr>\n",
       "    <tr>\n",
       "      <th>GIFTBOX202002</th>\n",
       "      <td>1.0</td>\n",
       "    </tr>\n",
       "    <tr>\n",
       "      <th>SACHETS001</th>\n",
       "      <td>1.0</td>\n",
       "    </tr>\n",
       "  </tbody>\n",
       "</table>\n",
       "<p>393 rows × 1 columns</p>\n",
       "</div>"
      ],
      "text/plain": [
       "                             Order Qty\n",
       "ExternOrderNo SKU                     \n",
       "2001806210    8904223816214        1.0\n",
       "              8904223818874        1.0\n",
       "2001806226    8904223818850        2.0\n",
       "2001806229    8904223818706        1.0\n",
       "              8904223818850        1.0\n",
       "...                                ...\n",
       "2001827036    8904223819093        1.0\n",
       "              8904223819109        1.0\n",
       "              8904223819277        1.0\n",
       "              GIFTBOX202002        1.0\n",
       "              SACHETS001           1.0\n",
       "\n",
       "[393 rows x 1 columns]"
      ]
     },
     "execution_count": 22,
     "metadata": {},
     "output_type": "execute_result"
    }
   ],
   "source": [
    "orderGroupBy"
   ]
  },
  {
   "cell_type": "code",
   "execution_count": 23,
   "metadata": {},
   "outputs": [
    {
     "data": {
      "application/vnd.microsoft.datawrangler.viewer.v0+json": {
       "columns": [
        {
         "name": "('ExternOrderNo', 'SKU')",
         "rawType": "object",
         "type": "unknown"
        },
        {
         "name": "Order Qty",
         "rawType": "float64",
         "type": "float"
        }
       ],
       "conversionMethod": "pd.DataFrame",
       "ref": "307aac27-98bd-40c5-b512-45492813ad5b",
       "rows": [
        [
         "(2001807362, '8904223819024')",
         "8.0"
        ]
       ],
       "shape": {
        "columns": 1,
        "rows": 1
       }
      },
      "text/html": [
       "<div>\n",
       "<style scoped>\n",
       "    .dataframe tbody tr th:only-of-type {\n",
       "        vertical-align: middle;\n",
       "    }\n",
       "\n",
       "    .dataframe tbody tr th {\n",
       "        vertical-align: top;\n",
       "    }\n",
       "\n",
       "    .dataframe thead th {\n",
       "        text-align: right;\n",
       "    }\n",
       "</style>\n",
       "<table border=\"1\" class=\"dataframe\">\n",
       "  <thead>\n",
       "    <tr style=\"text-align: right;\">\n",
       "      <th></th>\n",
       "      <th></th>\n",
       "      <th>Order Qty</th>\n",
       "    </tr>\n",
       "    <tr>\n",
       "      <th>ExternOrderNo</th>\n",
       "      <th>SKU</th>\n",
       "      <th></th>\n",
       "    </tr>\n",
       "  </thead>\n",
       "  <tbody>\n",
       "    <tr>\n",
       "      <th>2001807362</th>\n",
       "      <th>8904223819024</th>\n",
       "      <td>8.0</td>\n",
       "    </tr>\n",
       "  </tbody>\n",
       "</table>\n",
       "</div>"
      ],
      "text/plain": [
       "                             Order Qty\n",
       "ExternOrderNo SKU                     \n",
       "2001807362    8904223819024        8.0"
      ]
     },
     "execution_count": 23,
     "metadata": {},
     "output_type": "execute_result"
    }
   ],
   "source": [
    "orderGroupBy.loc[[(2001807362, '8904223819024')]]"
   ]
  },
  {
   "cell_type": "code",
   "execution_count": 24,
   "metadata": {},
   "outputs": [
    {
     "data": {
      "application/vnd.microsoft.datawrangler.viewer.v0+json": {
       "columns": [
        {
         "name": "index",
         "rawType": "int64",
         "type": "integer"
        },
        {
         "name": "ExternOrderNo",
         "rawType": "int64",
         "type": "integer"
        },
        {
         "name": "SKU",
         "rawType": "object",
         "type": "string"
        },
        {
         "name": "Order Qty",
         "rawType": "float64",
         "type": "float"
        }
       ],
       "conversionMethod": "pd.DataFrame",
       "ref": "58dbc01c-3a30-48c7-969a-9c49dafe3448",
       "rows": [
        [
         "0",
         "2001806210",
         "8904223816214",
         "1.0"
        ],
        [
         "1",
         "2001806210",
         "8904223818874",
         "1.0"
        ],
        [
         "2",
         "2001806226",
         "8904223818850",
         "2.0"
        ],
        [
         "3",
         "2001806229",
         "8904223818706",
         "1.0"
        ],
        [
         "4",
         "2001806229",
         "8904223818850",
         "1.0"
        ],
        [
         "5",
         "2001806229",
         "8904223818942",
         "1.0"
        ],
        [
         "6",
         "2001806232",
         "8904223818645",
         "6.0"
        ],
        [
         "7",
         "2001806232",
         "8904223819147",
         "2.0"
        ],
        [
         "8",
         "2001806233",
         "8904223819161",
         "1.0"
        ],
        [
         "9",
         "2001806233",
         "8904223819260",
         "1.0"
        ],
        [
         "10",
         "2001806251",
         "8904223819161",
         "1.0"
        ],
        [
         "11",
         "2001806251",
         "8904223819260",
         "1.0"
        ],
        [
         "12",
         "2001806273",
         "8904223818706",
         "1.0"
        ],
        [
         "13",
         "2001806273",
         "8904223818850",
         "1.0"
        ],
        [
         "14",
         "2001806273",
         "8904223818942",
         "1.0"
        ],
        [
         "15",
         "2001806273",
         "8904223819017",
         "1.0"
        ],
        [
         "16",
         "2001806304",
         "8904223818706",
         "1.0"
        ],
        [
         "17",
         "2001806304",
         "8904223818850",
         "1.0"
        ],
        [
         "18",
         "2001806304",
         "8904223818942",
         "1.0"
        ],
        [
         "19",
         "2001806338",
         "8904223818706",
         "1.0"
        ],
        [
         "20",
         "2001806338",
         "8904223818850",
         "1.0"
        ],
        [
         "21",
         "2001806338",
         "8904223818942",
         "1.0"
        ],
        [
         "22",
         "2001806408",
         "8904223818874",
         "1.0"
        ],
        [
         "23",
         "2001806408",
         "8904223819024",
         "8.0"
        ],
        [
         "24",
         "2001806408",
         "8904223819352",
         "1.0"
        ],
        [
         "25",
         "2001806408",
         "8904223819437",
         "2.0"
        ],
        [
         "26",
         "2001806446",
         "8904223818706",
         "1.0"
        ],
        [
         "27",
         "2001806446",
         "8904223818850",
         "1.0"
        ],
        [
         "28",
         "2001806446",
         "8904223818942",
         "1.0"
        ],
        [
         "29",
         "2001806458",
         "8904223818478",
         "1.0"
        ],
        [
         "30",
         "2001806458",
         "8904223819284",
         "1.0"
        ],
        [
         "31",
         "2001806471",
         "8904223818683",
         "1.0"
        ],
        [
         "32",
         "2001806471",
         "8904223818706",
         "3.0"
        ],
        [
         "33",
         "2001806471",
         "8904223818850",
         "3.0"
        ],
        [
         "34",
         "2001806471",
         "8904223818942",
         "3.0"
        ],
        [
         "35",
         "2001806533",
         "8904223818706",
         "1.0"
        ],
        [
         "36",
         "2001806533",
         "8904223818850",
         "1.0"
        ],
        [
         "37",
         "2001806533",
         "8904223818942",
         "1.0"
        ],
        [
         "38",
         "2001806547",
         "8904223818706",
         "1.0"
        ],
        [
         "39",
         "2001806567",
         "8904223815804",
         "1.0"
        ],
        [
         "40",
         "2001806567",
         "8904223816214",
         "1.0"
        ],
        [
         "41",
         "2001806567",
         "8904223818577",
         "1.0"
        ],
        [
         "42",
         "2001806567",
         "8904223818591",
         "1.0"
        ],
        [
         "43",
         "2001806567",
         "8904223819024",
         "1.0"
        ],
        [
         "44",
         "2001806567",
         "8904223819253",
         "1.0"
        ],
        [
         "45",
         "2001806575",
         "8904223818706",
         "1.0"
        ],
        [
         "46",
         "2001806575",
         "8904223818850",
         "1.0"
        ],
        [
         "47",
         "2001806575",
         "8904223818942",
         "1.0"
        ],
        [
         "48",
         "2001806616",
         "8904223818669",
         "1.0"
        ],
        [
         "49",
         "2001806616",
         "8904223818683",
         "1.0"
        ]
       ],
       "shape": {
        "columns": 3,
        "rows": 393
       }
      },
      "text/html": [
       "<div>\n",
       "<style scoped>\n",
       "    .dataframe tbody tr th:only-of-type {\n",
       "        vertical-align: middle;\n",
       "    }\n",
       "\n",
       "    .dataframe tbody tr th {\n",
       "        vertical-align: top;\n",
       "    }\n",
       "\n",
       "    .dataframe thead th {\n",
       "        text-align: right;\n",
       "    }\n",
       "</style>\n",
       "<table border=\"1\" class=\"dataframe\">\n",
       "  <thead>\n",
       "    <tr style=\"text-align: right;\">\n",
       "      <th></th>\n",
       "      <th>ExternOrderNo</th>\n",
       "      <th>SKU</th>\n",
       "      <th>Order Qty</th>\n",
       "    </tr>\n",
       "  </thead>\n",
       "  <tbody>\n",
       "    <tr>\n",
       "      <th>0</th>\n",
       "      <td>2001806210</td>\n",
       "      <td>8904223816214</td>\n",
       "      <td>1.0</td>\n",
       "    </tr>\n",
       "    <tr>\n",
       "      <th>1</th>\n",
       "      <td>2001806210</td>\n",
       "      <td>8904223818874</td>\n",
       "      <td>1.0</td>\n",
       "    </tr>\n",
       "    <tr>\n",
       "      <th>2</th>\n",
       "      <td>2001806226</td>\n",
       "      <td>8904223818850</td>\n",
       "      <td>2.0</td>\n",
       "    </tr>\n",
       "    <tr>\n",
       "      <th>3</th>\n",
       "      <td>2001806229</td>\n",
       "      <td>8904223818706</td>\n",
       "      <td>1.0</td>\n",
       "    </tr>\n",
       "    <tr>\n",
       "      <th>4</th>\n",
       "      <td>2001806229</td>\n",
       "      <td>8904223818850</td>\n",
       "      <td>1.0</td>\n",
       "    </tr>\n",
       "    <tr>\n",
       "      <th>...</th>\n",
       "      <td>...</td>\n",
       "      <td>...</td>\n",
       "      <td>...</td>\n",
       "    </tr>\n",
       "    <tr>\n",
       "      <th>388</th>\n",
       "      <td>2001827036</td>\n",
       "      <td>8904223819093</td>\n",
       "      <td>1.0</td>\n",
       "    </tr>\n",
       "    <tr>\n",
       "      <th>389</th>\n",
       "      <td>2001827036</td>\n",
       "      <td>8904223819109</td>\n",
       "      <td>1.0</td>\n",
       "    </tr>\n",
       "    <tr>\n",
       "      <th>390</th>\n",
       "      <td>2001827036</td>\n",
       "      <td>8904223819277</td>\n",
       "      <td>1.0</td>\n",
       "    </tr>\n",
       "    <tr>\n",
       "      <th>391</th>\n",
       "      <td>2001827036</td>\n",
       "      <td>GIFTBOX202002</td>\n",
       "      <td>1.0</td>\n",
       "    </tr>\n",
       "    <tr>\n",
       "      <th>392</th>\n",
       "      <td>2001827036</td>\n",
       "      <td>SACHETS001</td>\n",
       "      <td>1.0</td>\n",
       "    </tr>\n",
       "  </tbody>\n",
       "</table>\n",
       "<p>393 rows × 3 columns</p>\n",
       "</div>"
      ],
      "text/plain": [
       "     ExternOrderNo            SKU  Order Qty\n",
       "0       2001806210  8904223816214        1.0\n",
       "1       2001806210  8904223818874        1.0\n",
       "2       2001806226  8904223818850        2.0\n",
       "3       2001806229  8904223818706        1.0\n",
       "4       2001806229  8904223818850        1.0\n",
       "..             ...            ...        ...\n",
       "388     2001827036  8904223819093        1.0\n",
       "389     2001827036  8904223819109        1.0\n",
       "390     2001827036  8904223819277        1.0\n",
       "391     2001827036  GIFTBOX202002        1.0\n",
       "392     2001827036     SACHETS001        1.0\n",
       "\n",
       "[393 rows x 3 columns]"
      ]
     },
     "execution_count": 24,
     "metadata": {},
     "output_type": "execute_result"
    }
   ],
   "source": [
    "orderGroupBy = orderGroupBy.reset_index()\n",
    "orderGroupBy"
   ]
  },
  {
   "cell_type": "code",
   "execution_count": 25,
   "metadata": {},
   "outputs": [
    {
     "data": {
      "application/vnd.microsoft.datawrangler.viewer.v0+json": {
       "columns": [
        {
         "name": "index",
         "rawType": "int64",
         "type": "integer"
        },
        {
         "name": "Order ID",
         "rawType": "int64",
         "type": "integer"
        },
        {
         "name": "SKU",
         "rawType": "object",
         "type": "string"
        },
        {
         "name": "Order Qty",
         "rawType": "float64",
         "type": "float"
        }
       ],
       "conversionMethod": "pd.DataFrame",
       "ref": "551adee1-6a31-4c7e-aeca-c76c409093da",
       "rows": [
        [
         "0",
         "2001806210",
         "8904223816214",
         "1.0"
        ],
        [
         "1",
         "2001806210",
         "8904223818874",
         "1.0"
        ],
        [
         "2",
         "2001806226",
         "8904223818850",
         "2.0"
        ],
        [
         "3",
         "2001806229",
         "8904223818706",
         "1.0"
        ],
        [
         "4",
         "2001806229",
         "8904223818850",
         "1.0"
        ],
        [
         "5",
         "2001806229",
         "8904223818942",
         "1.0"
        ],
        [
         "6",
         "2001806232",
         "8904223818645",
         "6.0"
        ],
        [
         "7",
         "2001806232",
         "8904223819147",
         "2.0"
        ],
        [
         "8",
         "2001806233",
         "8904223819161",
         "1.0"
        ],
        [
         "9",
         "2001806233",
         "8904223819260",
         "1.0"
        ],
        [
         "10",
         "2001806251",
         "8904223819161",
         "1.0"
        ],
        [
         "11",
         "2001806251",
         "8904223819260",
         "1.0"
        ],
        [
         "12",
         "2001806273",
         "8904223818706",
         "1.0"
        ],
        [
         "13",
         "2001806273",
         "8904223818850",
         "1.0"
        ],
        [
         "14",
         "2001806273",
         "8904223818942",
         "1.0"
        ],
        [
         "15",
         "2001806273",
         "8904223819017",
         "1.0"
        ],
        [
         "16",
         "2001806304",
         "8904223818706",
         "1.0"
        ],
        [
         "17",
         "2001806304",
         "8904223818850",
         "1.0"
        ],
        [
         "18",
         "2001806304",
         "8904223818942",
         "1.0"
        ],
        [
         "19",
         "2001806338",
         "8904223818706",
         "1.0"
        ],
        [
         "20",
         "2001806338",
         "8904223818850",
         "1.0"
        ],
        [
         "21",
         "2001806338",
         "8904223818942",
         "1.0"
        ],
        [
         "22",
         "2001806408",
         "8904223818874",
         "1.0"
        ],
        [
         "23",
         "2001806408",
         "8904223819024",
         "8.0"
        ],
        [
         "24",
         "2001806408",
         "8904223819352",
         "1.0"
        ],
        [
         "25",
         "2001806408",
         "8904223819437",
         "2.0"
        ],
        [
         "26",
         "2001806446",
         "8904223818706",
         "1.0"
        ],
        [
         "27",
         "2001806446",
         "8904223818850",
         "1.0"
        ],
        [
         "28",
         "2001806446",
         "8904223818942",
         "1.0"
        ],
        [
         "29",
         "2001806458",
         "8904223818478",
         "1.0"
        ],
        [
         "30",
         "2001806458",
         "8904223819284",
         "1.0"
        ],
        [
         "31",
         "2001806471",
         "8904223818683",
         "1.0"
        ],
        [
         "32",
         "2001806471",
         "8904223818706",
         "3.0"
        ],
        [
         "33",
         "2001806471",
         "8904223818850",
         "3.0"
        ],
        [
         "34",
         "2001806471",
         "8904223818942",
         "3.0"
        ],
        [
         "35",
         "2001806533",
         "8904223818706",
         "1.0"
        ],
        [
         "36",
         "2001806533",
         "8904223818850",
         "1.0"
        ],
        [
         "37",
         "2001806533",
         "8904223818942",
         "1.0"
        ],
        [
         "38",
         "2001806547",
         "8904223818706",
         "1.0"
        ],
        [
         "39",
         "2001806567",
         "8904223815804",
         "1.0"
        ],
        [
         "40",
         "2001806567",
         "8904223816214",
         "1.0"
        ],
        [
         "41",
         "2001806567",
         "8904223818577",
         "1.0"
        ],
        [
         "42",
         "2001806567",
         "8904223818591",
         "1.0"
        ],
        [
         "43",
         "2001806567",
         "8904223819024",
         "1.0"
        ],
        [
         "44",
         "2001806567",
         "8904223819253",
         "1.0"
        ],
        [
         "45",
         "2001806575",
         "8904223818706",
         "1.0"
        ],
        [
         "46",
         "2001806575",
         "8904223818850",
         "1.0"
        ],
        [
         "47",
         "2001806575",
         "8904223818942",
         "1.0"
        ],
        [
         "48",
         "2001806616",
         "8904223818669",
         "1.0"
        ],
        [
         "49",
         "2001806616",
         "8904223818683",
         "1.0"
        ]
       ],
       "shape": {
        "columns": 3,
        "rows": 393
       }
      },
      "text/html": [
       "<div>\n",
       "<style scoped>\n",
       "    .dataframe tbody tr th:only-of-type {\n",
       "        vertical-align: middle;\n",
       "    }\n",
       "\n",
       "    .dataframe tbody tr th {\n",
       "        vertical-align: top;\n",
       "    }\n",
       "\n",
       "    .dataframe thead th {\n",
       "        text-align: right;\n",
       "    }\n",
       "</style>\n",
       "<table border=\"1\" class=\"dataframe\">\n",
       "  <thead>\n",
       "    <tr style=\"text-align: right;\">\n",
       "      <th></th>\n",
       "      <th>Order ID</th>\n",
       "      <th>SKU</th>\n",
       "      <th>Order Qty</th>\n",
       "    </tr>\n",
       "  </thead>\n",
       "  <tbody>\n",
       "    <tr>\n",
       "      <th>0</th>\n",
       "      <td>2001806210</td>\n",
       "      <td>8904223816214</td>\n",
       "      <td>1.0</td>\n",
       "    </tr>\n",
       "    <tr>\n",
       "      <th>1</th>\n",
       "      <td>2001806210</td>\n",
       "      <td>8904223818874</td>\n",
       "      <td>1.0</td>\n",
       "    </tr>\n",
       "    <tr>\n",
       "      <th>2</th>\n",
       "      <td>2001806226</td>\n",
       "      <td>8904223818850</td>\n",
       "      <td>2.0</td>\n",
       "    </tr>\n",
       "    <tr>\n",
       "      <th>3</th>\n",
       "      <td>2001806229</td>\n",
       "      <td>8904223818706</td>\n",
       "      <td>1.0</td>\n",
       "    </tr>\n",
       "    <tr>\n",
       "      <th>4</th>\n",
       "      <td>2001806229</td>\n",
       "      <td>8904223818850</td>\n",
       "      <td>1.0</td>\n",
       "    </tr>\n",
       "    <tr>\n",
       "      <th>...</th>\n",
       "      <td>...</td>\n",
       "      <td>...</td>\n",
       "      <td>...</td>\n",
       "    </tr>\n",
       "    <tr>\n",
       "      <th>388</th>\n",
       "      <td>2001827036</td>\n",
       "      <td>8904223819093</td>\n",
       "      <td>1.0</td>\n",
       "    </tr>\n",
       "    <tr>\n",
       "      <th>389</th>\n",
       "      <td>2001827036</td>\n",
       "      <td>8904223819109</td>\n",
       "      <td>1.0</td>\n",
       "    </tr>\n",
       "    <tr>\n",
       "      <th>390</th>\n",
       "      <td>2001827036</td>\n",
       "      <td>8904223819277</td>\n",
       "      <td>1.0</td>\n",
       "    </tr>\n",
       "    <tr>\n",
       "      <th>391</th>\n",
       "      <td>2001827036</td>\n",
       "      <td>GIFTBOX202002</td>\n",
       "      <td>1.0</td>\n",
       "    </tr>\n",
       "    <tr>\n",
       "      <th>392</th>\n",
       "      <td>2001827036</td>\n",
       "      <td>SACHETS001</td>\n",
       "      <td>1.0</td>\n",
       "    </tr>\n",
       "  </tbody>\n",
       "</table>\n",
       "<p>393 rows × 3 columns</p>\n",
       "</div>"
      ],
      "text/plain": [
       "       Order ID            SKU  Order Qty\n",
       "0    2001806210  8904223816214        1.0\n",
       "1    2001806210  8904223818874        1.0\n",
       "2    2001806226  8904223818850        2.0\n",
       "3    2001806229  8904223818706        1.0\n",
       "4    2001806229  8904223818850        1.0\n",
       "..          ...            ...        ...\n",
       "388  2001827036  8904223819093        1.0\n",
       "389  2001827036  8904223819109        1.0\n",
       "390  2001827036  8904223819277        1.0\n",
       "391  2001827036  GIFTBOX202002        1.0\n",
       "392  2001827036     SACHETS001        1.0\n",
       "\n",
       "[393 rows x 3 columns]"
      ]
     },
     "execution_count": 25,
     "metadata": {},
     "output_type": "execute_result"
    }
   ],
   "source": [
    "orderGroupBy = orderGroupBy.rename(columns={\"ExternOrderNo\": \"Order ID\"})\n",
    "orderGroupBy"
   ]
  },
  {
   "cell_type": "markdown",
   "metadata": {},
   "source": [
    "============== Invoice =================="
   ]
  },
  {
   "cell_type": "code",
   "execution_count": 26,
   "metadata": {},
   "outputs": [
    {
     "data": {
      "application/vnd.microsoft.datawrangler.viewer.v0+json": {
       "columns": [
        {
         "name": "index",
         "rawType": "int64",
         "type": "integer"
        },
        {
         "name": "AWB Code",
         "rawType": "int64",
         "type": "integer"
        },
        {
         "name": "Order ID",
         "rawType": "int64",
         "type": "integer"
        },
        {
         "name": "Charged Weight",
         "rawType": "float64",
         "type": "float"
        },
        {
         "name": "Warehouse Pincode",
         "rawType": "int64",
         "type": "integer"
        },
        {
         "name": "Customer Pincode",
         "rawType": "int64",
         "type": "integer"
        },
        {
         "name": "Zone",
         "rawType": "object",
         "type": "string"
        },
        {
         "name": "Type of Shipment",
         "rawType": "object",
         "type": "string"
        },
        {
         "name": "Billing Amount (Rs.)",
         "rawType": "float64",
         "type": "float"
        }
       ],
       "conversionMethod": "pd.DataFrame",
       "ref": "5186a409-b055-4a70-8956-c04a52597fc3",
       "rows": [
        [
         "0",
         "1091117222124",
         "2001806232",
         "1.3",
         "121003",
         "507101",
         "d",
         "Forward charges",
         "135.0"
        ],
        [
         "1",
         "1091117222194",
         "2001806273",
         "1.0",
         "121003",
         "486886",
         "d",
         "Forward charges",
         "90.2"
        ],
        [
         "2",
         "1091117222931",
         "2001806408",
         "2.5",
         "121003",
         "532484",
         "d",
         "Forward charges",
         "224.6"
        ],
        [
         "3",
         "1091117223244",
         "2001806458",
         "1.0",
         "121003",
         "143001",
         "b",
         "Forward charges",
         "61.3"
        ],
        [
         "4",
         "1091117229345",
         "2001807012",
         "0.15",
         "121003",
         "515591",
         "d",
         "Forward charges",
         "45.4"
        ],
        [
         "5",
         "1091117229555",
         "2001806686",
         "0.15",
         "121003",
         "326502",
         "d",
         "Forward charges",
         "45.4"
        ],
        [
         "6",
         "1091117229776",
         "2001806885",
         "1.0",
         "121003",
         "208019",
         "b",
         "Forward charges",
         "61.3"
        ],
        [
         "7",
         "1091117323112",
         "2001807058",
         "1.15",
         "121003",
         "140301",
         "b",
         "Forward charges",
         "89.6"
        ],
        [
         "8",
         "1091117323812",
         "2001807186",
         "0.5",
         "121003",
         "396001",
         "d",
         "Forward charges",
         "45.4"
        ],
        [
         "9",
         "1091117324206",
         "2001807290",
         "0.5",
         "121003",
         "711106",
         "d",
         "Forward charges",
         "45.4"
        ],
        [
         "10",
         "1091117326612",
         "2001807814",
         "0.79",
         "121003",
         "284001",
         "b",
         "Forward charges",
         "61.3"
        ],
        [
         "11",
         "1091117327172",
         "2001807931",
         "0.72",
         "121003",
         "441601",
         "d",
         "Forward charges",
         "90.2"
        ],
        [
         "12",
         "1091117327275",
         "2001807956",
         "1.08",
         "121003",
         "248006",
         "b",
         "Forward charges",
         "89.6"
        ],
        [
         "13",
         "1091117327312",
         "2001807960",
         "1.0",
         "121003",
         "485001",
         "d",
         "Forward charges",
         "90.2"
        ],
        [
         "14",
         "1091117327695",
         "2001807930",
         "0.15",
         "121003",
         "845438",
         "d",
         "Forward charges",
         "45.4"
        ],
        [
         "15",
         "1091117435005",
         "2001808102",
         "1.28",
         "121003",
         "463106",
         "d",
         "Forward charges",
         "135.0"
        ],
        [
         "16",
         "1091117435134",
         "2001808118",
         "0.5",
         "121003",
         "140301",
         "b",
         "Forward charges",
         "33.0"
        ],
        [
         "17",
         "1091117435370",
         "2001808207",
         "0.79",
         "121003",
         "495671",
         "d",
         "Forward charges",
         "90.2"
        ],
        [
         "18",
         "1091117435661",
         "2001808295",
         "0.2",
         "121003",
         "673002",
         "e",
         "Forward and RTO charges",
         "107.3"
        ],
        [
         "19",
         "1091117436383",
         "2001808507",
         "0.79",
         "121003",
         "208002",
         "b",
         "Forward charges",
         "61.3"
        ],
        [
         "20",
         "1091117436464",
         "2001808542",
         "0.86",
         "121003",
         "416010",
         "d",
         "Forward charges",
         "90.2"
        ],
        [
         "21",
         "1091117437050",
         "2001808675",
         "1.2",
         "121003",
         "226010",
         "b",
         "Forward charges",
         "89.6"
        ],
        [
         "22",
         "1091117327496",
         "2001807976",
         "0.7",
         "121003",
         "400705",
         "d",
         "Forward and RTO charges",
         "172.8"
        ],
        [
         "23",
         "1091118547832",
         "2001812838",
         "0.6",
         "121003",
         "262405",
         "b",
         "Forward and RTO charges",
         "102.3"
        ],
        [
         "24",
         "1091119398844",
         "2001816684",
         "0.99",
         "121003",
         "394210",
         "d",
         "Forward and RTO charges",
         "172.8"
        ],
        [
         "25",
         "1091119630264",
         "2001817160",
         "0.7",
         "121003",
         "411014",
         "d",
         "Forward and RTO charges",
         "172.8"
        ],
        [
         "26",
         "1091120014461",
         "2001818390",
         "0.8",
         "121003",
         "783301",
         "e",
         "Forward and RTO charges",
         "213.5"
        ],
        [
         "27",
         "1091120959015",
         "2001821190",
         "1.2",
         "121003",
         "486661",
         "d",
         "Forward and RTO charges",
         "258.9"
        ],
        [
         "28",
         "1091121485824",
         "2001817093",
         "1.3",
         "121003",
         "244001",
         "b",
         "Forward and RTO charges",
         "151.1"
        ],
        [
         "29",
         "1091121666133",
         "2001823564",
         "0.7",
         "121003",
         "492001",
         "d",
         "Forward and RTO charges",
         "172.8"
        ],
        [
         "30",
         "1091121981575",
         "2001825261",
         "1.6",
         "121003",
         "517128",
         "d",
         "Forward and RTO charges",
         "345.0"
        ],
        [
         "31",
         "1091117957780",
         "2001811192",
         "1.13",
         "121003",
         "562110",
         "d",
         "Forward and RTO charges",
         "258.9"
        ],
        [
         "32",
         "1091121482593",
         "2001809917",
         "0.6",
         "121003",
         "831006",
         "d",
         "Forward and RTO charges",
         "172.8"
        ],
        [
         "33",
         "1091117221940",
         "2001806210",
         "2.92",
         "121003",
         "140604",
         "b",
         "Forward charges",
         "174.5"
        ],
        [
         "34",
         "1091117222065",
         "2001806226",
         "0.68",
         "121003",
         "723146",
         "d",
         "Forward charges",
         "90.2"
        ],
        [
         "35",
         "1091117222080",
         "2001806229",
         "0.71",
         "121003",
         "421204",
         "d",
         "Forward charges",
         "90.2"
        ],
        [
         "36",
         "1091117222135",
         "2001806233",
         "0.78",
         "121003",
         "263139",
         "b",
         "Forward charges",
         "61.3"
        ],
        [
         "37",
         "1091117222146",
         "2001806251",
         "1.27",
         "121003",
         "743263",
         "d",
         "Forward charges",
         "135.0"
        ],
        [
         "38",
         "1091117222570",
         "2001806338",
         "0.7",
         "121003",
         "392150",
         "d",
         "Forward charges",
         "90.2"
        ],
        [
         "39",
         "1091117223211",
         "2001806446",
         "0.69",
         "121003",
         "382830",
         "d",
         "Forward charges",
         "90.2"
        ],
        [
         "40",
         "1091117224353",
         "2001806533",
         "0.68",
         "121003",
         "711303",
         "d",
         "Forward charges",
         "90.2"
        ],
        [
         "41",
         "1091117224611",
         "2001806547",
         "1.0",
         "121003",
         "283102",
         "b",
         "Forward charges",
         "61.3"
        ],
        [
         "42",
         "1091117224902",
         "2001806567",
         "1.16",
         "121003",
         "370201",
         "d",
         "Forward charges",
         "135.0"
        ],
        [
         "43",
         "1091117225016",
         "2001806575",
         "0.68",
         "121003",
         "248001",
         "b",
         "Forward charges",
         "61.3"
        ],
        [
         "44",
         "1091117225484",
         "2001806616",
         "1.08",
         "121003",
         "144001",
         "b",
         "Forward charges",
         "89.6"
        ],
        [
         "45",
         "1091117226221",
         "2001806652",
         "0.69",
         "121003",
         "403401",
         "d",
         "Forward charges",
         "90.2"
        ],
        [
         "46",
         "1091117226674",
         "2001806733",
         "1.13",
         "121003",
         "452001",
         "d",
         "Forward charges",
         "135.0"
        ],
        [
         "47",
         "1091117226711",
         "2001806735",
         "0.69",
         "121003",
         "721636",
         "d",
         "Forward charges",
         "90.2"
        ],
        [
         "48",
         "1091117226910",
         "2001806726",
         "0.68",
         "121003",
         "831002",
         "d",
         "Forward charges",
         "90.2"
        ],
        [
         "49",
         "1091117227573",
         "2001806776",
         "2.86",
         "121003",
         "226004",
         "b",
         "Forward charges",
         "174.5"
        ]
       ],
       "shape": {
        "columns": 8,
        "rows": 124
       }
      },
      "text/html": [
       "<div>\n",
       "<style scoped>\n",
       "    .dataframe tbody tr th:only-of-type {\n",
       "        vertical-align: middle;\n",
       "    }\n",
       "\n",
       "    .dataframe tbody tr th {\n",
       "        vertical-align: top;\n",
       "    }\n",
       "\n",
       "    .dataframe thead th {\n",
       "        text-align: right;\n",
       "    }\n",
       "</style>\n",
       "<table border=\"1\" class=\"dataframe\">\n",
       "  <thead>\n",
       "    <tr style=\"text-align: right;\">\n",
       "      <th></th>\n",
       "      <th>AWB Code</th>\n",
       "      <th>Order ID</th>\n",
       "      <th>Charged Weight</th>\n",
       "      <th>Warehouse Pincode</th>\n",
       "      <th>Customer Pincode</th>\n",
       "      <th>Zone</th>\n",
       "      <th>Type of Shipment</th>\n",
       "      <th>Billing Amount (Rs.)</th>\n",
       "    </tr>\n",
       "  </thead>\n",
       "  <tbody>\n",
       "    <tr>\n",
       "      <th>0</th>\n",
       "      <td>1091117222124</td>\n",
       "      <td>2001806232</td>\n",
       "      <td>1.30</td>\n",
       "      <td>121003</td>\n",
       "      <td>507101</td>\n",
       "      <td>d</td>\n",
       "      <td>Forward charges</td>\n",
       "      <td>135.0</td>\n",
       "    </tr>\n",
       "    <tr>\n",
       "      <th>1</th>\n",
       "      <td>1091117222194</td>\n",
       "      <td>2001806273</td>\n",
       "      <td>1.00</td>\n",
       "      <td>121003</td>\n",
       "      <td>486886</td>\n",
       "      <td>d</td>\n",
       "      <td>Forward charges</td>\n",
       "      <td>90.2</td>\n",
       "    </tr>\n",
       "    <tr>\n",
       "      <th>2</th>\n",
       "      <td>1091117222931</td>\n",
       "      <td>2001806408</td>\n",
       "      <td>2.50</td>\n",
       "      <td>121003</td>\n",
       "      <td>532484</td>\n",
       "      <td>d</td>\n",
       "      <td>Forward charges</td>\n",
       "      <td>224.6</td>\n",
       "    </tr>\n",
       "    <tr>\n",
       "      <th>3</th>\n",
       "      <td>1091117223244</td>\n",
       "      <td>2001806458</td>\n",
       "      <td>1.00</td>\n",
       "      <td>121003</td>\n",
       "      <td>143001</td>\n",
       "      <td>b</td>\n",
       "      <td>Forward charges</td>\n",
       "      <td>61.3</td>\n",
       "    </tr>\n",
       "    <tr>\n",
       "      <th>4</th>\n",
       "      <td>1091117229345</td>\n",
       "      <td>2001807012</td>\n",
       "      <td>0.15</td>\n",
       "      <td>121003</td>\n",
       "      <td>515591</td>\n",
       "      <td>d</td>\n",
       "      <td>Forward charges</td>\n",
       "      <td>45.4</td>\n",
       "    </tr>\n",
       "    <tr>\n",
       "      <th>...</th>\n",
       "      <td>...</td>\n",
       "      <td>...</td>\n",
       "      <td>...</td>\n",
       "      <td>...</td>\n",
       "      <td>...</td>\n",
       "      <td>...</td>\n",
       "      <td>...</td>\n",
       "      <td>...</td>\n",
       "    </tr>\n",
       "    <tr>\n",
       "      <th>119</th>\n",
       "      <td>1091118551656</td>\n",
       "      <td>2001812941</td>\n",
       "      <td>0.73</td>\n",
       "      <td>121003</td>\n",
       "      <td>325207</td>\n",
       "      <td>d</td>\n",
       "      <td>Forward charges</td>\n",
       "      <td>90.2</td>\n",
       "    </tr>\n",
       "    <tr>\n",
       "      <th>120</th>\n",
       "      <td>1091117614452</td>\n",
       "      <td>2001809383</td>\n",
       "      <td>0.50</td>\n",
       "      <td>121003</td>\n",
       "      <td>303702</td>\n",
       "      <td>d</td>\n",
       "      <td>Forward and RTO charges</td>\n",
       "      <td>86.7</td>\n",
       "    </tr>\n",
       "    <tr>\n",
       "      <th>121</th>\n",
       "      <td>1091120922803</td>\n",
       "      <td>2001820978</td>\n",
       "      <td>0.50</td>\n",
       "      <td>121003</td>\n",
       "      <td>313301</td>\n",
       "      <td>d</td>\n",
       "      <td>Forward charges</td>\n",
       "      <td>45.4</td>\n",
       "    </tr>\n",
       "    <tr>\n",
       "      <th>122</th>\n",
       "      <td>1091121844806</td>\n",
       "      <td>2001811475</td>\n",
       "      <td>0.50</td>\n",
       "      <td>121003</td>\n",
       "      <td>173212</td>\n",
       "      <td>b</td>\n",
       "      <td>Forward charges</td>\n",
       "      <td>33.0</td>\n",
       "    </tr>\n",
       "    <tr>\n",
       "      <th>123</th>\n",
       "      <td>1091121846136</td>\n",
       "      <td>2001811305</td>\n",
       "      <td>0.50</td>\n",
       "      <td>121003</td>\n",
       "      <td>302020</td>\n",
       "      <td>d</td>\n",
       "      <td>Forward charges</td>\n",
       "      <td>45.4</td>\n",
       "    </tr>\n",
       "  </tbody>\n",
       "</table>\n",
       "<p>124 rows × 8 columns</p>\n",
       "</div>"
      ],
      "text/plain": [
       "          AWB Code    Order ID  Charged Weight  Warehouse Pincode  \\\n",
       "0    1091117222124  2001806232            1.30             121003   \n",
       "1    1091117222194  2001806273            1.00             121003   \n",
       "2    1091117222931  2001806408            2.50             121003   \n",
       "3    1091117223244  2001806458            1.00             121003   \n",
       "4    1091117229345  2001807012            0.15             121003   \n",
       "..             ...         ...             ...                ...   \n",
       "119  1091118551656  2001812941            0.73             121003   \n",
       "120  1091117614452  2001809383            0.50             121003   \n",
       "121  1091120922803  2001820978            0.50             121003   \n",
       "122  1091121844806  2001811475            0.50             121003   \n",
       "123  1091121846136  2001811305            0.50             121003   \n",
       "\n",
       "     Customer Pincode Zone         Type of Shipment  Billing Amount (Rs.)  \n",
       "0              507101    d          Forward charges                 135.0  \n",
       "1              486886    d          Forward charges                  90.2  \n",
       "2              532484    d          Forward charges                 224.6  \n",
       "3              143001    b          Forward charges                  61.3  \n",
       "4              515591    d          Forward charges                  45.4  \n",
       "..                ...  ...                      ...                   ...  \n",
       "119            325207    d          Forward charges                  90.2  \n",
       "120            303702    d  Forward and RTO charges                  86.7  \n",
       "121            313301    d          Forward charges                  45.4  \n",
       "122            173212    b          Forward charges                  33.0  \n",
       "123            302020    d          Forward charges                  45.4  \n",
       "\n",
       "[124 rows x 8 columns]"
      ]
     },
     "execution_count": 26,
     "metadata": {},
     "output_type": "execute_result"
    }
   ],
   "source": [
    "invoiceDf = pd.read_csv('./Invoice.csv')\n",
    "invoiceDf"
   ]
  },
  {
   "cell_type": "code",
   "execution_count": 27,
   "metadata": {},
   "outputs": [
    {
     "data": {
      "application/vnd.microsoft.datawrangler.viewer.v0+json": {
       "columns": [
        {
         "name": "index",
         "rawType": "int64",
         "type": "integer"
        },
        {
         "name": "AWB Code",
         "rawType": "int64",
         "type": "integer"
        },
        {
         "name": "Order ID",
         "rawType": "int64",
         "type": "integer"
        },
        {
         "name": "Charged Weight",
         "rawType": "float64",
         "type": "float"
        },
        {
         "name": "Warehouse Pincode",
         "rawType": "int64",
         "type": "integer"
        },
        {
         "name": "Customer Pincode",
         "rawType": "int64",
         "type": "integer"
        },
        {
         "name": "Zone",
         "rawType": "object",
         "type": "string"
        },
        {
         "name": "Type of Shipment",
         "rawType": "object",
         "type": "string"
        },
        {
         "name": "Billing Amount (Rs.)",
         "rawType": "float64",
         "type": "float"
        }
       ],
       "conversionMethod": "pd.DataFrame",
       "ref": "8e29c907-e014-4a53-ac13-3ac812ebecec",
       "rows": [],
       "shape": {
        "columns": 8,
        "rows": 0
       }
      },
      "text/html": [
       "<div>\n",
       "<style scoped>\n",
       "    .dataframe tbody tr th:only-of-type {\n",
       "        vertical-align: middle;\n",
       "    }\n",
       "\n",
       "    .dataframe tbody tr th {\n",
       "        vertical-align: top;\n",
       "    }\n",
       "\n",
       "    .dataframe thead th {\n",
       "        text-align: right;\n",
       "    }\n",
       "</style>\n",
       "<table border=\"1\" class=\"dataframe\">\n",
       "  <thead>\n",
       "    <tr style=\"text-align: right;\">\n",
       "      <th></th>\n",
       "      <th>AWB Code</th>\n",
       "      <th>Order ID</th>\n",
       "      <th>Charged Weight</th>\n",
       "      <th>Warehouse Pincode</th>\n",
       "      <th>Customer Pincode</th>\n",
       "      <th>Zone</th>\n",
       "      <th>Type of Shipment</th>\n",
       "      <th>Billing Amount (Rs.)</th>\n",
       "    </tr>\n",
       "  </thead>\n",
       "  <tbody>\n",
       "  </tbody>\n",
       "</table>\n",
       "</div>"
      ],
      "text/plain": [
       "Empty DataFrame\n",
       "Columns: [AWB Code, Order ID, Charged Weight, Warehouse Pincode, Customer Pincode, Zone, Type of Shipment, Billing Amount (Rs.)]\n",
       "Index: []"
      ]
     },
     "execution_count": 27,
     "metadata": {},
     "output_type": "execute_result"
    }
   ],
   "source": [
    "invoiceDf[invoiceDf.duplicated(subset=[\"Order ID\"])]"
   ]
  },
  {
   "cell_type": "markdown",
   "metadata": {},
   "source": [
    "## Fraud Analysis"
   ]
  },
  {
   "cell_type": "markdown",
   "metadata": {},
   "source": [
    "Steps plan:  \n",
    "\n",
    "1. Calculate the weight for each SKU in each order. SKU weight per unit x quantity order  \n",
    "2. Group by order and get the total weight per order  \n",
    "3. Round to the nearest multiple of 0.5kg -> Conversion to kg needed  \n",
    "4. Get receiver delivery zone as per ABC (the company) while get the respective fixed and additional  \n",
    "5. Calculate the expected price and investigate if the company is being over-/undercharged or charged properly  "
   ]
  },
  {
   "cell_type": "markdown",
   "metadata": {},
   "source": [
    "Step 1: Calculate the weight for each SKU in each order. SKU weight per unit x quantity order"
   ]
  },
  {
   "cell_type": "code",
   "execution_count": 35,
   "metadata": {},
   "outputs": [
    {
     "data": {
      "application/vnd.microsoft.datawrangler.viewer.v0+json": {
       "columns": [
        {
         "name": "index",
         "rawType": "int64",
         "type": "integer"
        },
        {
         "name": "Order ID",
         "rawType": "int64",
         "type": "integer"
        },
        {
         "name": "SKU",
         "rawType": "object",
         "type": "string"
        },
        {
         "name": "Order Qty",
         "rawType": "float64",
         "type": "float"
        }
       ],
       "conversionMethod": "pd.DataFrame",
       "ref": "f3c5ee62-8a94-40c9-adee-4faab3eb3b81",
       "rows": [
        [
         "0",
         "2001806210",
         "8904223816214",
         "1.0"
        ],
        [
         "1",
         "2001806210",
         "8904223818874",
         "1.0"
        ],
        [
         "2",
         "2001806226",
         "8904223818850",
         "2.0"
        ],
        [
         "3",
         "2001806229",
         "8904223818706",
         "1.0"
        ],
        [
         "4",
         "2001806229",
         "8904223818850",
         "1.0"
        ],
        [
         "5",
         "2001806229",
         "8904223818942",
         "1.0"
        ],
        [
         "6",
         "2001806232",
         "8904223818645",
         "6.0"
        ],
        [
         "7",
         "2001806232",
         "8904223819147",
         "2.0"
        ],
        [
         "8",
         "2001806233",
         "8904223819161",
         "1.0"
        ],
        [
         "9",
         "2001806233",
         "8904223819260",
         "1.0"
        ],
        [
         "10",
         "2001806251",
         "8904223819161",
         "1.0"
        ],
        [
         "11",
         "2001806251",
         "8904223819260",
         "1.0"
        ],
        [
         "12",
         "2001806273",
         "8904223818706",
         "1.0"
        ],
        [
         "13",
         "2001806273",
         "8904223818850",
         "1.0"
        ],
        [
         "14",
         "2001806273",
         "8904223818942",
         "1.0"
        ],
        [
         "15",
         "2001806273",
         "8904223819017",
         "1.0"
        ],
        [
         "16",
         "2001806304",
         "8904223818706",
         "1.0"
        ],
        [
         "17",
         "2001806304",
         "8904223818850",
         "1.0"
        ],
        [
         "18",
         "2001806304",
         "8904223818942",
         "1.0"
        ],
        [
         "19",
         "2001806338",
         "8904223818706",
         "1.0"
        ],
        [
         "20",
         "2001806338",
         "8904223818850",
         "1.0"
        ],
        [
         "21",
         "2001806338",
         "8904223818942",
         "1.0"
        ],
        [
         "22",
         "2001806408",
         "8904223818874",
         "1.0"
        ],
        [
         "23",
         "2001806408",
         "8904223819024",
         "8.0"
        ],
        [
         "24",
         "2001806408",
         "8904223819352",
         "1.0"
        ],
        [
         "25",
         "2001806408",
         "8904223819437",
         "2.0"
        ],
        [
         "26",
         "2001806446",
         "8904223818706",
         "1.0"
        ],
        [
         "27",
         "2001806446",
         "8904223818850",
         "1.0"
        ],
        [
         "28",
         "2001806446",
         "8904223818942",
         "1.0"
        ],
        [
         "29",
         "2001806458",
         "8904223818478",
         "1.0"
        ],
        [
         "30",
         "2001806458",
         "8904223819284",
         "1.0"
        ],
        [
         "31",
         "2001806471",
         "8904223818683",
         "1.0"
        ],
        [
         "32",
         "2001806471",
         "8904223818706",
         "3.0"
        ],
        [
         "33",
         "2001806471",
         "8904223818850",
         "3.0"
        ],
        [
         "34",
         "2001806471",
         "8904223818942",
         "3.0"
        ],
        [
         "35",
         "2001806533",
         "8904223818706",
         "1.0"
        ],
        [
         "36",
         "2001806533",
         "8904223818850",
         "1.0"
        ],
        [
         "37",
         "2001806533",
         "8904223818942",
         "1.0"
        ],
        [
         "38",
         "2001806547",
         "8904223818706",
         "1.0"
        ],
        [
         "39",
         "2001806567",
         "8904223815804",
         "1.0"
        ],
        [
         "40",
         "2001806567",
         "8904223816214",
         "1.0"
        ],
        [
         "41",
         "2001806567",
         "8904223818577",
         "1.0"
        ],
        [
         "42",
         "2001806567",
         "8904223818591",
         "1.0"
        ],
        [
         "43",
         "2001806567",
         "8904223819024",
         "1.0"
        ],
        [
         "44",
         "2001806567",
         "8904223819253",
         "1.0"
        ],
        [
         "45",
         "2001806575",
         "8904223818706",
         "1.0"
        ],
        [
         "46",
         "2001806575",
         "8904223818850",
         "1.0"
        ],
        [
         "47",
         "2001806575",
         "8904223818942",
         "1.0"
        ],
        [
         "48",
         "2001806616",
         "8904223818669",
         "1.0"
        ],
        [
         "49",
         "2001806616",
         "8904223818683",
         "1.0"
        ]
       ],
       "shape": {
        "columns": 3,
        "rows": 393
       }
      },
      "text/html": [
       "<div>\n",
       "<style scoped>\n",
       "    .dataframe tbody tr th:only-of-type {\n",
       "        vertical-align: middle;\n",
       "    }\n",
       "\n",
       "    .dataframe tbody tr th {\n",
       "        vertical-align: top;\n",
       "    }\n",
       "\n",
       "    .dataframe thead th {\n",
       "        text-align: right;\n",
       "    }\n",
       "</style>\n",
       "<table border=\"1\" class=\"dataframe\">\n",
       "  <thead>\n",
       "    <tr style=\"text-align: right;\">\n",
       "      <th></th>\n",
       "      <th>Order ID</th>\n",
       "      <th>SKU</th>\n",
       "      <th>Order Qty</th>\n",
       "    </tr>\n",
       "  </thead>\n",
       "  <tbody>\n",
       "    <tr>\n",
       "      <th>0</th>\n",
       "      <td>2001806210</td>\n",
       "      <td>8904223816214</td>\n",
       "      <td>1.0</td>\n",
       "    </tr>\n",
       "    <tr>\n",
       "      <th>1</th>\n",
       "      <td>2001806210</td>\n",
       "      <td>8904223818874</td>\n",
       "      <td>1.0</td>\n",
       "    </tr>\n",
       "    <tr>\n",
       "      <th>2</th>\n",
       "      <td>2001806226</td>\n",
       "      <td>8904223818850</td>\n",
       "      <td>2.0</td>\n",
       "    </tr>\n",
       "    <tr>\n",
       "      <th>3</th>\n",
       "      <td>2001806229</td>\n",
       "      <td>8904223818706</td>\n",
       "      <td>1.0</td>\n",
       "    </tr>\n",
       "    <tr>\n",
       "      <th>4</th>\n",
       "      <td>2001806229</td>\n",
       "      <td>8904223818850</td>\n",
       "      <td>1.0</td>\n",
       "    </tr>\n",
       "    <tr>\n",
       "      <th>...</th>\n",
       "      <td>...</td>\n",
       "      <td>...</td>\n",
       "      <td>...</td>\n",
       "    </tr>\n",
       "    <tr>\n",
       "      <th>388</th>\n",
       "      <td>2001827036</td>\n",
       "      <td>8904223819093</td>\n",
       "      <td>1.0</td>\n",
       "    </tr>\n",
       "    <tr>\n",
       "      <th>389</th>\n",
       "      <td>2001827036</td>\n",
       "      <td>8904223819109</td>\n",
       "      <td>1.0</td>\n",
       "    </tr>\n",
       "    <tr>\n",
       "      <th>390</th>\n",
       "      <td>2001827036</td>\n",
       "      <td>8904223819277</td>\n",
       "      <td>1.0</td>\n",
       "    </tr>\n",
       "    <tr>\n",
       "      <th>391</th>\n",
       "      <td>2001827036</td>\n",
       "      <td>GIFTBOX202002</td>\n",
       "      <td>1.0</td>\n",
       "    </tr>\n",
       "    <tr>\n",
       "      <th>392</th>\n",
       "      <td>2001827036</td>\n",
       "      <td>SACHETS001</td>\n",
       "      <td>1.0</td>\n",
       "    </tr>\n",
       "  </tbody>\n",
       "</table>\n",
       "<p>393 rows × 3 columns</p>\n",
       "</div>"
      ],
      "text/plain": [
       "       Order ID            SKU  Order Qty\n",
       "0    2001806210  8904223816214        1.0\n",
       "1    2001806210  8904223818874        1.0\n",
       "2    2001806226  8904223818850        2.0\n",
       "3    2001806229  8904223818706        1.0\n",
       "4    2001806229  8904223818850        1.0\n",
       "..          ...            ...        ...\n",
       "388  2001827036  8904223819093        1.0\n",
       "389  2001827036  8904223819109        1.0\n",
       "390  2001827036  8904223819277        1.0\n",
       "391  2001827036  GIFTBOX202002        1.0\n",
       "392  2001827036     SACHETS001        1.0\n",
       "\n",
       "[393 rows x 3 columns]"
      ]
     },
     "execution_count": 35,
     "metadata": {},
     "output_type": "execute_result"
    }
   ],
   "source": [
    "result = orderGroupBy.copy()\n",
    "result"
   ]
  },
  {
   "cell_type": "code",
   "execution_count": 36,
   "metadata": {},
   "outputs": [],
   "source": [
    "result = result.merge(skuDf, on=\"SKU\", how=\"left\")\n",
    "result[\"Total Weight (g)\"] = result[\"Order Qty\"] * result[\"Weight (g)\"]"
   ]
  },
  {
   "cell_type": "markdown",
   "metadata": {},
   "source": [
    "Step 2. Group by order and get the total weight per order"
   ]
  },
  {
   "cell_type": "code",
   "execution_count": 37,
   "metadata": {},
   "outputs": [
    {
     "data": {
      "application/vnd.microsoft.datawrangler.viewer.v0+json": {
       "columns": [
        {
         "name": "Order ID",
         "rawType": "int64",
         "type": "integer"
        },
        {
         "name": "Total Weight (g)",
         "rawType": "float64",
         "type": "float"
        }
       ],
       "conversionMethod": "pd.DataFrame",
       "ref": "db325a45-120d-457c-96e7-e1494b94d3c2",
       "rows": [
        [
         "2001806210",
         "220.0"
        ],
        [
         "2001806226",
         "480.0"
        ],
        [
         "2001806229",
         "500.0"
        ],
        [
         "2001806232",
         "1302.0"
        ],
        [
         "2001806233",
         "245.0"
        ],
        [
         "2001806251",
         "245.0"
        ],
        [
         "2001806273",
         "615.0"
        ],
        [
         "2001806304",
         "500.0"
        ],
        [
         "2001806338",
         "500.0"
        ],
        [
         "2001806408",
         "2265.0"
        ],
        [
         "2001806446",
         "500.0"
        ],
        [
         "2001806458",
         "700.0"
        ],
        [
         "2001806471",
         "1621.0"
        ],
        [
         "2001806533",
         "500.0"
        ],
        [
         "2001806547",
         "127.0"
        ],
        [
         "2001806567",
         "952.0"
        ],
        [
         "2001806575",
         "500.0"
        ],
        [
         "2001806616",
         "963.0"
        ],
        [
         "2001806652",
         "500.0"
        ],
        [
         "2001806686",
         "240.0"
        ],
        [
         "2001806726",
         "500.0"
        ],
        [
         "2001806733",
         "967.0"
        ],
        [
         "2001806735",
         "500.0"
        ],
        [
         "2001806768",
         "840.0"
        ],
        [
         "2001806776",
         "611.0"
        ],
        [
         "2001806801",
         "361.0"
        ],
        [
         "2001806823",
         "127.0"
        ],
        [
         "2001806828",
         "500.0"
        ],
        [
         "2001806885",
         "840.0"
        ],
        [
         "2001806968",
         "500.0"
        ],
        [
         "2001807004",
         "500.0"
        ],
        [
         "2001807012",
         "240.0"
        ],
        [
         "2001807036",
         "1459.0"
        ],
        [
         "2001807058",
         "1168.0"
        ],
        [
         "2001807084",
         "500.0"
        ],
        [
         "2001807186",
         "500.0"
        ],
        [
         "2001807241",
         "607.0"
        ],
        [
         "2001807290",
         "500.0"
        ],
        [
         "2001807328",
         "490.0"
        ],
        [
         "2001807329",
         "500.0"
        ],
        [
         "2001807362",
         "2016.0"
        ],
        [
         "2001807415",
         "1048.0"
        ],
        [
         "2001807613",
         "830.0"
        ],
        [
         "2001807785",
         "500.0"
        ],
        [
         "2001807814",
         "607.0"
        ],
        [
         "2001807852",
         "500.0"
        ],
        [
         "2001807930",
         "240.0"
        ],
        [
         "2001807931",
         "607.0"
        ],
        [
         "2001807956",
         "1080.0"
        ],
        [
         "2001807960",
         "930.0"
        ]
       ],
       "shape": {
        "columns": 1,
        "rows": 124
       }
      },
      "text/html": [
       "<div>\n",
       "<style scoped>\n",
       "    .dataframe tbody tr th:only-of-type {\n",
       "        vertical-align: middle;\n",
       "    }\n",
       "\n",
       "    .dataframe tbody tr th {\n",
       "        vertical-align: top;\n",
       "    }\n",
       "\n",
       "    .dataframe thead th {\n",
       "        text-align: right;\n",
       "    }\n",
       "</style>\n",
       "<table border=\"1\" class=\"dataframe\">\n",
       "  <thead>\n",
       "    <tr style=\"text-align: right;\">\n",
       "      <th></th>\n",
       "      <th>Total Weight (g)</th>\n",
       "    </tr>\n",
       "    <tr>\n",
       "      <th>Order ID</th>\n",
       "      <th></th>\n",
       "    </tr>\n",
       "  </thead>\n",
       "  <tbody>\n",
       "    <tr>\n",
       "      <th>2001806210</th>\n",
       "      <td>220.0</td>\n",
       "    </tr>\n",
       "    <tr>\n",
       "      <th>2001806226</th>\n",
       "      <td>480.0</td>\n",
       "    </tr>\n",
       "    <tr>\n",
       "      <th>2001806229</th>\n",
       "      <td>500.0</td>\n",
       "    </tr>\n",
       "    <tr>\n",
       "      <th>2001806232</th>\n",
       "      <td>1302.0</td>\n",
       "    </tr>\n",
       "    <tr>\n",
       "      <th>2001806233</th>\n",
       "      <td>245.0</td>\n",
       "    </tr>\n",
       "    <tr>\n",
       "      <th>...</th>\n",
       "      <td>...</td>\n",
       "    </tr>\n",
       "    <tr>\n",
       "      <th>2001821995</th>\n",
       "      <td>477.0</td>\n",
       "    </tr>\n",
       "    <tr>\n",
       "      <th>2001822466</th>\n",
       "      <td>1376.0</td>\n",
       "    </tr>\n",
       "    <tr>\n",
       "      <th>2001823564</th>\n",
       "      <td>672.0</td>\n",
       "    </tr>\n",
       "    <tr>\n",
       "      <th>2001825261</th>\n",
       "      <td>1557.0</td>\n",
       "    </tr>\n",
       "    <tr>\n",
       "      <th>2001827036</th>\n",
       "      <td>1676.0</td>\n",
       "    </tr>\n",
       "  </tbody>\n",
       "</table>\n",
       "<p>124 rows × 1 columns</p>\n",
       "</div>"
      ],
      "text/plain": [
       "            Total Weight (g)\n",
       "Order ID                    \n",
       "2001806210             220.0\n",
       "2001806226             480.0\n",
       "2001806229             500.0\n",
       "2001806232            1302.0\n",
       "2001806233             245.0\n",
       "...                      ...\n",
       "2001821995             477.0\n",
       "2001822466            1376.0\n",
       "2001823564             672.0\n",
       "2001825261            1557.0\n",
       "2001827036            1676.0\n",
       "\n",
       "[124 rows x 1 columns]"
      ]
     },
     "execution_count": 37,
     "metadata": {},
     "output_type": "execute_result"
    }
   ],
   "source": [
    "resultOrder = result.groupby(by=\"Order ID\").sum()\n",
    "resultOrder = resultOrder[[\"Total Weight (g)\"]]\n",
    "resultOrder"
   ]
  },
  {
   "cell_type": "markdown",
   "metadata": {},
   "source": [
    "Step 3: Round to the nearest multiple of 0.5kg -> Conversion to kg needed"
   ]
  },
  {
   "cell_type": "code",
   "execution_count": 38,
   "metadata": {},
   "outputs": [
    {
     "data": {
      "application/vnd.microsoft.datawrangler.viewer.v0+json": {
       "columns": [
        {
         "name": "Order ID",
         "rawType": "int64",
         "type": "integer"
        },
        {
         "name": "Total Weight (kg)",
         "rawType": "float64",
         "type": "float"
        }
       ],
       "conversionMethod": "pd.DataFrame",
       "ref": "46c6d54c-c1a7-4186-9e46-8afd73cd3ff0",
       "rows": [
        [
         "2001806210",
         "0.22"
        ],
        [
         "2001806226",
         "0.48"
        ],
        [
         "2001806229",
         "0.5"
        ],
        [
         "2001806232",
         "1.302"
        ],
        [
         "2001806233",
         "0.245"
        ],
        [
         "2001806251",
         "0.245"
        ],
        [
         "2001806273",
         "0.615"
        ],
        [
         "2001806304",
         "0.5"
        ],
        [
         "2001806338",
         "0.5"
        ],
        [
         "2001806408",
         "2.265"
        ],
        [
         "2001806446",
         "0.5"
        ],
        [
         "2001806458",
         "0.7"
        ],
        [
         "2001806471",
         "1.621"
        ],
        [
         "2001806533",
         "0.5"
        ],
        [
         "2001806547",
         "0.127"
        ],
        [
         "2001806567",
         "0.952"
        ],
        [
         "2001806575",
         "0.5"
        ],
        [
         "2001806616",
         "0.963"
        ],
        [
         "2001806652",
         "0.5"
        ],
        [
         "2001806686",
         "0.24"
        ],
        [
         "2001806726",
         "0.5"
        ],
        [
         "2001806733",
         "0.967"
        ],
        [
         "2001806735",
         "0.5"
        ],
        [
         "2001806768",
         "0.84"
        ],
        [
         "2001806776",
         "0.611"
        ],
        [
         "2001806801",
         "0.361"
        ],
        [
         "2001806823",
         "0.127"
        ],
        [
         "2001806828",
         "0.5"
        ],
        [
         "2001806885",
         "0.84"
        ],
        [
         "2001806968",
         "0.5"
        ],
        [
         "2001807004",
         "0.5"
        ],
        [
         "2001807012",
         "0.24"
        ],
        [
         "2001807036",
         "1.459"
        ],
        [
         "2001807058",
         "1.168"
        ],
        [
         "2001807084",
         "0.5"
        ],
        [
         "2001807186",
         "0.5"
        ],
        [
         "2001807241",
         "0.607"
        ],
        [
         "2001807290",
         "0.5"
        ],
        [
         "2001807328",
         "0.49"
        ],
        [
         "2001807329",
         "0.5"
        ],
        [
         "2001807362",
         "2.016"
        ],
        [
         "2001807415",
         "1.048"
        ],
        [
         "2001807613",
         "0.83"
        ],
        [
         "2001807785",
         "0.5"
        ],
        [
         "2001807814",
         "0.607"
        ],
        [
         "2001807852",
         "0.5"
        ],
        [
         "2001807930",
         "0.24"
        ],
        [
         "2001807931",
         "0.607"
        ],
        [
         "2001807956",
         "1.08"
        ],
        [
         "2001807960",
         "0.93"
        ]
       ],
       "shape": {
        "columns": 1,
        "rows": 124
       }
      },
      "text/html": [
       "<div>\n",
       "<style scoped>\n",
       "    .dataframe tbody tr th:only-of-type {\n",
       "        vertical-align: middle;\n",
       "    }\n",
       "\n",
       "    .dataframe tbody tr th {\n",
       "        vertical-align: top;\n",
       "    }\n",
       "\n",
       "    .dataframe thead th {\n",
       "        text-align: right;\n",
       "    }\n",
       "</style>\n",
       "<table border=\"1\" class=\"dataframe\">\n",
       "  <thead>\n",
       "    <tr style=\"text-align: right;\">\n",
       "      <th></th>\n",
       "      <th>Total Weight (kg)</th>\n",
       "    </tr>\n",
       "    <tr>\n",
       "      <th>Order ID</th>\n",
       "      <th></th>\n",
       "    </tr>\n",
       "  </thead>\n",
       "  <tbody>\n",
       "    <tr>\n",
       "      <th>2001806210</th>\n",
       "      <td>0.220</td>\n",
       "    </tr>\n",
       "    <tr>\n",
       "      <th>2001806226</th>\n",
       "      <td>0.480</td>\n",
       "    </tr>\n",
       "    <tr>\n",
       "      <th>2001806229</th>\n",
       "      <td>0.500</td>\n",
       "    </tr>\n",
       "    <tr>\n",
       "      <th>2001806232</th>\n",
       "      <td>1.302</td>\n",
       "    </tr>\n",
       "    <tr>\n",
       "      <th>2001806233</th>\n",
       "      <td>0.245</td>\n",
       "    </tr>\n",
       "    <tr>\n",
       "      <th>...</th>\n",
       "      <td>...</td>\n",
       "    </tr>\n",
       "    <tr>\n",
       "      <th>2001821995</th>\n",
       "      <td>0.477</td>\n",
       "    </tr>\n",
       "    <tr>\n",
       "      <th>2001822466</th>\n",
       "      <td>1.376</td>\n",
       "    </tr>\n",
       "    <tr>\n",
       "      <th>2001823564</th>\n",
       "      <td>0.672</td>\n",
       "    </tr>\n",
       "    <tr>\n",
       "      <th>2001825261</th>\n",
       "      <td>1.557</td>\n",
       "    </tr>\n",
       "    <tr>\n",
       "      <th>2001827036</th>\n",
       "      <td>1.676</td>\n",
       "    </tr>\n",
       "  </tbody>\n",
       "</table>\n",
       "<p>124 rows × 1 columns</p>\n",
       "</div>"
      ],
      "text/plain": [
       "            Total Weight (kg)\n",
       "Order ID                     \n",
       "2001806210              0.220\n",
       "2001806226              0.480\n",
       "2001806229              0.500\n",
       "2001806232              1.302\n",
       "2001806233              0.245\n",
       "...                       ...\n",
       "2001821995              0.477\n",
       "2001822466              1.376\n",
       "2001823564              0.672\n",
       "2001825261              1.557\n",
       "2001827036              1.676\n",
       "\n",
       "[124 rows x 1 columns]"
      ]
     },
     "execution_count": 38,
     "metadata": {},
     "output_type": "execute_result"
    }
   ],
   "source": [
    "resultOrder = resultOrder.apply(lambda x: x/1000)\n",
    "resultOrder = resultOrder.rename(columns={'Total Weight (g)': 'Total Weight (kg)'})\n",
    "resultOrder"
   ]
  },
  {
   "cell_type": "code",
   "execution_count": 39,
   "metadata": {},
   "outputs": [
    {
     "data": {
      "application/vnd.microsoft.datawrangler.viewer.v0+json": {
       "columns": [
        {
         "name": "Order ID",
         "rawType": "int64",
         "type": "integer"
        },
        {
         "name": "Total Weight (kg)",
         "rawType": "float64",
         "type": "float"
        },
        {
         "name": "Weight Slab (kg)",
         "rawType": "float64",
         "type": "float"
        }
       ],
       "conversionMethod": "pd.DataFrame",
       "ref": "e5a06898-185a-4ac2-9d8d-25e19ae17b51",
       "rows": [
        [
         "2001806210",
         "0.22",
         "0.5"
        ],
        [
         "2001806226",
         "0.48",
         "0.5"
        ],
        [
         "2001806229",
         "0.5",
         "0.5"
        ],
        [
         "2001806232",
         "1.302",
         "1.5"
        ],
        [
         "2001806233",
         "0.245",
         "0.5"
        ],
        [
         "2001806251",
         "0.245",
         "0.5"
        ],
        [
         "2001806273",
         "0.615",
         "1.0"
        ],
        [
         "2001806304",
         "0.5",
         "0.5"
        ],
        [
         "2001806338",
         "0.5",
         "0.5"
        ],
        [
         "2001806408",
         "2.265",
         "2.5"
        ],
        [
         "2001806446",
         "0.5",
         "0.5"
        ],
        [
         "2001806458",
         "0.7",
         "1.0"
        ],
        [
         "2001806471",
         "1.621",
         "2.0"
        ],
        [
         "2001806533",
         "0.5",
         "0.5"
        ],
        [
         "2001806547",
         "0.127",
         "0.5"
        ],
        [
         "2001806567",
         "0.952",
         "1.0"
        ],
        [
         "2001806575",
         "0.5",
         "0.5"
        ],
        [
         "2001806616",
         "0.963",
         "1.0"
        ],
        [
         "2001806652",
         "0.5",
         "0.5"
        ],
        [
         "2001806686",
         "0.24",
         "0.5"
        ],
        [
         "2001806726",
         "0.5",
         "0.5"
        ],
        [
         "2001806733",
         "0.967",
         "1.0"
        ],
        [
         "2001806735",
         "0.5",
         "0.5"
        ],
        [
         "2001806768",
         "0.84",
         "1.0"
        ],
        [
         "2001806776",
         "0.611",
         "1.0"
        ],
        [
         "2001806801",
         "0.361",
         "0.5"
        ],
        [
         "2001806823",
         "0.127",
         "0.5"
        ],
        [
         "2001806828",
         "0.5",
         "0.5"
        ],
        [
         "2001806885",
         "0.84",
         "1.0"
        ],
        [
         "2001806968",
         "0.5",
         "0.5"
        ],
        [
         "2001807004",
         "0.5",
         "0.5"
        ],
        [
         "2001807012",
         "0.24",
         "0.5"
        ],
        [
         "2001807036",
         "1.459",
         "1.5"
        ],
        [
         "2001807058",
         "1.168",
         "1.5"
        ],
        [
         "2001807084",
         "0.5",
         "0.5"
        ],
        [
         "2001807186",
         "0.5",
         "0.5"
        ],
        [
         "2001807241",
         "0.607",
         "1.0"
        ],
        [
         "2001807290",
         "0.5",
         "0.5"
        ],
        [
         "2001807328",
         "0.49",
         "0.5"
        ],
        [
         "2001807329",
         "0.5",
         "0.5"
        ],
        [
         "2001807362",
         "2.016",
         "2.5"
        ],
        [
         "2001807415",
         "1.048",
         "1.5"
        ],
        [
         "2001807613",
         "0.83",
         "1.0"
        ],
        [
         "2001807785",
         "0.5",
         "0.5"
        ],
        [
         "2001807814",
         "0.607",
         "1.0"
        ],
        [
         "2001807852",
         "0.5",
         "0.5"
        ],
        [
         "2001807930",
         "0.24",
         "0.5"
        ],
        [
         "2001807931",
         "0.607",
         "1.0"
        ],
        [
         "2001807956",
         "1.08",
         "1.5"
        ],
        [
         "2001807960",
         "0.93",
         "1.0"
        ]
       ],
       "shape": {
        "columns": 2,
        "rows": 124
       }
      },
      "text/html": [
       "<div>\n",
       "<style scoped>\n",
       "    .dataframe tbody tr th:only-of-type {\n",
       "        vertical-align: middle;\n",
       "    }\n",
       "\n",
       "    .dataframe tbody tr th {\n",
       "        vertical-align: top;\n",
       "    }\n",
       "\n",
       "    .dataframe thead th {\n",
       "        text-align: right;\n",
       "    }\n",
       "</style>\n",
       "<table border=\"1\" class=\"dataframe\">\n",
       "  <thead>\n",
       "    <tr style=\"text-align: right;\">\n",
       "      <th></th>\n",
       "      <th>Total Weight (kg)</th>\n",
       "      <th>Weight Slab (kg)</th>\n",
       "    </tr>\n",
       "    <tr>\n",
       "      <th>Order ID</th>\n",
       "      <th></th>\n",
       "      <th></th>\n",
       "    </tr>\n",
       "  </thead>\n",
       "  <tbody>\n",
       "    <tr>\n",
       "      <th>2001806210</th>\n",
       "      <td>0.220</td>\n",
       "      <td>0.5</td>\n",
       "    </tr>\n",
       "    <tr>\n",
       "      <th>2001806226</th>\n",
       "      <td>0.480</td>\n",
       "      <td>0.5</td>\n",
       "    </tr>\n",
       "    <tr>\n",
       "      <th>2001806229</th>\n",
       "      <td>0.500</td>\n",
       "      <td>0.5</td>\n",
       "    </tr>\n",
       "    <tr>\n",
       "      <th>2001806232</th>\n",
       "      <td>1.302</td>\n",
       "      <td>1.5</td>\n",
       "    </tr>\n",
       "    <tr>\n",
       "      <th>2001806233</th>\n",
       "      <td>0.245</td>\n",
       "      <td>0.5</td>\n",
       "    </tr>\n",
       "    <tr>\n",
       "      <th>...</th>\n",
       "      <td>...</td>\n",
       "      <td>...</td>\n",
       "    </tr>\n",
       "    <tr>\n",
       "      <th>2001821995</th>\n",
       "      <td>0.477</td>\n",
       "      <td>0.5</td>\n",
       "    </tr>\n",
       "    <tr>\n",
       "      <th>2001822466</th>\n",
       "      <td>1.376</td>\n",
       "      <td>1.5</td>\n",
       "    </tr>\n",
       "    <tr>\n",
       "      <th>2001823564</th>\n",
       "      <td>0.672</td>\n",
       "      <td>1.0</td>\n",
       "    </tr>\n",
       "    <tr>\n",
       "      <th>2001825261</th>\n",
       "      <td>1.557</td>\n",
       "      <td>2.0</td>\n",
       "    </tr>\n",
       "    <tr>\n",
       "      <th>2001827036</th>\n",
       "      <td>1.676</td>\n",
       "      <td>2.0</td>\n",
       "    </tr>\n",
       "  </tbody>\n",
       "</table>\n",
       "<p>124 rows × 2 columns</p>\n",
       "</div>"
      ],
      "text/plain": [
       "            Total Weight (kg)  Weight Slab (kg)\n",
       "Order ID                                       \n",
       "2001806210              0.220               0.5\n",
       "2001806226              0.480               0.5\n",
       "2001806229              0.500               0.5\n",
       "2001806232              1.302               1.5\n",
       "2001806233              0.245               0.5\n",
       "...                       ...               ...\n",
       "2001821995              0.477               0.5\n",
       "2001822466              1.376               1.5\n",
       "2001823564              0.672               1.0\n",
       "2001825261              1.557               2.0\n",
       "2001827036              1.676               2.0\n",
       "\n",
       "[124 rows x 2 columns]"
      ]
     },
     "execution_count": 39,
     "metadata": {},
     "output_type": "execute_result"
    }
   ],
   "source": [
    "resultOrder['Weight Slab (kg)'] = resultOrder['Total Weight (kg)'].apply(lambda x: math.ceil(x / 0.5) * 0.5)\n",
    "resultOrder"
   ]
  },
  {
   "cell_type": "code",
   "execution_count": 40,
   "metadata": {},
   "outputs": [
    {
     "data": {
      "application/vnd.microsoft.datawrangler.viewer.v0+json": {
       "columns": [
        {
         "name": "index",
         "rawType": "int64",
         "type": "integer"
        },
        {
         "name": "Warehouse Pincode",
         "rawType": "int64",
         "type": "integer"
        },
        {
         "name": "Customer Pincode",
         "rawType": "int64",
         "type": "integer"
        },
        {
         "name": "Zone",
         "rawType": "object",
         "type": "string"
        }
       ],
       "conversionMethod": "pd.DataFrame",
       "ref": "5e82377e-f330-47b6-a20c-5e01b607935a",
       "rows": [
        [
         "0",
         "121003",
         "507101",
         "d"
        ],
        [
         "1",
         "121003",
         "486886",
         "d"
        ],
        [
         "2",
         "121003",
         "532484",
         "d"
        ],
        [
         "3",
         "121003",
         "143001",
         "b"
        ],
        [
         "4",
         "121003",
         "515591",
         "d"
        ],
        [
         "5",
         "121003",
         "326502",
         "d"
        ],
        [
         "6",
         "121003",
         "208019",
         "b"
        ],
        [
         "7",
         "121003",
         "140301",
         "b"
        ],
        [
         "8",
         "121003",
         "396001",
         "d"
        ],
        [
         "9",
         "121003",
         "711106",
         "d"
        ],
        [
         "10",
         "121003",
         "284001",
         "b"
        ],
        [
         "11",
         "121003",
         "441601",
         "d"
        ],
        [
         "12",
         "121003",
         "248006",
         "b"
        ],
        [
         "13",
         "121003",
         "485001",
         "d"
        ],
        [
         "14",
         "121003",
         "845438",
         "d"
        ],
        [
         "15",
         "121003",
         "463106",
         "d"
        ],
        [
         "17",
         "121003",
         "495671",
         "d"
        ],
        [
         "18",
         "121003",
         "673002",
         "e"
        ],
        [
         "19",
         "121003",
         "208002",
         "b"
        ],
        [
         "20",
         "121003",
         "416010",
         "d"
        ],
        [
         "21",
         "121003",
         "226010",
         "b"
        ],
        [
         "22",
         "121003",
         "400705",
         "d"
        ],
        [
         "23",
         "121003",
         "262405",
         "b"
        ],
        [
         "24",
         "121003",
         "394210",
         "d"
        ],
        [
         "25",
         "121003",
         "411014",
         "d"
        ],
        [
         "26",
         "121003",
         "783301",
         "e"
        ],
        [
         "27",
         "121003",
         "486661",
         "d"
        ],
        [
         "28",
         "121003",
         "244001",
         "b"
        ],
        [
         "29",
         "121003",
         "492001",
         "d"
        ],
        [
         "30",
         "121003",
         "517128",
         "d"
        ],
        [
         "31",
         "121003",
         "562110",
         "d"
        ],
        [
         "32",
         "121003",
         "831006",
         "d"
        ],
        [
         "33",
         "121003",
         "140604",
         "b"
        ],
        [
         "34",
         "121003",
         "723146",
         "d"
        ],
        [
         "35",
         "121003",
         "421204",
         "d"
        ],
        [
         "36",
         "121003",
         "263139",
         "b"
        ],
        [
         "37",
         "121003",
         "743263",
         "d"
        ],
        [
         "38",
         "121003",
         "392150",
         "d"
        ],
        [
         "39",
         "121003",
         "382830",
         "d"
        ],
        [
         "40",
         "121003",
         "711303",
         "d"
        ],
        [
         "41",
         "121003",
         "283102",
         "b"
        ],
        [
         "42",
         "121003",
         "370201",
         "d"
        ],
        [
         "43",
         "121003",
         "248001",
         "b"
        ],
        [
         "44",
         "121003",
         "144001",
         "b"
        ],
        [
         "45",
         "121003",
         "403401",
         "d"
        ],
        [
         "46",
         "121003",
         "452001",
         "d"
        ],
        [
         "47",
         "121003",
         "721636",
         "d"
        ],
        [
         "48",
         "121003",
         "831002",
         "d"
        ],
        [
         "49",
         "121003",
         "226004",
         "b"
        ],
        [
         "51",
         "121003",
         "410206",
         "d"
        ]
       ],
       "shape": {
        "columns": 3,
        "rows": 108
       }
      },
      "text/html": [
       "<div>\n",
       "<style scoped>\n",
       "    .dataframe tbody tr th:only-of-type {\n",
       "        vertical-align: middle;\n",
       "    }\n",
       "\n",
       "    .dataframe tbody tr th {\n",
       "        vertical-align: top;\n",
       "    }\n",
       "\n",
       "    .dataframe thead th {\n",
       "        text-align: right;\n",
       "    }\n",
       "</style>\n",
       "<table border=\"1\" class=\"dataframe\">\n",
       "  <thead>\n",
       "    <tr style=\"text-align: right;\">\n",
       "      <th></th>\n",
       "      <th>Warehouse Pincode</th>\n",
       "      <th>Customer Pincode</th>\n",
       "      <th>Zone</th>\n",
       "    </tr>\n",
       "  </thead>\n",
       "  <tbody>\n",
       "    <tr>\n",
       "      <th>0</th>\n",
       "      <td>121003</td>\n",
       "      <td>507101</td>\n",
       "      <td>d</td>\n",
       "    </tr>\n",
       "    <tr>\n",
       "      <th>1</th>\n",
       "      <td>121003</td>\n",
       "      <td>486886</td>\n",
       "      <td>d</td>\n",
       "    </tr>\n",
       "    <tr>\n",
       "      <th>2</th>\n",
       "      <td>121003</td>\n",
       "      <td>532484</td>\n",
       "      <td>d</td>\n",
       "    </tr>\n",
       "    <tr>\n",
       "      <th>3</th>\n",
       "      <td>121003</td>\n",
       "      <td>143001</td>\n",
       "      <td>b</td>\n",
       "    </tr>\n",
       "    <tr>\n",
       "      <th>4</th>\n",
       "      <td>121003</td>\n",
       "      <td>515591</td>\n",
       "      <td>d</td>\n",
       "    </tr>\n",
       "    <tr>\n",
       "      <th>...</th>\n",
       "      <td>...</td>\n",
       "      <td>...</td>\n",
       "      <td>...</td>\n",
       "    </tr>\n",
       "    <tr>\n",
       "      <th>114</th>\n",
       "      <td>121003</td>\n",
       "      <td>324008</td>\n",
       "      <td>b</td>\n",
       "    </tr>\n",
       "    <tr>\n",
       "      <th>115</th>\n",
       "      <td>121003</td>\n",
       "      <td>302020</td>\n",
       "      <td>b</td>\n",
       "    </tr>\n",
       "    <tr>\n",
       "      <th>119</th>\n",
       "      <td>121003</td>\n",
       "      <td>325207</td>\n",
       "      <td>b</td>\n",
       "    </tr>\n",
       "    <tr>\n",
       "      <th>120</th>\n",
       "      <td>121003</td>\n",
       "      <td>303702</td>\n",
       "      <td>b</td>\n",
       "    </tr>\n",
       "    <tr>\n",
       "      <th>121</th>\n",
       "      <td>121003</td>\n",
       "      <td>313301</td>\n",
       "      <td>b</td>\n",
       "    </tr>\n",
       "  </tbody>\n",
       "</table>\n",
       "<p>108 rows × 3 columns</p>\n",
       "</div>"
      ],
      "text/plain": [
       "     Warehouse Pincode  Customer Pincode Zone\n",
       "0               121003            507101    d\n",
       "1               121003            486886    d\n",
       "2               121003            532484    d\n",
       "3               121003            143001    b\n",
       "4               121003            515591    d\n",
       "..                 ...               ...  ...\n",
       "114             121003            324008    b\n",
       "115             121003            302020    b\n",
       "119             121003            325207    b\n",
       "120             121003            303702    b\n",
       "121             121003            313301    b\n",
       "\n",
       "[108 rows x 3 columns]"
      ]
     },
     "execution_count": 40,
     "metadata": {},
     "output_type": "execute_result"
    }
   ],
   "source": [
    "pincodesDf"
   ]
  },
  {
   "cell_type": "code",
   "execution_count": 45,
   "metadata": {},
   "outputs": [
    {
     "data": {
      "application/vnd.microsoft.datawrangler.viewer.v0+json": {
       "columns": [
        {
         "name": "index",
         "rawType": "int64",
         "type": "integer"
        },
        {
         "name": "Order ID",
         "rawType": "int64",
         "type": "integer"
        },
        {
         "name": "Total Weight (kg)",
         "rawType": "float64",
         "type": "float"
        },
        {
         "name": "Weight Slab (kg)",
         "rawType": "float64",
         "type": "float"
        }
       ],
       "conversionMethod": "pd.DataFrame",
       "ref": "92a0687e-aed0-4504-b8c8-fe876301a588",
       "rows": [
        [
         "0",
         "2001806210",
         "0.22",
         "0.5"
        ],
        [
         "1",
         "2001806226",
         "0.48",
         "0.5"
        ],
        [
         "2",
         "2001806229",
         "0.5",
         "0.5"
        ],
        [
         "3",
         "2001806232",
         "1.302",
         "1.5"
        ],
        [
         "4",
         "2001806233",
         "0.245",
         "0.5"
        ],
        [
         "5",
         "2001806251",
         "0.245",
         "0.5"
        ],
        [
         "6",
         "2001806273",
         "0.615",
         "1.0"
        ],
        [
         "7",
         "2001806304",
         "0.5",
         "0.5"
        ],
        [
         "8",
         "2001806338",
         "0.5",
         "0.5"
        ],
        [
         "9",
         "2001806408",
         "2.265",
         "2.5"
        ],
        [
         "10",
         "2001806446",
         "0.5",
         "0.5"
        ],
        [
         "11",
         "2001806458",
         "0.7",
         "1.0"
        ],
        [
         "12",
         "2001806471",
         "1.621",
         "2.0"
        ],
        [
         "13",
         "2001806533",
         "0.5",
         "0.5"
        ],
        [
         "14",
         "2001806547",
         "0.127",
         "0.5"
        ],
        [
         "15",
         "2001806567",
         "0.952",
         "1.0"
        ],
        [
         "16",
         "2001806575",
         "0.5",
         "0.5"
        ],
        [
         "17",
         "2001806616",
         "0.963",
         "1.0"
        ],
        [
         "18",
         "2001806652",
         "0.5",
         "0.5"
        ],
        [
         "19",
         "2001806686",
         "0.24",
         "0.5"
        ],
        [
         "20",
         "2001806726",
         "0.5",
         "0.5"
        ],
        [
         "21",
         "2001806733",
         "0.967",
         "1.0"
        ],
        [
         "22",
         "2001806735",
         "0.5",
         "0.5"
        ],
        [
         "23",
         "2001806768",
         "0.84",
         "1.0"
        ],
        [
         "24",
         "2001806776",
         "0.611",
         "1.0"
        ],
        [
         "25",
         "2001806801",
         "0.361",
         "0.5"
        ],
        [
         "26",
         "2001806823",
         "0.127",
         "0.5"
        ],
        [
         "27",
         "2001806828",
         "0.5",
         "0.5"
        ],
        [
         "28",
         "2001806885",
         "0.84",
         "1.0"
        ],
        [
         "29",
         "2001806968",
         "0.5",
         "0.5"
        ],
        [
         "30",
         "2001807004",
         "0.5",
         "0.5"
        ],
        [
         "31",
         "2001807012",
         "0.24",
         "0.5"
        ],
        [
         "32",
         "2001807036",
         "1.459",
         "1.5"
        ],
        [
         "33",
         "2001807058",
         "1.168",
         "1.5"
        ],
        [
         "34",
         "2001807084",
         "0.5",
         "0.5"
        ],
        [
         "35",
         "2001807186",
         "0.5",
         "0.5"
        ],
        [
         "36",
         "2001807241",
         "0.607",
         "1.0"
        ],
        [
         "37",
         "2001807290",
         "0.5",
         "0.5"
        ],
        [
         "38",
         "2001807328",
         "0.49",
         "0.5"
        ],
        [
         "39",
         "2001807329",
         "0.5",
         "0.5"
        ],
        [
         "40",
         "2001807362",
         "2.016",
         "2.5"
        ],
        [
         "41",
         "2001807415",
         "1.048",
         "1.5"
        ],
        [
         "42",
         "2001807613",
         "0.83",
         "1.0"
        ],
        [
         "43",
         "2001807785",
         "0.5",
         "0.5"
        ],
        [
         "44",
         "2001807814",
         "0.607",
         "1.0"
        ],
        [
         "45",
         "2001807852",
         "0.5",
         "0.5"
        ],
        [
         "46",
         "2001807930",
         "0.24",
         "0.5"
        ],
        [
         "47",
         "2001807931",
         "0.607",
         "1.0"
        ],
        [
         "48",
         "2001807956",
         "1.08",
         "1.5"
        ],
        [
         "49",
         "2001807960",
         "0.93",
         "1.0"
        ]
       ],
       "shape": {
        "columns": 3,
        "rows": 124
       }
      },
      "text/html": [
       "<div>\n",
       "<style scoped>\n",
       "    .dataframe tbody tr th:only-of-type {\n",
       "        vertical-align: middle;\n",
       "    }\n",
       "\n",
       "    .dataframe tbody tr th {\n",
       "        vertical-align: top;\n",
       "    }\n",
       "\n",
       "    .dataframe thead th {\n",
       "        text-align: right;\n",
       "    }\n",
       "</style>\n",
       "<table border=\"1\" class=\"dataframe\">\n",
       "  <thead>\n",
       "    <tr style=\"text-align: right;\">\n",
       "      <th></th>\n",
       "      <th>Order ID</th>\n",
       "      <th>Total Weight (kg)</th>\n",
       "      <th>Weight Slab (kg)</th>\n",
       "    </tr>\n",
       "  </thead>\n",
       "  <tbody>\n",
       "    <tr>\n",
       "      <th>0</th>\n",
       "      <td>2001806210</td>\n",
       "      <td>0.220</td>\n",
       "      <td>0.5</td>\n",
       "    </tr>\n",
       "    <tr>\n",
       "      <th>1</th>\n",
       "      <td>2001806226</td>\n",
       "      <td>0.480</td>\n",
       "      <td>0.5</td>\n",
       "    </tr>\n",
       "    <tr>\n",
       "      <th>2</th>\n",
       "      <td>2001806229</td>\n",
       "      <td>0.500</td>\n",
       "      <td>0.5</td>\n",
       "    </tr>\n",
       "    <tr>\n",
       "      <th>3</th>\n",
       "      <td>2001806232</td>\n",
       "      <td>1.302</td>\n",
       "      <td>1.5</td>\n",
       "    </tr>\n",
       "    <tr>\n",
       "      <th>4</th>\n",
       "      <td>2001806233</td>\n",
       "      <td>0.245</td>\n",
       "      <td>0.5</td>\n",
       "    </tr>\n",
       "    <tr>\n",
       "      <th>...</th>\n",
       "      <td>...</td>\n",
       "      <td>...</td>\n",
       "      <td>...</td>\n",
       "    </tr>\n",
       "    <tr>\n",
       "      <th>119</th>\n",
       "      <td>2001821995</td>\n",
       "      <td>0.477</td>\n",
       "      <td>0.5</td>\n",
       "    </tr>\n",
       "    <tr>\n",
       "      <th>120</th>\n",
       "      <td>2001822466</td>\n",
       "      <td>1.376</td>\n",
       "      <td>1.5</td>\n",
       "    </tr>\n",
       "    <tr>\n",
       "      <th>121</th>\n",
       "      <td>2001823564</td>\n",
       "      <td>0.672</td>\n",
       "      <td>1.0</td>\n",
       "    </tr>\n",
       "    <tr>\n",
       "      <th>122</th>\n",
       "      <td>2001825261</td>\n",
       "      <td>1.557</td>\n",
       "      <td>2.0</td>\n",
       "    </tr>\n",
       "    <tr>\n",
       "      <th>123</th>\n",
       "      <td>2001827036</td>\n",
       "      <td>1.676</td>\n",
       "      <td>2.0</td>\n",
       "    </tr>\n",
       "  </tbody>\n",
       "</table>\n",
       "<p>124 rows × 3 columns</p>\n",
       "</div>"
      ],
      "text/plain": [
       "       Order ID  Total Weight (kg)  Weight Slab (kg)\n",
       "0    2001806210              0.220               0.5\n",
       "1    2001806226              0.480               0.5\n",
       "2    2001806229              0.500               0.5\n",
       "3    2001806232              1.302               1.5\n",
       "4    2001806233              0.245               0.5\n",
       "..          ...                ...               ...\n",
       "119  2001821995              0.477               0.5\n",
       "120  2001822466              1.376               1.5\n",
       "121  2001823564              0.672               1.0\n",
       "122  2001825261              1.557               2.0\n",
       "123  2001827036              1.676               2.0\n",
       "\n",
       "[124 rows x 3 columns]"
      ]
     },
     "execution_count": 45,
     "metadata": {},
     "output_type": "execute_result"
    }
   ],
   "source": [
    "resultOrder.reset_index()"
   ]
  },
  {
   "cell_type": "markdown",
   "metadata": {},
   "source": [
    "Step 4: Get receiver delivery zone as per ABC (the company) while get the respective fixed and additional prices"
   ]
  },
  {
   "cell_type": "code",
   "execution_count": 64,
   "metadata": {},
   "outputs": [
    {
     "data": {
      "application/vnd.microsoft.datawrangler.viewer.v0+json": {
       "columns": [
        {
         "name": "index",
         "rawType": "int64",
         "type": "integer"
        },
        {
         "name": "Order ID",
         "rawType": "int64",
         "type": "integer"
        },
        {
         "name": "Total Weight (kg)",
         "rawType": "float64",
         "type": "float"
        },
        {
         "name": "Weight Slab (kg)",
         "rawType": "float64",
         "type": "float"
        },
        {
         "name": "AWB Code",
         "rawType": "int64",
         "type": "integer"
        },
        {
         "name": "Charged Weight",
         "rawType": "float64",
         "type": "float"
        },
        {
         "name": "Warehouse Pincode",
         "rawType": "int64",
         "type": "integer"
        },
        {
         "name": "Customer Pincode",
         "rawType": "int64",
         "type": "integer"
        },
        {
         "name": "Zone",
         "rawType": "object",
         "type": "string"
        },
        {
         "name": "Type of Shipment",
         "rawType": "object",
         "type": "string"
        },
        {
         "name": "Billing Amount (Rs.)",
         "rawType": "float64",
         "type": "float"
        }
       ],
       "conversionMethod": "pd.DataFrame",
       "ref": "722f5a55-7609-49ea-b3b3-f2a9d248799c",
       "rows": [
        [
         "0",
         "2001806210",
         "0.22",
         "0.5",
         "1091117221940",
         "2.92",
         "121003",
         "140604",
         "b",
         "Forward charges",
         "174.5"
        ],
        [
         "1",
         "2001806226",
         "0.48",
         "0.5",
         "1091117222065",
         "0.68",
         "121003",
         "723146",
         "d",
         "Forward charges",
         "90.2"
        ],
        [
         "2",
         "2001806229",
         "0.5",
         "0.5",
         "1091117222080",
         "0.71",
         "121003",
         "421204",
         "d",
         "Forward charges",
         "90.2"
        ],
        [
         "3",
         "2001806232",
         "1.302",
         "1.5",
         "1091117222124",
         "1.3",
         "121003",
         "507101",
         "d",
         "Forward charges",
         "135.0"
        ],
        [
         "4",
         "2001806233",
         "0.245",
         "0.5",
         "1091117222135",
         "0.78",
         "121003",
         "263139",
         "b",
         "Forward charges",
         "61.3"
        ],
        [
         "5",
         "2001806251",
         "0.245",
         "0.5",
         "1091117222146",
         "1.27",
         "121003",
         "743263",
         "d",
         "Forward charges",
         "135.0"
        ],
        [
         "6",
         "2001806273",
         "0.615",
         "1.0",
         "1091117222194",
         "1.0",
         "121003",
         "486886",
         "d",
         "Forward charges",
         "90.2"
        ],
        [
         "7",
         "2001806304",
         "0.5",
         "0.5",
         "1091117222360",
         "0.71",
         "121003",
         "302017",
         "d",
         "Forward charges",
         "90.2"
        ],
        [
         "8",
         "2001806338",
         "0.5",
         "0.5",
         "1091117222570",
         "0.7",
         "121003",
         "392150",
         "d",
         "Forward charges",
         "90.2"
        ],
        [
         "9",
         "2001806408",
         "2.265",
         "2.5",
         "1091117222931",
         "2.5",
         "121003",
         "532484",
         "d",
         "Forward charges",
         "224.6"
        ],
        [
         "10",
         "2001806446",
         "0.5",
         "0.5",
         "1091117223211",
         "0.69",
         "121003",
         "382830",
         "d",
         "Forward charges",
         "90.2"
        ],
        [
         "11",
         "2001806458",
         "0.7",
         "1.0",
         "1091117223244",
         "1.0",
         "121003",
         "143001",
         "b",
         "Forward charges",
         "61.3"
        ],
        [
         "12",
         "2001806471",
         "1.621",
         "2.0",
         "1091117223351",
         "1.7",
         "121003",
         "313027",
         "d",
         "Forward charges",
         "179.8"
        ],
        [
         "13",
         "2001806533",
         "0.5",
         "0.5",
         "1091117224353",
         "0.68",
         "121003",
         "711303",
         "d",
         "Forward charges",
         "90.2"
        ],
        [
         "14",
         "2001806547",
         "0.127",
         "0.5",
         "1091117224611",
         "1.0",
         "121003",
         "283102",
         "b",
         "Forward charges",
         "61.3"
        ],
        [
         "15",
         "2001806567",
         "0.952",
         "1.0",
         "1091117224902",
         "1.16",
         "121003",
         "370201",
         "d",
         "Forward charges",
         "135.0"
        ],
        [
         "16",
         "2001806575",
         "0.5",
         "0.5",
         "1091117225016",
         "0.68",
         "121003",
         "248001",
         "b",
         "Forward charges",
         "61.3"
        ],
        [
         "17",
         "2001806616",
         "0.963",
         "1.0",
         "1091117225484",
         "1.08",
         "121003",
         "144001",
         "b",
         "Forward charges",
         "89.6"
        ],
        [
         "18",
         "2001806652",
         "0.5",
         "0.5",
         "1091117226221",
         "0.69",
         "121003",
         "403401",
         "d",
         "Forward charges",
         "90.2"
        ],
        [
         "19",
         "2001806686",
         "0.24",
         "0.5",
         "1091117229555",
         "0.15",
         "121003",
         "326502",
         "d",
         "Forward charges",
         "45.4"
        ],
        [
         "20",
         "2001806726",
         "0.5",
         "0.5",
         "1091117226910",
         "0.68",
         "121003",
         "831002",
         "d",
         "Forward charges",
         "90.2"
        ],
        [
         "21",
         "2001806733",
         "0.967",
         "1.0",
         "1091117226674",
         "1.13",
         "121003",
         "452001",
         "d",
         "Forward charges",
         "135.0"
        ],
        [
         "22",
         "2001806735",
         "0.5",
         "0.5",
         "1091117226711",
         "0.69",
         "121003",
         "721636",
         "d",
         "Forward charges",
         "90.2"
        ],
        [
         "23",
         "2001806768",
         "0.84",
         "1.0",
         "1091117227116",
         "1.02",
         "121003",
         "322201",
         "d",
         "Forward charges",
         "135.0"
        ],
        [
         "24",
         "2001806776",
         "0.611",
         "1.0",
         "1091117227573",
         "2.86",
         "121003",
         "226004",
         "b",
         "Forward charges",
         "174.5"
        ],
        [
         "25",
         "2001806801",
         "0.361",
         "0.5",
         "1091117227816",
         "1.35",
         "121003",
         "248001",
         "b",
         "Forward charges",
         "89.6"
        ],
        [
         "26",
         "2001806823",
         "0.127",
         "0.5",
         "1091117228133",
         "0.59",
         "121003",
         "314001",
         "d",
         "Forward charges",
         "90.2"
        ],
        [
         "27",
         "2001806828",
         "0.5",
         "0.5",
         "1091117228192",
         "0.69",
         "121003",
         "331022",
         "d",
         "Forward charges",
         "90.2"
        ],
        [
         "28",
         "2001806885",
         "0.84",
         "1.0",
         "1091117229776",
         "1.0",
         "121003",
         "208019",
         "b",
         "Forward charges",
         "61.3"
        ],
        [
         "29",
         "2001806968",
         "0.5",
         "0.5",
         "1091117229183",
         "0.68",
         "121003",
         "305801",
         "d",
         "Forward charges",
         "90.2"
        ],
        [
         "30",
         "2001807004",
         "0.5",
         "0.5",
         "1091117229290",
         "0.68",
         "121003",
         "410206",
         "d",
         "Forward charges",
         "90.2"
        ],
        [
         "31",
         "2001807012",
         "0.24",
         "0.5",
         "1091117229345",
         "0.15",
         "121003",
         "515591",
         "d",
         "Forward charges",
         "45.4"
        ],
        [
         "32",
         "2001807036",
         "1.459",
         "1.5",
         "1091117323005",
         "1.64",
         "121003",
         "516503",
         "d",
         "Forward charges",
         "179.8"
        ],
        [
         "33",
         "2001807058",
         "1.168",
         "1.5",
         "1091117323112",
         "1.15",
         "121003",
         "140301",
         "b",
         "Forward charges",
         "89.6"
        ],
        [
         "34",
         "2001807084",
         "0.5",
         "0.5",
         "1091117323215",
         "0.67",
         "121003",
         "742103",
         "d",
         "Forward charges",
         "90.2"
        ],
        [
         "35",
         "2001807186",
         "0.5",
         "0.5",
         "1091117323812",
         "0.5",
         "121003",
         "396001",
         "d",
         "Forward charges",
         "45.4"
        ],
        [
         "36",
         "2001807241",
         "0.607",
         "1.0",
         "1091117324011",
         "0.79",
         "121003",
         "341001",
         "d",
         "Forward charges",
         "90.2"
        ],
        [
         "37",
         "2001807290",
         "0.5",
         "0.5",
         "1091117324206",
         "0.5",
         "121003",
         "711106",
         "d",
         "Forward charges",
         "45.4"
        ],
        [
         "38",
         "2001807328",
         "0.49",
         "0.5",
         "1091117324346",
         "2.28",
         "121003",
         "335502",
         "d",
         "Forward charges",
         "224.6"
        ],
        [
         "39",
         "2001807329",
         "0.5",
         "0.5",
         "1091117333100",
         "0.73",
         "121003",
         "302039",
         "d",
         "Forward charges",
         "90.2"
        ],
        [
         "40",
         "2001807362",
         "2.016",
         "2.5",
         "1091117324394",
         "2.0",
         "121003",
         "452018",
         "d",
         "Forward charges",
         "179.8"
        ],
        [
         "41",
         "2001807415",
         "1.048",
         "1.5",
         "1091117325094",
         "1.0",
         "121003",
         "208001",
         "b",
         "Forward charges",
         "61.3"
        ],
        [
         "42",
         "2001807613",
         "0.83",
         "1.0",
         "1091117333251",
         "1.04",
         "121003",
         "335803",
         "d",
         "Forward charges",
         "135.0"
        ],
        [
         "43",
         "2001807785",
         "0.5",
         "0.5",
         "1091117326424",
         "0.68",
         "121003",
         "306116",
         "d",
         "Forward charges",
         "90.2"
        ],
        [
         "44",
         "2001807814",
         "0.607",
         "1.0",
         "1091117326612",
         "0.79",
         "121003",
         "284001",
         "b",
         "Forward charges",
         "61.3"
        ],
        [
         "45",
         "2001807852",
         "0.5",
         "0.5",
         "1091117326925",
         "0.74",
         "121003",
         "311001",
         "d",
         "Forward charges",
         "90.2"
        ],
        [
         "46",
         "2001807930",
         "0.24",
         "0.5",
         "1091117327695",
         "0.15",
         "121003",
         "845438",
         "d",
         "Forward charges",
         "45.4"
        ],
        [
         "47",
         "2001807931",
         "0.607",
         "1.0",
         "1091117327172",
         "0.72",
         "121003",
         "441601",
         "d",
         "Forward charges",
         "90.2"
        ],
        [
         "48",
         "2001807956",
         "1.08",
         "1.5",
         "1091117327275",
         "1.08",
         "121003",
         "248006",
         "b",
         "Forward charges",
         "89.6"
        ],
        [
         "49",
         "2001807960",
         "0.93",
         "1.0",
         "1091117327312",
         "1.0",
         "121003",
         "485001",
         "d",
         "Forward charges",
         "90.2"
        ]
       ],
       "shape": {
        "columns": 10,
        "rows": 124
       }
      },
      "text/html": [
       "<div>\n",
       "<style scoped>\n",
       "    .dataframe tbody tr th:only-of-type {\n",
       "        vertical-align: middle;\n",
       "    }\n",
       "\n",
       "    .dataframe tbody tr th {\n",
       "        vertical-align: top;\n",
       "    }\n",
       "\n",
       "    .dataframe thead th {\n",
       "        text-align: right;\n",
       "    }\n",
       "</style>\n",
       "<table border=\"1\" class=\"dataframe\">\n",
       "  <thead>\n",
       "    <tr style=\"text-align: right;\">\n",
       "      <th></th>\n",
       "      <th>Order ID</th>\n",
       "      <th>Total Weight (kg)</th>\n",
       "      <th>Weight Slab (kg)</th>\n",
       "      <th>AWB Code</th>\n",
       "      <th>Charged Weight</th>\n",
       "      <th>Warehouse Pincode</th>\n",
       "      <th>Customer Pincode</th>\n",
       "      <th>Zone</th>\n",
       "      <th>Type of Shipment</th>\n",
       "      <th>Billing Amount (Rs.)</th>\n",
       "    </tr>\n",
       "  </thead>\n",
       "  <tbody>\n",
       "    <tr>\n",
       "      <th>0</th>\n",
       "      <td>2001806210</td>\n",
       "      <td>0.220</td>\n",
       "      <td>0.5</td>\n",
       "      <td>1091117221940</td>\n",
       "      <td>2.92</td>\n",
       "      <td>121003</td>\n",
       "      <td>140604</td>\n",
       "      <td>b</td>\n",
       "      <td>Forward charges</td>\n",
       "      <td>174.5</td>\n",
       "    </tr>\n",
       "    <tr>\n",
       "      <th>1</th>\n",
       "      <td>2001806226</td>\n",
       "      <td>0.480</td>\n",
       "      <td>0.5</td>\n",
       "      <td>1091117222065</td>\n",
       "      <td>0.68</td>\n",
       "      <td>121003</td>\n",
       "      <td>723146</td>\n",
       "      <td>d</td>\n",
       "      <td>Forward charges</td>\n",
       "      <td>90.2</td>\n",
       "    </tr>\n",
       "    <tr>\n",
       "      <th>2</th>\n",
       "      <td>2001806229</td>\n",
       "      <td>0.500</td>\n",
       "      <td>0.5</td>\n",
       "      <td>1091117222080</td>\n",
       "      <td>0.71</td>\n",
       "      <td>121003</td>\n",
       "      <td>421204</td>\n",
       "      <td>d</td>\n",
       "      <td>Forward charges</td>\n",
       "      <td>90.2</td>\n",
       "    </tr>\n",
       "    <tr>\n",
       "      <th>3</th>\n",
       "      <td>2001806232</td>\n",
       "      <td>1.302</td>\n",
       "      <td>1.5</td>\n",
       "      <td>1091117222124</td>\n",
       "      <td>1.30</td>\n",
       "      <td>121003</td>\n",
       "      <td>507101</td>\n",
       "      <td>d</td>\n",
       "      <td>Forward charges</td>\n",
       "      <td>135.0</td>\n",
       "    </tr>\n",
       "    <tr>\n",
       "      <th>4</th>\n",
       "      <td>2001806233</td>\n",
       "      <td>0.245</td>\n",
       "      <td>0.5</td>\n",
       "      <td>1091117222135</td>\n",
       "      <td>0.78</td>\n",
       "      <td>121003</td>\n",
       "      <td>263139</td>\n",
       "      <td>b</td>\n",
       "      <td>Forward charges</td>\n",
       "      <td>61.3</td>\n",
       "    </tr>\n",
       "    <tr>\n",
       "      <th>...</th>\n",
       "      <td>...</td>\n",
       "      <td>...</td>\n",
       "      <td>...</td>\n",
       "      <td>...</td>\n",
       "      <td>...</td>\n",
       "      <td>...</td>\n",
       "      <td>...</td>\n",
       "      <td>...</td>\n",
       "      <td>...</td>\n",
       "      <td>...</td>\n",
       "    </tr>\n",
       "    <tr>\n",
       "      <th>119</th>\n",
       "      <td>2001821995</td>\n",
       "      <td>0.477</td>\n",
       "      <td>0.5</td>\n",
       "      <td>1091121183730</td>\n",
       "      <td>0.50</td>\n",
       "      <td>121003</td>\n",
       "      <td>342008</td>\n",
       "      <td>d</td>\n",
       "      <td>Forward charges</td>\n",
       "      <td>45.4</td>\n",
       "    </tr>\n",
       "    <tr>\n",
       "      <th>120</th>\n",
       "      <td>2001822466</td>\n",
       "      <td>1.376</td>\n",
       "      <td>1.5</td>\n",
       "      <td>1091121305541</td>\n",
       "      <td>1.10</td>\n",
       "      <td>121003</td>\n",
       "      <td>342301</td>\n",
       "      <td>d</td>\n",
       "      <td>Forward charges</td>\n",
       "      <td>135.0</td>\n",
       "    </tr>\n",
       "    <tr>\n",
       "      <th>121</th>\n",
       "      <td>2001823564</td>\n",
       "      <td>0.672</td>\n",
       "      <td>1.0</td>\n",
       "      <td>1091121666133</td>\n",
       "      <td>0.70</td>\n",
       "      <td>121003</td>\n",
       "      <td>492001</td>\n",
       "      <td>d</td>\n",
       "      <td>Forward and RTO charges</td>\n",
       "      <td>172.8</td>\n",
       "    </tr>\n",
       "    <tr>\n",
       "      <th>122</th>\n",
       "      <td>2001825261</td>\n",
       "      <td>1.557</td>\n",
       "      <td>2.0</td>\n",
       "      <td>1091121981575</td>\n",
       "      <td>1.60</td>\n",
       "      <td>121003</td>\n",
       "      <td>517128</td>\n",
       "      <td>d</td>\n",
       "      <td>Forward and RTO charges</td>\n",
       "      <td>345.0</td>\n",
       "    </tr>\n",
       "    <tr>\n",
       "      <th>123</th>\n",
       "      <td>2001827036</td>\n",
       "      <td>1.676</td>\n",
       "      <td>2.0</td>\n",
       "      <td>1091122418320</td>\n",
       "      <td>1.60</td>\n",
       "      <td>121003</td>\n",
       "      <td>173213</td>\n",
       "      <td>b</td>\n",
       "      <td>Forward charges</td>\n",
       "      <td>117.9</td>\n",
       "    </tr>\n",
       "  </tbody>\n",
       "</table>\n",
       "<p>124 rows × 10 columns</p>\n",
       "</div>"
      ],
      "text/plain": [
       "       Order ID  Total Weight (kg)  Weight Slab (kg)       AWB Code  \\\n",
       "0    2001806210              0.220               0.5  1091117221940   \n",
       "1    2001806226              0.480               0.5  1091117222065   \n",
       "2    2001806229              0.500               0.5  1091117222080   \n",
       "3    2001806232              1.302               1.5  1091117222124   \n",
       "4    2001806233              0.245               0.5  1091117222135   \n",
       "..          ...                ...               ...            ...   \n",
       "119  2001821995              0.477               0.5  1091121183730   \n",
       "120  2001822466              1.376               1.5  1091121305541   \n",
       "121  2001823564              0.672               1.0  1091121666133   \n",
       "122  2001825261              1.557               2.0  1091121981575   \n",
       "123  2001827036              1.676               2.0  1091122418320   \n",
       "\n",
       "     Charged Weight  Warehouse Pincode  Customer Pincode Zone  \\\n",
       "0              2.92             121003            140604    b   \n",
       "1              0.68             121003            723146    d   \n",
       "2              0.71             121003            421204    d   \n",
       "3              1.30             121003            507101    d   \n",
       "4              0.78             121003            263139    b   \n",
       "..              ...                ...               ...  ...   \n",
       "119            0.50             121003            342008    d   \n",
       "120            1.10             121003            342301    d   \n",
       "121            0.70             121003            492001    d   \n",
       "122            1.60             121003            517128    d   \n",
       "123            1.60             121003            173213    b   \n",
       "\n",
       "            Type of Shipment  Billing Amount (Rs.)  \n",
       "0            Forward charges                 174.5  \n",
       "1            Forward charges                  90.2  \n",
       "2            Forward charges                  90.2  \n",
       "3            Forward charges                 135.0  \n",
       "4            Forward charges                  61.3  \n",
       "..                       ...                   ...  \n",
       "119          Forward charges                  45.4  \n",
       "120          Forward charges                 135.0  \n",
       "121  Forward and RTO charges                 172.8  \n",
       "122  Forward and RTO charges                 345.0  \n",
       "123          Forward charges                 117.9  \n",
       "\n",
       "[124 rows x 10 columns]"
      ]
     },
     "execution_count": 64,
     "metadata": {},
     "output_type": "execute_result"
    }
   ],
   "source": [
    "finalDf = pd.merge(resultOrder, invoiceDf, on=\"Order ID\")\n",
    "finalDf"
   ]
  },
  {
   "cell_type": "code",
   "execution_count": 65,
   "metadata": {},
   "outputs": [
    {
     "data": {
      "text/plain": [
       "array(['Forward charges', 'Forward and RTO charges'], dtype=object)"
      ]
     },
     "execution_count": 65,
     "metadata": {},
     "output_type": "execute_result"
    }
   ],
   "source": [
    "finalDf['Type of Shipment'].unique()"
   ]
  },
  {
   "cell_type": "code",
   "execution_count": 66,
   "metadata": {},
   "outputs": [
    {
     "data": {
      "application/vnd.microsoft.datawrangler.viewer.v0+json": {
       "columns": [
        {
         "name": "index",
         "rawType": "int64",
         "type": "integer"
        },
        {
         "name": "Order ID",
         "rawType": "int64",
         "type": "integer"
        },
        {
         "name": "Total Weight (kg)",
         "rawType": "float64",
         "type": "float"
        },
        {
         "name": "Weight Slab (kg)",
         "rawType": "float64",
         "type": "float"
        },
        {
         "name": "AWB Code",
         "rawType": "int64",
         "type": "integer"
        },
        {
         "name": "Charged Weight",
         "rawType": "float64",
         "type": "float"
        },
        {
         "name": "Warehouse Pincode",
         "rawType": "int64",
         "type": "integer"
        },
        {
         "name": "Customer Pincode",
         "rawType": "int64",
         "type": "integer"
        },
        {
         "name": "Zone",
         "rawType": "object",
         "type": "string"
        },
        {
         "name": "Type of Shipment",
         "rawType": "object",
         "type": "string"
        },
        {
         "name": "Billing Amount (Rs.)",
         "rawType": "float64",
         "type": "float"
        }
       ],
       "conversionMethod": "pd.DataFrame",
       "ref": "df83a3c4-2daf-4de5-9469-c87821cd64e8",
       "rows": [
        [
         "0",
         "2001806210",
         "0.22",
         "0.5",
         "1091117221940",
         "2.92",
         "121003",
         "140604",
         "b",
         "fwd",
         "174.5"
        ],
        [
         "1",
         "2001806226",
         "0.48",
         "0.5",
         "1091117222065",
         "0.68",
         "121003",
         "723146",
         "d",
         "fwd",
         "90.2"
        ],
        [
         "2",
         "2001806229",
         "0.5",
         "0.5",
         "1091117222080",
         "0.71",
         "121003",
         "421204",
         "d",
         "fwd",
         "90.2"
        ],
        [
         "3",
         "2001806232",
         "1.302",
         "1.5",
         "1091117222124",
         "1.3",
         "121003",
         "507101",
         "d",
         "fwd",
         "135.0"
        ],
        [
         "4",
         "2001806233",
         "0.245",
         "0.5",
         "1091117222135",
         "0.78",
         "121003",
         "263139",
         "b",
         "fwd",
         "61.3"
        ],
        [
         "5",
         "2001806251",
         "0.245",
         "0.5",
         "1091117222146",
         "1.27",
         "121003",
         "743263",
         "d",
         "fwd",
         "135.0"
        ],
        [
         "6",
         "2001806273",
         "0.615",
         "1.0",
         "1091117222194",
         "1.0",
         "121003",
         "486886",
         "d",
         "fwd",
         "90.2"
        ],
        [
         "7",
         "2001806304",
         "0.5",
         "0.5",
         "1091117222360",
         "0.71",
         "121003",
         "302017",
         "d",
         "fwd",
         "90.2"
        ],
        [
         "8",
         "2001806338",
         "0.5",
         "0.5",
         "1091117222570",
         "0.7",
         "121003",
         "392150",
         "d",
         "fwd",
         "90.2"
        ],
        [
         "9",
         "2001806408",
         "2.265",
         "2.5",
         "1091117222931",
         "2.5",
         "121003",
         "532484",
         "d",
         "fwd",
         "224.6"
        ],
        [
         "10",
         "2001806446",
         "0.5",
         "0.5",
         "1091117223211",
         "0.69",
         "121003",
         "382830",
         "d",
         "fwd",
         "90.2"
        ],
        [
         "11",
         "2001806458",
         "0.7",
         "1.0",
         "1091117223244",
         "1.0",
         "121003",
         "143001",
         "b",
         "fwd",
         "61.3"
        ],
        [
         "12",
         "2001806471",
         "1.621",
         "2.0",
         "1091117223351",
         "1.7",
         "121003",
         "313027",
         "d",
         "fwd",
         "179.8"
        ],
        [
         "13",
         "2001806533",
         "0.5",
         "0.5",
         "1091117224353",
         "0.68",
         "121003",
         "711303",
         "d",
         "fwd",
         "90.2"
        ],
        [
         "14",
         "2001806547",
         "0.127",
         "0.5",
         "1091117224611",
         "1.0",
         "121003",
         "283102",
         "b",
         "fwd",
         "61.3"
        ],
        [
         "15",
         "2001806567",
         "0.952",
         "1.0",
         "1091117224902",
         "1.16",
         "121003",
         "370201",
         "d",
         "fwd",
         "135.0"
        ],
        [
         "16",
         "2001806575",
         "0.5",
         "0.5",
         "1091117225016",
         "0.68",
         "121003",
         "248001",
         "b",
         "fwd",
         "61.3"
        ],
        [
         "17",
         "2001806616",
         "0.963",
         "1.0",
         "1091117225484",
         "1.08",
         "121003",
         "144001",
         "b",
         "fwd",
         "89.6"
        ],
        [
         "18",
         "2001806652",
         "0.5",
         "0.5",
         "1091117226221",
         "0.69",
         "121003",
         "403401",
         "d",
         "fwd",
         "90.2"
        ],
        [
         "19",
         "2001806686",
         "0.24",
         "0.5",
         "1091117229555",
         "0.15",
         "121003",
         "326502",
         "d",
         "fwd",
         "45.4"
        ],
        [
         "20",
         "2001806726",
         "0.5",
         "0.5",
         "1091117226910",
         "0.68",
         "121003",
         "831002",
         "d",
         "fwd",
         "90.2"
        ],
        [
         "21",
         "2001806733",
         "0.967",
         "1.0",
         "1091117226674",
         "1.13",
         "121003",
         "452001",
         "d",
         "fwd",
         "135.0"
        ],
        [
         "22",
         "2001806735",
         "0.5",
         "0.5",
         "1091117226711",
         "0.69",
         "121003",
         "721636",
         "d",
         "fwd",
         "90.2"
        ],
        [
         "23",
         "2001806768",
         "0.84",
         "1.0",
         "1091117227116",
         "1.02",
         "121003",
         "322201",
         "d",
         "fwd",
         "135.0"
        ],
        [
         "24",
         "2001806776",
         "0.611",
         "1.0",
         "1091117227573",
         "2.86",
         "121003",
         "226004",
         "b",
         "fwd",
         "174.5"
        ],
        [
         "25",
         "2001806801",
         "0.361",
         "0.5",
         "1091117227816",
         "1.35",
         "121003",
         "248001",
         "b",
         "fwd",
         "89.6"
        ],
        [
         "26",
         "2001806823",
         "0.127",
         "0.5",
         "1091117228133",
         "0.59",
         "121003",
         "314001",
         "d",
         "fwd",
         "90.2"
        ],
        [
         "27",
         "2001806828",
         "0.5",
         "0.5",
         "1091117228192",
         "0.69",
         "121003",
         "331022",
         "d",
         "fwd",
         "90.2"
        ],
        [
         "28",
         "2001806885",
         "0.84",
         "1.0",
         "1091117229776",
         "1.0",
         "121003",
         "208019",
         "b",
         "fwd",
         "61.3"
        ],
        [
         "29",
         "2001806968",
         "0.5",
         "0.5",
         "1091117229183",
         "0.68",
         "121003",
         "305801",
         "d",
         "fwd",
         "90.2"
        ],
        [
         "30",
         "2001807004",
         "0.5",
         "0.5",
         "1091117229290",
         "0.68",
         "121003",
         "410206",
         "d",
         "fwd",
         "90.2"
        ],
        [
         "31",
         "2001807012",
         "0.24",
         "0.5",
         "1091117229345",
         "0.15",
         "121003",
         "515591",
         "d",
         "fwd",
         "45.4"
        ],
        [
         "32",
         "2001807036",
         "1.459",
         "1.5",
         "1091117323005",
         "1.64",
         "121003",
         "516503",
         "d",
         "fwd",
         "179.8"
        ],
        [
         "33",
         "2001807058",
         "1.168",
         "1.5",
         "1091117323112",
         "1.15",
         "121003",
         "140301",
         "b",
         "fwd",
         "89.6"
        ],
        [
         "34",
         "2001807084",
         "0.5",
         "0.5",
         "1091117323215",
         "0.67",
         "121003",
         "742103",
         "d",
         "fwd",
         "90.2"
        ],
        [
         "35",
         "2001807186",
         "0.5",
         "0.5",
         "1091117323812",
         "0.5",
         "121003",
         "396001",
         "d",
         "fwd",
         "45.4"
        ],
        [
         "36",
         "2001807241",
         "0.607",
         "1.0",
         "1091117324011",
         "0.79",
         "121003",
         "341001",
         "d",
         "fwd",
         "90.2"
        ],
        [
         "37",
         "2001807290",
         "0.5",
         "0.5",
         "1091117324206",
         "0.5",
         "121003",
         "711106",
         "d",
         "fwd",
         "45.4"
        ],
        [
         "38",
         "2001807328",
         "0.49",
         "0.5",
         "1091117324346",
         "2.28",
         "121003",
         "335502",
         "d",
         "fwd",
         "224.6"
        ],
        [
         "39",
         "2001807329",
         "0.5",
         "0.5",
         "1091117333100",
         "0.73",
         "121003",
         "302039",
         "d",
         "fwd",
         "90.2"
        ],
        [
         "40",
         "2001807362",
         "2.016",
         "2.5",
         "1091117324394",
         "2.0",
         "121003",
         "452018",
         "d",
         "fwd",
         "179.8"
        ],
        [
         "41",
         "2001807415",
         "1.048",
         "1.5",
         "1091117325094",
         "1.0",
         "121003",
         "208001",
         "b",
         "fwd",
         "61.3"
        ],
        [
         "42",
         "2001807613",
         "0.83",
         "1.0",
         "1091117333251",
         "1.04",
         "121003",
         "335803",
         "d",
         "fwd",
         "135.0"
        ],
        [
         "43",
         "2001807785",
         "0.5",
         "0.5",
         "1091117326424",
         "0.68",
         "121003",
         "306116",
         "d",
         "fwd",
         "90.2"
        ],
        [
         "44",
         "2001807814",
         "0.607",
         "1.0",
         "1091117326612",
         "0.79",
         "121003",
         "284001",
         "b",
         "fwd",
         "61.3"
        ],
        [
         "45",
         "2001807852",
         "0.5",
         "0.5",
         "1091117326925",
         "0.74",
         "121003",
         "311001",
         "d",
         "fwd",
         "90.2"
        ],
        [
         "46",
         "2001807930",
         "0.24",
         "0.5",
         "1091117327695",
         "0.15",
         "121003",
         "845438",
         "d",
         "fwd",
         "45.4"
        ],
        [
         "47",
         "2001807931",
         "0.607",
         "1.0",
         "1091117327172",
         "0.72",
         "121003",
         "441601",
         "d",
         "fwd",
         "90.2"
        ],
        [
         "48",
         "2001807956",
         "1.08",
         "1.5",
         "1091117327275",
         "1.08",
         "121003",
         "248006",
         "b",
         "fwd",
         "89.6"
        ],
        [
         "49",
         "2001807960",
         "0.93",
         "1.0",
         "1091117327312",
         "1.0",
         "121003",
         "485001",
         "d",
         "fwd",
         "90.2"
        ]
       ],
       "shape": {
        "columns": 10,
        "rows": 124
       }
      },
      "text/html": [
       "<div>\n",
       "<style scoped>\n",
       "    .dataframe tbody tr th:only-of-type {\n",
       "        vertical-align: middle;\n",
       "    }\n",
       "\n",
       "    .dataframe tbody tr th {\n",
       "        vertical-align: top;\n",
       "    }\n",
       "\n",
       "    .dataframe thead th {\n",
       "        text-align: right;\n",
       "    }\n",
       "</style>\n",
       "<table border=\"1\" class=\"dataframe\">\n",
       "  <thead>\n",
       "    <tr style=\"text-align: right;\">\n",
       "      <th></th>\n",
       "      <th>Order ID</th>\n",
       "      <th>Total Weight (kg)</th>\n",
       "      <th>Weight Slab (kg)</th>\n",
       "      <th>AWB Code</th>\n",
       "      <th>Charged Weight</th>\n",
       "      <th>Warehouse Pincode</th>\n",
       "      <th>Customer Pincode</th>\n",
       "      <th>Zone</th>\n",
       "      <th>Type of Shipment</th>\n",
       "      <th>Billing Amount (Rs.)</th>\n",
       "    </tr>\n",
       "  </thead>\n",
       "  <tbody>\n",
       "    <tr>\n",
       "      <th>0</th>\n",
       "      <td>2001806210</td>\n",
       "      <td>0.220</td>\n",
       "      <td>0.5</td>\n",
       "      <td>1091117221940</td>\n",
       "      <td>2.92</td>\n",
       "      <td>121003</td>\n",
       "      <td>140604</td>\n",
       "      <td>b</td>\n",
       "      <td>fwd</td>\n",
       "      <td>174.5</td>\n",
       "    </tr>\n",
       "    <tr>\n",
       "      <th>1</th>\n",
       "      <td>2001806226</td>\n",
       "      <td>0.480</td>\n",
       "      <td>0.5</td>\n",
       "      <td>1091117222065</td>\n",
       "      <td>0.68</td>\n",
       "      <td>121003</td>\n",
       "      <td>723146</td>\n",
       "      <td>d</td>\n",
       "      <td>fwd</td>\n",
       "      <td>90.2</td>\n",
       "    </tr>\n",
       "    <tr>\n",
       "      <th>2</th>\n",
       "      <td>2001806229</td>\n",
       "      <td>0.500</td>\n",
       "      <td>0.5</td>\n",
       "      <td>1091117222080</td>\n",
       "      <td>0.71</td>\n",
       "      <td>121003</td>\n",
       "      <td>421204</td>\n",
       "      <td>d</td>\n",
       "      <td>fwd</td>\n",
       "      <td>90.2</td>\n",
       "    </tr>\n",
       "    <tr>\n",
       "      <th>3</th>\n",
       "      <td>2001806232</td>\n",
       "      <td>1.302</td>\n",
       "      <td>1.5</td>\n",
       "      <td>1091117222124</td>\n",
       "      <td>1.30</td>\n",
       "      <td>121003</td>\n",
       "      <td>507101</td>\n",
       "      <td>d</td>\n",
       "      <td>fwd</td>\n",
       "      <td>135.0</td>\n",
       "    </tr>\n",
       "    <tr>\n",
       "      <th>4</th>\n",
       "      <td>2001806233</td>\n",
       "      <td>0.245</td>\n",
       "      <td>0.5</td>\n",
       "      <td>1091117222135</td>\n",
       "      <td>0.78</td>\n",
       "      <td>121003</td>\n",
       "      <td>263139</td>\n",
       "      <td>b</td>\n",
       "      <td>fwd</td>\n",
       "      <td>61.3</td>\n",
       "    </tr>\n",
       "    <tr>\n",
       "      <th>...</th>\n",
       "      <td>...</td>\n",
       "      <td>...</td>\n",
       "      <td>...</td>\n",
       "      <td>...</td>\n",
       "      <td>...</td>\n",
       "      <td>...</td>\n",
       "      <td>...</td>\n",
       "      <td>...</td>\n",
       "      <td>...</td>\n",
       "      <td>...</td>\n",
       "    </tr>\n",
       "    <tr>\n",
       "      <th>119</th>\n",
       "      <td>2001821995</td>\n",
       "      <td>0.477</td>\n",
       "      <td>0.5</td>\n",
       "      <td>1091121183730</td>\n",
       "      <td>0.50</td>\n",
       "      <td>121003</td>\n",
       "      <td>342008</td>\n",
       "      <td>d</td>\n",
       "      <td>fwd</td>\n",
       "      <td>45.4</td>\n",
       "    </tr>\n",
       "    <tr>\n",
       "      <th>120</th>\n",
       "      <td>2001822466</td>\n",
       "      <td>1.376</td>\n",
       "      <td>1.5</td>\n",
       "      <td>1091121305541</td>\n",
       "      <td>1.10</td>\n",
       "      <td>121003</td>\n",
       "      <td>342301</td>\n",
       "      <td>d</td>\n",
       "      <td>fwd</td>\n",
       "      <td>135.0</td>\n",
       "    </tr>\n",
       "    <tr>\n",
       "      <th>121</th>\n",
       "      <td>2001823564</td>\n",
       "      <td>0.672</td>\n",
       "      <td>1.0</td>\n",
       "      <td>1091121666133</td>\n",
       "      <td>0.70</td>\n",
       "      <td>121003</td>\n",
       "      <td>492001</td>\n",
       "      <td>d</td>\n",
       "      <td>rto</td>\n",
       "      <td>172.8</td>\n",
       "    </tr>\n",
       "    <tr>\n",
       "      <th>122</th>\n",
       "      <td>2001825261</td>\n",
       "      <td>1.557</td>\n",
       "      <td>2.0</td>\n",
       "      <td>1091121981575</td>\n",
       "      <td>1.60</td>\n",
       "      <td>121003</td>\n",
       "      <td>517128</td>\n",
       "      <td>d</td>\n",
       "      <td>rto</td>\n",
       "      <td>345.0</td>\n",
       "    </tr>\n",
       "    <tr>\n",
       "      <th>123</th>\n",
       "      <td>2001827036</td>\n",
       "      <td>1.676</td>\n",
       "      <td>2.0</td>\n",
       "      <td>1091122418320</td>\n",
       "      <td>1.60</td>\n",
       "      <td>121003</td>\n",
       "      <td>173213</td>\n",
       "      <td>b</td>\n",
       "      <td>fwd</td>\n",
       "      <td>117.9</td>\n",
       "    </tr>\n",
       "  </tbody>\n",
       "</table>\n",
       "<p>124 rows × 10 columns</p>\n",
       "</div>"
      ],
      "text/plain": [
       "       Order ID  Total Weight (kg)  Weight Slab (kg)       AWB Code  \\\n",
       "0    2001806210              0.220               0.5  1091117221940   \n",
       "1    2001806226              0.480               0.5  1091117222065   \n",
       "2    2001806229              0.500               0.5  1091117222080   \n",
       "3    2001806232              1.302               1.5  1091117222124   \n",
       "4    2001806233              0.245               0.5  1091117222135   \n",
       "..          ...                ...               ...            ...   \n",
       "119  2001821995              0.477               0.5  1091121183730   \n",
       "120  2001822466              1.376               1.5  1091121305541   \n",
       "121  2001823564              0.672               1.0  1091121666133   \n",
       "122  2001825261              1.557               2.0  1091121981575   \n",
       "123  2001827036              1.676               2.0  1091122418320   \n",
       "\n",
       "     Charged Weight  Warehouse Pincode  Customer Pincode Zone  \\\n",
       "0              2.92             121003            140604    b   \n",
       "1              0.68             121003            723146    d   \n",
       "2              0.71             121003            421204    d   \n",
       "3              1.30             121003            507101    d   \n",
       "4              0.78             121003            263139    b   \n",
       "..              ...                ...               ...  ...   \n",
       "119            0.50             121003            342008    d   \n",
       "120            1.10             121003            342301    d   \n",
       "121            0.70             121003            492001    d   \n",
       "122            1.60             121003            517128    d   \n",
       "123            1.60             121003            173213    b   \n",
       "\n",
       "    Type of Shipment  Billing Amount (Rs.)  \n",
       "0                fwd                 174.5  \n",
       "1                fwd                  90.2  \n",
       "2                fwd                  90.2  \n",
       "3                fwd                 135.0  \n",
       "4                fwd                  61.3  \n",
       "..               ...                   ...  \n",
       "119              fwd                  45.4  \n",
       "120              fwd                 135.0  \n",
       "121              rto                 172.8  \n",
       "122              rto                 345.0  \n",
       "123              fwd                 117.9  \n",
       "\n",
       "[124 rows x 10 columns]"
      ]
     },
     "execution_count": 66,
     "metadata": {},
     "output_type": "execute_result"
    }
   ],
   "source": [
    "finalDf['Type of Shipment'] = finalDf['Type of Shipment'].apply(lambda x : \"fwd\" if x == \"Forward charges\" else \"rto\")\n",
    "finalDf\n",
    "# finalDf['Type of Shipment'] = \"fwd\" if finalDf['Type of Shipment'] == \"Forward charges\" else \"rto\""
   ]
  },
  {
   "cell_type": "code",
   "execution_count": null,
   "metadata": {},
   "outputs": [
    {
     "data": {
      "application/vnd.microsoft.datawrangler.viewer.v0+json": {
       "columns": [
        {
         "name": "index",
         "rawType": "int64",
         "type": "integer"
        },
        {
         "name": "Order ID",
         "rawType": "int64",
         "type": "integer"
        },
        {
         "name": "Total Weight (kg)",
         "rawType": "float64",
         "type": "float"
        },
        {
         "name": "Weight Slab (kg)",
         "rawType": "float64",
         "type": "float"
        },
        {
         "name": "AWB Code",
         "rawType": "int64",
         "type": "integer"
        },
        {
         "name": "Charged Weight",
         "rawType": "float64",
         "type": "float"
        },
        {
         "name": "Warehouse Pincode",
         "rawType": "int64",
         "type": "integer"
        },
        {
         "name": "Customer Pincode",
         "rawType": "int64",
         "type": "integer"
        },
        {
         "name": "Zone",
         "rawType": "object",
         "type": "string"
        },
        {
         "name": "Type of Shipment",
         "rawType": "object",
         "type": "string"
        },
        {
         "name": "Billing Amount (Rs.)",
         "rawType": "float64",
         "type": "float"
        },
        {
         "name": "stringPrefix",
         "rawType": "object",
         "type": "string"
        }
       ],
       "conversionMethod": "pd.DataFrame",
       "ref": "a5c20803-9fd1-4a9d-89f0-14034d0be584",
       "rows": [
        [
         "0",
         "2001806210",
         "0.22",
         "0.5",
         "1091117221940",
         "2.92",
         "121003",
         "140604",
         "b",
         "fwd",
         "174.5",
         "fwd_b"
        ],
        [
         "1",
         "2001806226",
         "0.48",
         "0.5",
         "1091117222065",
         "0.68",
         "121003",
         "723146",
         "d",
         "fwd",
         "90.2",
         "fwd_d"
        ],
        [
         "2",
         "2001806229",
         "0.5",
         "0.5",
         "1091117222080",
         "0.71",
         "121003",
         "421204",
         "d",
         "fwd",
         "90.2",
         "fwd_d"
        ],
        [
         "3",
         "2001806232",
         "1.302",
         "1.5",
         "1091117222124",
         "1.3",
         "121003",
         "507101",
         "d",
         "fwd",
         "135.0",
         "fwd_d"
        ],
        [
         "4",
         "2001806233",
         "0.245",
         "0.5",
         "1091117222135",
         "0.78",
         "121003",
         "263139",
         "b",
         "fwd",
         "61.3",
         "fwd_b"
        ],
        [
         "5",
         "2001806251",
         "0.245",
         "0.5",
         "1091117222146",
         "1.27",
         "121003",
         "743263",
         "d",
         "fwd",
         "135.0",
         "fwd_d"
        ],
        [
         "6",
         "2001806273",
         "0.615",
         "1.0",
         "1091117222194",
         "1.0",
         "121003",
         "486886",
         "d",
         "fwd",
         "90.2",
         "fwd_d"
        ],
        [
         "7",
         "2001806304",
         "0.5",
         "0.5",
         "1091117222360",
         "0.71",
         "121003",
         "302017",
         "d",
         "fwd",
         "90.2",
         "fwd_d"
        ],
        [
         "8",
         "2001806338",
         "0.5",
         "0.5",
         "1091117222570",
         "0.7",
         "121003",
         "392150",
         "d",
         "fwd",
         "90.2",
         "fwd_d"
        ],
        [
         "9",
         "2001806408",
         "2.265",
         "2.5",
         "1091117222931",
         "2.5",
         "121003",
         "532484",
         "d",
         "fwd",
         "224.6",
         "fwd_d"
        ],
        [
         "10",
         "2001806446",
         "0.5",
         "0.5",
         "1091117223211",
         "0.69",
         "121003",
         "382830",
         "d",
         "fwd",
         "90.2",
         "fwd_d"
        ],
        [
         "11",
         "2001806458",
         "0.7",
         "1.0",
         "1091117223244",
         "1.0",
         "121003",
         "143001",
         "b",
         "fwd",
         "61.3",
         "fwd_b"
        ],
        [
         "12",
         "2001806471",
         "1.621",
         "2.0",
         "1091117223351",
         "1.7",
         "121003",
         "313027",
         "d",
         "fwd",
         "179.8",
         "fwd_d"
        ],
        [
         "13",
         "2001806533",
         "0.5",
         "0.5",
         "1091117224353",
         "0.68",
         "121003",
         "711303",
         "d",
         "fwd",
         "90.2",
         "fwd_d"
        ],
        [
         "14",
         "2001806547",
         "0.127",
         "0.5",
         "1091117224611",
         "1.0",
         "121003",
         "283102",
         "b",
         "fwd",
         "61.3",
         "fwd_b"
        ],
        [
         "15",
         "2001806567",
         "0.952",
         "1.0",
         "1091117224902",
         "1.16",
         "121003",
         "370201",
         "d",
         "fwd",
         "135.0",
         "fwd_d"
        ],
        [
         "16",
         "2001806575",
         "0.5",
         "0.5",
         "1091117225016",
         "0.68",
         "121003",
         "248001",
         "b",
         "fwd",
         "61.3",
         "fwd_b"
        ],
        [
         "17",
         "2001806616",
         "0.963",
         "1.0",
         "1091117225484",
         "1.08",
         "121003",
         "144001",
         "b",
         "fwd",
         "89.6",
         "fwd_b"
        ],
        [
         "18",
         "2001806652",
         "0.5",
         "0.5",
         "1091117226221",
         "0.69",
         "121003",
         "403401",
         "d",
         "fwd",
         "90.2",
         "fwd_d"
        ],
        [
         "19",
         "2001806686",
         "0.24",
         "0.5",
         "1091117229555",
         "0.15",
         "121003",
         "326502",
         "d",
         "fwd",
         "45.4",
         "fwd_d"
        ],
        [
         "20",
         "2001806726",
         "0.5",
         "0.5",
         "1091117226910",
         "0.68",
         "121003",
         "831002",
         "d",
         "fwd",
         "90.2",
         "fwd_d"
        ],
        [
         "21",
         "2001806733",
         "0.967",
         "1.0",
         "1091117226674",
         "1.13",
         "121003",
         "452001",
         "d",
         "fwd",
         "135.0",
         "fwd_d"
        ],
        [
         "22",
         "2001806735",
         "0.5",
         "0.5",
         "1091117226711",
         "0.69",
         "121003",
         "721636",
         "d",
         "fwd",
         "90.2",
         "fwd_d"
        ],
        [
         "23",
         "2001806768",
         "0.84",
         "1.0",
         "1091117227116",
         "1.02",
         "121003",
         "322201",
         "d",
         "fwd",
         "135.0",
         "fwd_d"
        ],
        [
         "24",
         "2001806776",
         "0.611",
         "1.0",
         "1091117227573",
         "2.86",
         "121003",
         "226004",
         "b",
         "fwd",
         "174.5",
         "fwd_b"
        ],
        [
         "25",
         "2001806801",
         "0.361",
         "0.5",
         "1091117227816",
         "1.35",
         "121003",
         "248001",
         "b",
         "fwd",
         "89.6",
         "fwd_b"
        ],
        [
         "26",
         "2001806823",
         "0.127",
         "0.5",
         "1091117228133",
         "0.59",
         "121003",
         "314001",
         "d",
         "fwd",
         "90.2",
         "fwd_d"
        ],
        [
         "27",
         "2001806828",
         "0.5",
         "0.5",
         "1091117228192",
         "0.69",
         "121003",
         "331022",
         "d",
         "fwd",
         "90.2",
         "fwd_d"
        ],
        [
         "28",
         "2001806885",
         "0.84",
         "1.0",
         "1091117229776",
         "1.0",
         "121003",
         "208019",
         "b",
         "fwd",
         "61.3",
         "fwd_b"
        ],
        [
         "29",
         "2001806968",
         "0.5",
         "0.5",
         "1091117229183",
         "0.68",
         "121003",
         "305801",
         "d",
         "fwd",
         "90.2",
         "fwd_d"
        ],
        [
         "30",
         "2001807004",
         "0.5",
         "0.5",
         "1091117229290",
         "0.68",
         "121003",
         "410206",
         "d",
         "fwd",
         "90.2",
         "fwd_d"
        ],
        [
         "31",
         "2001807012",
         "0.24",
         "0.5",
         "1091117229345",
         "0.15",
         "121003",
         "515591",
         "d",
         "fwd",
         "45.4",
         "fwd_d"
        ],
        [
         "32",
         "2001807036",
         "1.459",
         "1.5",
         "1091117323005",
         "1.64",
         "121003",
         "516503",
         "d",
         "fwd",
         "179.8",
         "fwd_d"
        ],
        [
         "33",
         "2001807058",
         "1.168",
         "1.5",
         "1091117323112",
         "1.15",
         "121003",
         "140301",
         "b",
         "fwd",
         "89.6",
         "fwd_b"
        ],
        [
         "34",
         "2001807084",
         "0.5",
         "0.5",
         "1091117323215",
         "0.67",
         "121003",
         "742103",
         "d",
         "fwd",
         "90.2",
         "fwd_d"
        ],
        [
         "35",
         "2001807186",
         "0.5",
         "0.5",
         "1091117323812",
         "0.5",
         "121003",
         "396001",
         "d",
         "fwd",
         "45.4",
         "fwd_d"
        ],
        [
         "36",
         "2001807241",
         "0.607",
         "1.0",
         "1091117324011",
         "0.79",
         "121003",
         "341001",
         "d",
         "fwd",
         "90.2",
         "fwd_d"
        ],
        [
         "37",
         "2001807290",
         "0.5",
         "0.5",
         "1091117324206",
         "0.5",
         "121003",
         "711106",
         "d",
         "fwd",
         "45.4",
         "fwd_d"
        ],
        [
         "38",
         "2001807328",
         "0.49",
         "0.5",
         "1091117324346",
         "2.28",
         "121003",
         "335502",
         "d",
         "fwd",
         "224.6",
         "fwd_d"
        ],
        [
         "39",
         "2001807329",
         "0.5",
         "0.5",
         "1091117333100",
         "0.73",
         "121003",
         "302039",
         "d",
         "fwd",
         "90.2",
         "fwd_d"
        ],
        [
         "40",
         "2001807362",
         "2.016",
         "2.5",
         "1091117324394",
         "2.0",
         "121003",
         "452018",
         "d",
         "fwd",
         "179.8",
         "fwd_d"
        ],
        [
         "41",
         "2001807415",
         "1.048",
         "1.5",
         "1091117325094",
         "1.0",
         "121003",
         "208001",
         "b",
         "fwd",
         "61.3",
         "fwd_b"
        ],
        [
         "42",
         "2001807613",
         "0.83",
         "1.0",
         "1091117333251",
         "1.04",
         "121003",
         "335803",
         "d",
         "fwd",
         "135.0",
         "fwd_d"
        ],
        [
         "43",
         "2001807785",
         "0.5",
         "0.5",
         "1091117326424",
         "0.68",
         "121003",
         "306116",
         "d",
         "fwd",
         "90.2",
         "fwd_d"
        ],
        [
         "44",
         "2001807814",
         "0.607",
         "1.0",
         "1091117326612",
         "0.79",
         "121003",
         "284001",
         "b",
         "fwd",
         "61.3",
         "fwd_b"
        ],
        [
         "45",
         "2001807852",
         "0.5",
         "0.5",
         "1091117326925",
         "0.74",
         "121003",
         "311001",
         "d",
         "fwd",
         "90.2",
         "fwd_d"
        ],
        [
         "46",
         "2001807930",
         "0.24",
         "0.5",
         "1091117327695",
         "0.15",
         "121003",
         "845438",
         "d",
         "fwd",
         "45.4",
         "fwd_d"
        ],
        [
         "47",
         "2001807931",
         "0.607",
         "1.0",
         "1091117327172",
         "0.72",
         "121003",
         "441601",
         "d",
         "fwd",
         "90.2",
         "fwd_d"
        ],
        [
         "48",
         "2001807956",
         "1.08",
         "1.5",
         "1091117327275",
         "1.08",
         "121003",
         "248006",
         "b",
         "fwd",
         "89.6",
         "fwd_b"
        ],
        [
         "49",
         "2001807960",
         "0.93",
         "1.0",
         "1091117327312",
         "1.0",
         "121003",
         "485001",
         "d",
         "fwd",
         "90.2",
         "fwd_d"
        ]
       ],
       "shape": {
        "columns": 11,
        "rows": 124
       }
      },
      "text/html": [
       "<div>\n",
       "<style scoped>\n",
       "    .dataframe tbody tr th:only-of-type {\n",
       "        vertical-align: middle;\n",
       "    }\n",
       "\n",
       "    .dataframe tbody tr th {\n",
       "        vertical-align: top;\n",
       "    }\n",
       "\n",
       "    .dataframe thead th {\n",
       "        text-align: right;\n",
       "    }\n",
       "</style>\n",
       "<table border=\"1\" class=\"dataframe\">\n",
       "  <thead>\n",
       "    <tr style=\"text-align: right;\">\n",
       "      <th></th>\n",
       "      <th>Order ID</th>\n",
       "      <th>Total Weight (kg)</th>\n",
       "      <th>Weight Slab (kg)</th>\n",
       "      <th>AWB Code</th>\n",
       "      <th>Charged Weight</th>\n",
       "      <th>Warehouse Pincode</th>\n",
       "      <th>Customer Pincode</th>\n",
       "      <th>Zone</th>\n",
       "      <th>Type of Shipment</th>\n",
       "      <th>Billing Amount (Rs.)</th>\n",
       "      <th>stringPrefix</th>\n",
       "    </tr>\n",
       "  </thead>\n",
       "  <tbody>\n",
       "    <tr>\n",
       "      <th>0</th>\n",
       "      <td>2001806210</td>\n",
       "      <td>0.220</td>\n",
       "      <td>0.5</td>\n",
       "      <td>1091117221940</td>\n",
       "      <td>2.92</td>\n",
       "      <td>121003</td>\n",
       "      <td>140604</td>\n",
       "      <td>b</td>\n",
       "      <td>fwd</td>\n",
       "      <td>174.5</td>\n",
       "      <td>fwd_b</td>\n",
       "    </tr>\n",
       "    <tr>\n",
       "      <th>1</th>\n",
       "      <td>2001806226</td>\n",
       "      <td>0.480</td>\n",
       "      <td>0.5</td>\n",
       "      <td>1091117222065</td>\n",
       "      <td>0.68</td>\n",
       "      <td>121003</td>\n",
       "      <td>723146</td>\n",
       "      <td>d</td>\n",
       "      <td>fwd</td>\n",
       "      <td>90.2</td>\n",
       "      <td>fwd_d</td>\n",
       "    </tr>\n",
       "    <tr>\n",
       "      <th>2</th>\n",
       "      <td>2001806229</td>\n",
       "      <td>0.500</td>\n",
       "      <td>0.5</td>\n",
       "      <td>1091117222080</td>\n",
       "      <td>0.71</td>\n",
       "      <td>121003</td>\n",
       "      <td>421204</td>\n",
       "      <td>d</td>\n",
       "      <td>fwd</td>\n",
       "      <td>90.2</td>\n",
       "      <td>fwd_d</td>\n",
       "    </tr>\n",
       "    <tr>\n",
       "      <th>3</th>\n",
       "      <td>2001806232</td>\n",
       "      <td>1.302</td>\n",
       "      <td>1.5</td>\n",
       "      <td>1091117222124</td>\n",
       "      <td>1.30</td>\n",
       "      <td>121003</td>\n",
       "      <td>507101</td>\n",
       "      <td>d</td>\n",
       "      <td>fwd</td>\n",
       "      <td>135.0</td>\n",
       "      <td>fwd_d</td>\n",
       "    </tr>\n",
       "    <tr>\n",
       "      <th>4</th>\n",
       "      <td>2001806233</td>\n",
       "      <td>0.245</td>\n",
       "      <td>0.5</td>\n",
       "      <td>1091117222135</td>\n",
       "      <td>0.78</td>\n",
       "      <td>121003</td>\n",
       "      <td>263139</td>\n",
       "      <td>b</td>\n",
       "      <td>fwd</td>\n",
       "      <td>61.3</td>\n",
       "      <td>fwd_b</td>\n",
       "    </tr>\n",
       "    <tr>\n",
       "      <th>...</th>\n",
       "      <td>...</td>\n",
       "      <td>...</td>\n",
       "      <td>...</td>\n",
       "      <td>...</td>\n",
       "      <td>...</td>\n",
       "      <td>...</td>\n",
       "      <td>...</td>\n",
       "      <td>...</td>\n",
       "      <td>...</td>\n",
       "      <td>...</td>\n",
       "      <td>...</td>\n",
       "    </tr>\n",
       "    <tr>\n",
       "      <th>119</th>\n",
       "      <td>2001821995</td>\n",
       "      <td>0.477</td>\n",
       "      <td>0.5</td>\n",
       "      <td>1091121183730</td>\n",
       "      <td>0.50</td>\n",
       "      <td>121003</td>\n",
       "      <td>342008</td>\n",
       "      <td>d</td>\n",
       "      <td>fwd</td>\n",
       "      <td>45.4</td>\n",
       "      <td>fwd_d</td>\n",
       "    </tr>\n",
       "    <tr>\n",
       "      <th>120</th>\n",
       "      <td>2001822466</td>\n",
       "      <td>1.376</td>\n",
       "      <td>1.5</td>\n",
       "      <td>1091121305541</td>\n",
       "      <td>1.10</td>\n",
       "      <td>121003</td>\n",
       "      <td>342301</td>\n",
       "      <td>d</td>\n",
       "      <td>fwd</td>\n",
       "      <td>135.0</td>\n",
       "      <td>fwd_d</td>\n",
       "    </tr>\n",
       "    <tr>\n",
       "      <th>121</th>\n",
       "      <td>2001823564</td>\n",
       "      <td>0.672</td>\n",
       "      <td>1.0</td>\n",
       "      <td>1091121666133</td>\n",
       "      <td>0.70</td>\n",
       "      <td>121003</td>\n",
       "      <td>492001</td>\n",
       "      <td>d</td>\n",
       "      <td>rto</td>\n",
       "      <td>172.8</td>\n",
       "      <td>rto_d</td>\n",
       "    </tr>\n",
       "    <tr>\n",
       "      <th>122</th>\n",
       "      <td>2001825261</td>\n",
       "      <td>1.557</td>\n",
       "      <td>2.0</td>\n",
       "      <td>1091121981575</td>\n",
       "      <td>1.60</td>\n",
       "      <td>121003</td>\n",
       "      <td>517128</td>\n",
       "      <td>d</td>\n",
       "      <td>rto</td>\n",
       "      <td>345.0</td>\n",
       "      <td>rto_d</td>\n",
       "    </tr>\n",
       "    <tr>\n",
       "      <th>123</th>\n",
       "      <td>2001827036</td>\n",
       "      <td>1.676</td>\n",
       "      <td>2.0</td>\n",
       "      <td>1091122418320</td>\n",
       "      <td>1.60</td>\n",
       "      <td>121003</td>\n",
       "      <td>173213</td>\n",
       "      <td>b</td>\n",
       "      <td>fwd</td>\n",
       "      <td>117.9</td>\n",
       "      <td>fwd_b</td>\n",
       "    </tr>\n",
       "  </tbody>\n",
       "</table>\n",
       "<p>124 rows × 11 columns</p>\n",
       "</div>"
      ],
      "text/plain": [
       "       Order ID  Total Weight (kg)  Weight Slab (kg)       AWB Code  \\\n",
       "0    2001806210              0.220               0.5  1091117221940   \n",
       "1    2001806226              0.480               0.5  1091117222065   \n",
       "2    2001806229              0.500               0.5  1091117222080   \n",
       "3    2001806232              1.302               1.5  1091117222124   \n",
       "4    2001806233              0.245               0.5  1091117222135   \n",
       "..          ...                ...               ...            ...   \n",
       "119  2001821995              0.477               0.5  1091121183730   \n",
       "120  2001822466              1.376               1.5  1091121305541   \n",
       "121  2001823564              0.672               1.0  1091121666133   \n",
       "122  2001825261              1.557               2.0  1091121981575   \n",
       "123  2001827036              1.676               2.0  1091122418320   \n",
       "\n",
       "     Charged Weight  Warehouse Pincode  Customer Pincode Zone  \\\n",
       "0              2.92             121003            140604    b   \n",
       "1              0.68             121003            723146    d   \n",
       "2              0.71             121003            421204    d   \n",
       "3              1.30             121003            507101    d   \n",
       "4              0.78             121003            263139    b   \n",
       "..              ...                ...               ...  ...   \n",
       "119            0.50             121003            342008    d   \n",
       "120            1.10             121003            342301    d   \n",
       "121            0.70             121003            492001    d   \n",
       "122            1.60             121003            517128    d   \n",
       "123            1.60             121003            173213    b   \n",
       "\n",
       "    Type of Shipment  Billing Amount (Rs.) stringPrefix  \n",
       "0                fwd                 174.5        fwd_b  \n",
       "1                fwd                  90.2        fwd_d  \n",
       "2                fwd                  90.2        fwd_d  \n",
       "3                fwd                 135.0        fwd_d  \n",
       "4                fwd                  61.3        fwd_b  \n",
       "..               ...                   ...          ...  \n",
       "119              fwd                  45.4        fwd_d  \n",
       "120              fwd                 135.0        fwd_d  \n",
       "121              rto                 172.8        rto_d  \n",
       "122              rto                 345.0        rto_d  \n",
       "123              fwd                 117.9        fwd_b  \n",
       "\n",
       "[124 rows x 11 columns]"
      ]
     },
     "execution_count": 67,
     "metadata": {},
     "output_type": "execute_result"
    }
   ],
   "source": [
    "finalDf[\"stringPrefix\"] = finalDf['Type of Shipment'] + \"_\" + finalDf[\"Zone\"]"
   ]
  },
  {
   "cell_type": "code",
   "execution_count": 72,
   "metadata": {},
   "outputs": [],
   "source": [
    "finalDf['FixedPrice'] = finalDf['stringPrefix'].apply(lambda x: courierCompany[f\"{x}_fixed\"][0])\n",
    "finalDf['AdditionalPrice'] = finalDf['stringPrefix'].apply(lambda x: courierCompany[f\"{x}_additional\"][0])"
   ]
  },
  {
   "cell_type": "code",
   "execution_count": 73,
   "metadata": {},
   "outputs": [
    {
     "data": {
      "application/vnd.microsoft.datawrangler.viewer.v0+json": {
       "columns": [
        {
         "name": "index",
         "rawType": "int64",
         "type": "integer"
        },
        {
         "name": "Order ID",
         "rawType": "int64",
         "type": "integer"
        },
        {
         "name": "Total Weight (kg)",
         "rawType": "float64",
         "type": "float"
        },
        {
         "name": "Weight Slab (kg)",
         "rawType": "float64",
         "type": "float"
        },
        {
         "name": "AWB Code",
         "rawType": "int64",
         "type": "integer"
        },
        {
         "name": "Charged Weight",
         "rawType": "float64",
         "type": "float"
        },
        {
         "name": "Warehouse Pincode",
         "rawType": "int64",
         "type": "integer"
        },
        {
         "name": "Customer Pincode",
         "rawType": "int64",
         "type": "integer"
        },
        {
         "name": "Zone",
         "rawType": "object",
         "type": "string"
        },
        {
         "name": "Type of Shipment",
         "rawType": "object",
         "type": "string"
        },
        {
         "name": "Billing Amount (Rs.)",
         "rawType": "float64",
         "type": "float"
        },
        {
         "name": "stringPrefix",
         "rawType": "object",
         "type": "string"
        },
        {
         "name": "FixedPrice",
         "rawType": "float64",
         "type": "float"
        },
        {
         "name": "AdditionalPrice",
         "rawType": "float64",
         "type": "float"
        }
       ],
       "conversionMethod": "pd.DataFrame",
       "ref": "b7a0d50e-790e-4ca8-a732-40a19ae9b835",
       "rows": [
        [
         "0",
         "2001806210",
         "0.22",
         "0.5",
         "1091117221940",
         "2.92",
         "121003",
         "140604",
         "b",
         "fwd",
         "174.5",
         "fwd_b",
         "33.0",
         "28.3"
        ],
        [
         "1",
         "2001806226",
         "0.48",
         "0.5",
         "1091117222065",
         "0.68",
         "121003",
         "723146",
         "d",
         "fwd",
         "90.2",
         "fwd_d",
         "45.4",
         "44.8"
        ],
        [
         "2",
         "2001806229",
         "0.5",
         "0.5",
         "1091117222080",
         "0.71",
         "121003",
         "421204",
         "d",
         "fwd",
         "90.2",
         "fwd_d",
         "45.4",
         "44.8"
        ],
        [
         "3",
         "2001806232",
         "1.302",
         "1.5",
         "1091117222124",
         "1.3",
         "121003",
         "507101",
         "d",
         "fwd",
         "135.0",
         "fwd_d",
         "45.4",
         "44.8"
        ],
        [
         "4",
         "2001806233",
         "0.245",
         "0.5",
         "1091117222135",
         "0.78",
         "121003",
         "263139",
         "b",
         "fwd",
         "61.3",
         "fwd_b",
         "33.0",
         "28.3"
        ],
        [
         "5",
         "2001806251",
         "0.245",
         "0.5",
         "1091117222146",
         "1.27",
         "121003",
         "743263",
         "d",
         "fwd",
         "135.0",
         "fwd_d",
         "45.4",
         "44.8"
        ],
        [
         "6",
         "2001806273",
         "0.615",
         "1.0",
         "1091117222194",
         "1.0",
         "121003",
         "486886",
         "d",
         "fwd",
         "90.2",
         "fwd_d",
         "45.4",
         "44.8"
        ],
        [
         "7",
         "2001806304",
         "0.5",
         "0.5",
         "1091117222360",
         "0.71",
         "121003",
         "302017",
         "d",
         "fwd",
         "90.2",
         "fwd_d",
         "45.4",
         "44.8"
        ],
        [
         "8",
         "2001806338",
         "0.5",
         "0.5",
         "1091117222570",
         "0.7",
         "121003",
         "392150",
         "d",
         "fwd",
         "90.2",
         "fwd_d",
         "45.4",
         "44.8"
        ],
        [
         "9",
         "2001806408",
         "2.265",
         "2.5",
         "1091117222931",
         "2.5",
         "121003",
         "532484",
         "d",
         "fwd",
         "224.6",
         "fwd_d",
         "45.4",
         "44.8"
        ],
        [
         "10",
         "2001806446",
         "0.5",
         "0.5",
         "1091117223211",
         "0.69",
         "121003",
         "382830",
         "d",
         "fwd",
         "90.2",
         "fwd_d",
         "45.4",
         "44.8"
        ],
        [
         "11",
         "2001806458",
         "0.7",
         "1.0",
         "1091117223244",
         "1.0",
         "121003",
         "143001",
         "b",
         "fwd",
         "61.3",
         "fwd_b",
         "33.0",
         "28.3"
        ],
        [
         "12",
         "2001806471",
         "1.621",
         "2.0",
         "1091117223351",
         "1.7",
         "121003",
         "313027",
         "d",
         "fwd",
         "179.8",
         "fwd_d",
         "45.4",
         "44.8"
        ],
        [
         "13",
         "2001806533",
         "0.5",
         "0.5",
         "1091117224353",
         "0.68",
         "121003",
         "711303",
         "d",
         "fwd",
         "90.2",
         "fwd_d",
         "45.4",
         "44.8"
        ],
        [
         "14",
         "2001806547",
         "0.127",
         "0.5",
         "1091117224611",
         "1.0",
         "121003",
         "283102",
         "b",
         "fwd",
         "61.3",
         "fwd_b",
         "33.0",
         "28.3"
        ],
        [
         "15",
         "2001806567",
         "0.952",
         "1.0",
         "1091117224902",
         "1.16",
         "121003",
         "370201",
         "d",
         "fwd",
         "135.0",
         "fwd_d",
         "45.4",
         "44.8"
        ],
        [
         "16",
         "2001806575",
         "0.5",
         "0.5",
         "1091117225016",
         "0.68",
         "121003",
         "248001",
         "b",
         "fwd",
         "61.3",
         "fwd_b",
         "33.0",
         "28.3"
        ],
        [
         "17",
         "2001806616",
         "0.963",
         "1.0",
         "1091117225484",
         "1.08",
         "121003",
         "144001",
         "b",
         "fwd",
         "89.6",
         "fwd_b",
         "33.0",
         "28.3"
        ],
        [
         "18",
         "2001806652",
         "0.5",
         "0.5",
         "1091117226221",
         "0.69",
         "121003",
         "403401",
         "d",
         "fwd",
         "90.2",
         "fwd_d",
         "45.4",
         "44.8"
        ],
        [
         "19",
         "2001806686",
         "0.24",
         "0.5",
         "1091117229555",
         "0.15",
         "121003",
         "326502",
         "d",
         "fwd",
         "45.4",
         "fwd_d",
         "45.4",
         "44.8"
        ],
        [
         "20",
         "2001806726",
         "0.5",
         "0.5",
         "1091117226910",
         "0.68",
         "121003",
         "831002",
         "d",
         "fwd",
         "90.2",
         "fwd_d",
         "45.4",
         "44.8"
        ],
        [
         "21",
         "2001806733",
         "0.967",
         "1.0",
         "1091117226674",
         "1.13",
         "121003",
         "452001",
         "d",
         "fwd",
         "135.0",
         "fwd_d",
         "45.4",
         "44.8"
        ],
        [
         "22",
         "2001806735",
         "0.5",
         "0.5",
         "1091117226711",
         "0.69",
         "121003",
         "721636",
         "d",
         "fwd",
         "90.2",
         "fwd_d",
         "45.4",
         "44.8"
        ],
        [
         "23",
         "2001806768",
         "0.84",
         "1.0",
         "1091117227116",
         "1.02",
         "121003",
         "322201",
         "d",
         "fwd",
         "135.0",
         "fwd_d",
         "45.4",
         "44.8"
        ],
        [
         "24",
         "2001806776",
         "0.611",
         "1.0",
         "1091117227573",
         "2.86",
         "121003",
         "226004",
         "b",
         "fwd",
         "174.5",
         "fwd_b",
         "33.0",
         "28.3"
        ],
        [
         "25",
         "2001806801",
         "0.361",
         "0.5",
         "1091117227816",
         "1.35",
         "121003",
         "248001",
         "b",
         "fwd",
         "89.6",
         "fwd_b",
         "33.0",
         "28.3"
        ],
        [
         "26",
         "2001806823",
         "0.127",
         "0.5",
         "1091117228133",
         "0.59",
         "121003",
         "314001",
         "d",
         "fwd",
         "90.2",
         "fwd_d",
         "45.4",
         "44.8"
        ],
        [
         "27",
         "2001806828",
         "0.5",
         "0.5",
         "1091117228192",
         "0.69",
         "121003",
         "331022",
         "d",
         "fwd",
         "90.2",
         "fwd_d",
         "45.4",
         "44.8"
        ],
        [
         "28",
         "2001806885",
         "0.84",
         "1.0",
         "1091117229776",
         "1.0",
         "121003",
         "208019",
         "b",
         "fwd",
         "61.3",
         "fwd_b",
         "33.0",
         "28.3"
        ],
        [
         "29",
         "2001806968",
         "0.5",
         "0.5",
         "1091117229183",
         "0.68",
         "121003",
         "305801",
         "d",
         "fwd",
         "90.2",
         "fwd_d",
         "45.4",
         "44.8"
        ],
        [
         "30",
         "2001807004",
         "0.5",
         "0.5",
         "1091117229290",
         "0.68",
         "121003",
         "410206",
         "d",
         "fwd",
         "90.2",
         "fwd_d",
         "45.4",
         "44.8"
        ],
        [
         "31",
         "2001807012",
         "0.24",
         "0.5",
         "1091117229345",
         "0.15",
         "121003",
         "515591",
         "d",
         "fwd",
         "45.4",
         "fwd_d",
         "45.4",
         "44.8"
        ],
        [
         "32",
         "2001807036",
         "1.459",
         "1.5",
         "1091117323005",
         "1.64",
         "121003",
         "516503",
         "d",
         "fwd",
         "179.8",
         "fwd_d",
         "45.4",
         "44.8"
        ],
        [
         "33",
         "2001807058",
         "1.168",
         "1.5",
         "1091117323112",
         "1.15",
         "121003",
         "140301",
         "b",
         "fwd",
         "89.6",
         "fwd_b",
         "33.0",
         "28.3"
        ],
        [
         "34",
         "2001807084",
         "0.5",
         "0.5",
         "1091117323215",
         "0.67",
         "121003",
         "742103",
         "d",
         "fwd",
         "90.2",
         "fwd_d",
         "45.4",
         "44.8"
        ],
        [
         "35",
         "2001807186",
         "0.5",
         "0.5",
         "1091117323812",
         "0.5",
         "121003",
         "396001",
         "d",
         "fwd",
         "45.4",
         "fwd_d",
         "45.4",
         "44.8"
        ],
        [
         "36",
         "2001807241",
         "0.607",
         "1.0",
         "1091117324011",
         "0.79",
         "121003",
         "341001",
         "d",
         "fwd",
         "90.2",
         "fwd_d",
         "45.4",
         "44.8"
        ],
        [
         "37",
         "2001807290",
         "0.5",
         "0.5",
         "1091117324206",
         "0.5",
         "121003",
         "711106",
         "d",
         "fwd",
         "45.4",
         "fwd_d",
         "45.4",
         "44.8"
        ],
        [
         "38",
         "2001807328",
         "0.49",
         "0.5",
         "1091117324346",
         "2.28",
         "121003",
         "335502",
         "d",
         "fwd",
         "224.6",
         "fwd_d",
         "45.4",
         "44.8"
        ],
        [
         "39",
         "2001807329",
         "0.5",
         "0.5",
         "1091117333100",
         "0.73",
         "121003",
         "302039",
         "d",
         "fwd",
         "90.2",
         "fwd_d",
         "45.4",
         "44.8"
        ],
        [
         "40",
         "2001807362",
         "2.016",
         "2.5",
         "1091117324394",
         "2.0",
         "121003",
         "452018",
         "d",
         "fwd",
         "179.8",
         "fwd_d",
         "45.4",
         "44.8"
        ],
        [
         "41",
         "2001807415",
         "1.048",
         "1.5",
         "1091117325094",
         "1.0",
         "121003",
         "208001",
         "b",
         "fwd",
         "61.3",
         "fwd_b",
         "33.0",
         "28.3"
        ],
        [
         "42",
         "2001807613",
         "0.83",
         "1.0",
         "1091117333251",
         "1.04",
         "121003",
         "335803",
         "d",
         "fwd",
         "135.0",
         "fwd_d",
         "45.4",
         "44.8"
        ],
        [
         "43",
         "2001807785",
         "0.5",
         "0.5",
         "1091117326424",
         "0.68",
         "121003",
         "306116",
         "d",
         "fwd",
         "90.2",
         "fwd_d",
         "45.4",
         "44.8"
        ],
        [
         "44",
         "2001807814",
         "0.607",
         "1.0",
         "1091117326612",
         "0.79",
         "121003",
         "284001",
         "b",
         "fwd",
         "61.3",
         "fwd_b",
         "33.0",
         "28.3"
        ],
        [
         "45",
         "2001807852",
         "0.5",
         "0.5",
         "1091117326925",
         "0.74",
         "121003",
         "311001",
         "d",
         "fwd",
         "90.2",
         "fwd_d",
         "45.4",
         "44.8"
        ],
        [
         "46",
         "2001807930",
         "0.24",
         "0.5",
         "1091117327695",
         "0.15",
         "121003",
         "845438",
         "d",
         "fwd",
         "45.4",
         "fwd_d",
         "45.4",
         "44.8"
        ],
        [
         "47",
         "2001807931",
         "0.607",
         "1.0",
         "1091117327172",
         "0.72",
         "121003",
         "441601",
         "d",
         "fwd",
         "90.2",
         "fwd_d",
         "45.4",
         "44.8"
        ],
        [
         "48",
         "2001807956",
         "1.08",
         "1.5",
         "1091117327275",
         "1.08",
         "121003",
         "248006",
         "b",
         "fwd",
         "89.6",
         "fwd_b",
         "33.0",
         "28.3"
        ],
        [
         "49",
         "2001807960",
         "0.93",
         "1.0",
         "1091117327312",
         "1.0",
         "121003",
         "485001",
         "d",
         "fwd",
         "90.2",
         "fwd_d",
         "45.4",
         "44.8"
        ]
       ],
       "shape": {
        "columns": 13,
        "rows": 124
       }
      },
      "text/html": [
       "<div>\n",
       "<style scoped>\n",
       "    .dataframe tbody tr th:only-of-type {\n",
       "        vertical-align: middle;\n",
       "    }\n",
       "\n",
       "    .dataframe tbody tr th {\n",
       "        vertical-align: top;\n",
       "    }\n",
       "\n",
       "    .dataframe thead th {\n",
       "        text-align: right;\n",
       "    }\n",
       "</style>\n",
       "<table border=\"1\" class=\"dataframe\">\n",
       "  <thead>\n",
       "    <tr style=\"text-align: right;\">\n",
       "      <th></th>\n",
       "      <th>Order ID</th>\n",
       "      <th>Total Weight (kg)</th>\n",
       "      <th>Weight Slab (kg)</th>\n",
       "      <th>AWB Code</th>\n",
       "      <th>Charged Weight</th>\n",
       "      <th>Warehouse Pincode</th>\n",
       "      <th>Customer Pincode</th>\n",
       "      <th>Zone</th>\n",
       "      <th>Type of Shipment</th>\n",
       "      <th>Billing Amount (Rs.)</th>\n",
       "      <th>stringPrefix</th>\n",
       "      <th>FixedPrice</th>\n",
       "      <th>AdditionalPrice</th>\n",
       "    </tr>\n",
       "  </thead>\n",
       "  <tbody>\n",
       "    <tr>\n",
       "      <th>0</th>\n",
       "      <td>2001806210</td>\n",
       "      <td>0.220</td>\n",
       "      <td>0.5</td>\n",
       "      <td>1091117221940</td>\n",
       "      <td>2.92</td>\n",
       "      <td>121003</td>\n",
       "      <td>140604</td>\n",
       "      <td>b</td>\n",
       "      <td>fwd</td>\n",
       "      <td>174.5</td>\n",
       "      <td>fwd_b</td>\n",
       "      <td>33.0</td>\n",
       "      <td>28.3</td>\n",
       "    </tr>\n",
       "    <tr>\n",
       "      <th>1</th>\n",
       "      <td>2001806226</td>\n",
       "      <td>0.480</td>\n",
       "      <td>0.5</td>\n",
       "      <td>1091117222065</td>\n",
       "      <td>0.68</td>\n",
       "      <td>121003</td>\n",
       "      <td>723146</td>\n",
       "      <td>d</td>\n",
       "      <td>fwd</td>\n",
       "      <td>90.2</td>\n",
       "      <td>fwd_d</td>\n",
       "      <td>45.4</td>\n",
       "      <td>44.8</td>\n",
       "    </tr>\n",
       "    <tr>\n",
       "      <th>2</th>\n",
       "      <td>2001806229</td>\n",
       "      <td>0.500</td>\n",
       "      <td>0.5</td>\n",
       "      <td>1091117222080</td>\n",
       "      <td>0.71</td>\n",
       "      <td>121003</td>\n",
       "      <td>421204</td>\n",
       "      <td>d</td>\n",
       "      <td>fwd</td>\n",
       "      <td>90.2</td>\n",
       "      <td>fwd_d</td>\n",
       "      <td>45.4</td>\n",
       "      <td>44.8</td>\n",
       "    </tr>\n",
       "    <tr>\n",
       "      <th>3</th>\n",
       "      <td>2001806232</td>\n",
       "      <td>1.302</td>\n",
       "      <td>1.5</td>\n",
       "      <td>1091117222124</td>\n",
       "      <td>1.30</td>\n",
       "      <td>121003</td>\n",
       "      <td>507101</td>\n",
       "      <td>d</td>\n",
       "      <td>fwd</td>\n",
       "      <td>135.0</td>\n",
       "      <td>fwd_d</td>\n",
       "      <td>45.4</td>\n",
       "      <td>44.8</td>\n",
       "    </tr>\n",
       "    <tr>\n",
       "      <th>4</th>\n",
       "      <td>2001806233</td>\n",
       "      <td>0.245</td>\n",
       "      <td>0.5</td>\n",
       "      <td>1091117222135</td>\n",
       "      <td>0.78</td>\n",
       "      <td>121003</td>\n",
       "      <td>263139</td>\n",
       "      <td>b</td>\n",
       "      <td>fwd</td>\n",
       "      <td>61.3</td>\n",
       "      <td>fwd_b</td>\n",
       "      <td>33.0</td>\n",
       "      <td>28.3</td>\n",
       "    </tr>\n",
       "    <tr>\n",
       "      <th>...</th>\n",
       "      <td>...</td>\n",
       "      <td>...</td>\n",
       "      <td>...</td>\n",
       "      <td>...</td>\n",
       "      <td>...</td>\n",
       "      <td>...</td>\n",
       "      <td>...</td>\n",
       "      <td>...</td>\n",
       "      <td>...</td>\n",
       "      <td>...</td>\n",
       "      <td>...</td>\n",
       "      <td>...</td>\n",
       "      <td>...</td>\n",
       "    </tr>\n",
       "    <tr>\n",
       "      <th>119</th>\n",
       "      <td>2001821995</td>\n",
       "      <td>0.477</td>\n",
       "      <td>0.5</td>\n",
       "      <td>1091121183730</td>\n",
       "      <td>0.50</td>\n",
       "      <td>121003</td>\n",
       "      <td>342008</td>\n",
       "      <td>d</td>\n",
       "      <td>fwd</td>\n",
       "      <td>45.4</td>\n",
       "      <td>fwd_d</td>\n",
       "      <td>45.4</td>\n",
       "      <td>44.8</td>\n",
       "    </tr>\n",
       "    <tr>\n",
       "      <th>120</th>\n",
       "      <td>2001822466</td>\n",
       "      <td>1.376</td>\n",
       "      <td>1.5</td>\n",
       "      <td>1091121305541</td>\n",
       "      <td>1.10</td>\n",
       "      <td>121003</td>\n",
       "      <td>342301</td>\n",
       "      <td>d</td>\n",
       "      <td>fwd</td>\n",
       "      <td>135.0</td>\n",
       "      <td>fwd_d</td>\n",
       "      <td>45.4</td>\n",
       "      <td>44.8</td>\n",
       "    </tr>\n",
       "    <tr>\n",
       "      <th>121</th>\n",
       "      <td>2001823564</td>\n",
       "      <td>0.672</td>\n",
       "      <td>1.0</td>\n",
       "      <td>1091121666133</td>\n",
       "      <td>0.70</td>\n",
       "      <td>121003</td>\n",
       "      <td>492001</td>\n",
       "      <td>d</td>\n",
       "      <td>rto</td>\n",
       "      <td>172.8</td>\n",
       "      <td>rto_d</td>\n",
       "      <td>41.3</td>\n",
       "      <td>44.8</td>\n",
       "    </tr>\n",
       "    <tr>\n",
       "      <th>122</th>\n",
       "      <td>2001825261</td>\n",
       "      <td>1.557</td>\n",
       "      <td>2.0</td>\n",
       "      <td>1091121981575</td>\n",
       "      <td>1.60</td>\n",
       "      <td>121003</td>\n",
       "      <td>517128</td>\n",
       "      <td>d</td>\n",
       "      <td>rto</td>\n",
       "      <td>345.0</td>\n",
       "      <td>rto_d</td>\n",
       "      <td>41.3</td>\n",
       "      <td>44.8</td>\n",
       "    </tr>\n",
       "    <tr>\n",
       "      <th>123</th>\n",
       "      <td>2001827036</td>\n",
       "      <td>1.676</td>\n",
       "      <td>2.0</td>\n",
       "      <td>1091122418320</td>\n",
       "      <td>1.60</td>\n",
       "      <td>121003</td>\n",
       "      <td>173213</td>\n",
       "      <td>b</td>\n",
       "      <td>fwd</td>\n",
       "      <td>117.9</td>\n",
       "      <td>fwd_b</td>\n",
       "      <td>33.0</td>\n",
       "      <td>28.3</td>\n",
       "    </tr>\n",
       "  </tbody>\n",
       "</table>\n",
       "<p>124 rows × 13 columns</p>\n",
       "</div>"
      ],
      "text/plain": [
       "       Order ID  Total Weight (kg)  Weight Slab (kg)       AWB Code  \\\n",
       "0    2001806210              0.220               0.5  1091117221940   \n",
       "1    2001806226              0.480               0.5  1091117222065   \n",
       "2    2001806229              0.500               0.5  1091117222080   \n",
       "3    2001806232              1.302               1.5  1091117222124   \n",
       "4    2001806233              0.245               0.5  1091117222135   \n",
       "..          ...                ...               ...            ...   \n",
       "119  2001821995              0.477               0.5  1091121183730   \n",
       "120  2001822466              1.376               1.5  1091121305541   \n",
       "121  2001823564              0.672               1.0  1091121666133   \n",
       "122  2001825261              1.557               2.0  1091121981575   \n",
       "123  2001827036              1.676               2.0  1091122418320   \n",
       "\n",
       "     Charged Weight  Warehouse Pincode  Customer Pincode Zone  \\\n",
       "0              2.92             121003            140604    b   \n",
       "1              0.68             121003            723146    d   \n",
       "2              0.71             121003            421204    d   \n",
       "3              1.30             121003            507101    d   \n",
       "4              0.78             121003            263139    b   \n",
       "..              ...                ...               ...  ...   \n",
       "119            0.50             121003            342008    d   \n",
       "120            1.10             121003            342301    d   \n",
       "121            0.70             121003            492001    d   \n",
       "122            1.60             121003            517128    d   \n",
       "123            1.60             121003            173213    b   \n",
       "\n",
       "    Type of Shipment  Billing Amount (Rs.) stringPrefix  FixedPrice  \\\n",
       "0                fwd                 174.5        fwd_b        33.0   \n",
       "1                fwd                  90.2        fwd_d        45.4   \n",
       "2                fwd                  90.2        fwd_d        45.4   \n",
       "3                fwd                 135.0        fwd_d        45.4   \n",
       "4                fwd                  61.3        fwd_b        33.0   \n",
       "..               ...                   ...          ...         ...   \n",
       "119              fwd                  45.4        fwd_d        45.4   \n",
       "120              fwd                 135.0        fwd_d        45.4   \n",
       "121              rto                 172.8        rto_d        41.3   \n",
       "122              rto                 345.0        rto_d        41.3   \n",
       "123              fwd                 117.9        fwd_b        33.0   \n",
       "\n",
       "     AdditionalPrice  \n",
       "0               28.3  \n",
       "1               44.8  \n",
       "2               44.8  \n",
       "3               44.8  \n",
       "4               28.3  \n",
       "..               ...  \n",
       "119             44.8  \n",
       "120             44.8  \n",
       "121             44.8  \n",
       "122             44.8  \n",
       "123             28.3  \n",
       "\n",
       "[124 rows x 13 columns]"
      ]
     },
     "execution_count": 73,
     "metadata": {},
     "output_type": "execute_result"
    }
   ],
   "source": [
    "finalDf"
   ]
  },
  {
   "cell_type": "markdown",
   "metadata": {},
   "source": [
    "Step 5: Calculate the expected price and investigate if the company is being over-/undercharged or charged properly"
   ]
  },
  {
   "cell_type": "code",
   "execution_count": 84,
   "metadata": {},
   "outputs": [
    {
     "data": {
      "application/vnd.microsoft.datawrangler.viewer.v0+json": {
       "columns": [
        {
         "name": "index",
         "rawType": "int64",
         "type": "integer"
        },
        {
         "name": "Order ID",
         "rawType": "int64",
         "type": "integer"
        },
        {
         "name": "Total Weight (kg)",
         "rawType": "float64",
         "type": "float"
        },
        {
         "name": "Weight Slab (kg)",
         "rawType": "float64",
         "type": "float"
        },
        {
         "name": "AWB Code",
         "rawType": "int64",
         "type": "integer"
        },
        {
         "name": "Charged Weight",
         "rawType": "float64",
         "type": "float"
        },
        {
         "name": "Warehouse Pincode",
         "rawType": "int64",
         "type": "integer"
        },
        {
         "name": "Customer Pincode",
         "rawType": "int64",
         "type": "integer"
        },
        {
         "name": "Zone",
         "rawType": "object",
         "type": "string"
        },
        {
         "name": "Type of Shipment",
         "rawType": "object",
         "type": "string"
        },
        {
         "name": "Billing Amount (Rs.)",
         "rawType": "float64",
         "type": "float"
        },
        {
         "name": "stringPrefix",
         "rawType": "object",
         "type": "string"
        },
        {
         "name": "FixedPrice",
         "rawType": "float64",
         "type": "float"
        },
        {
         "name": "AdditionalPrice",
         "rawType": "float64",
         "type": "float"
        },
        {
         "name": "ExpectedPrice",
         "rawType": "float64",
         "type": "float"
        }
       ],
       "conversionMethod": "pd.DataFrame",
       "ref": "67b07e30-542d-407f-9479-f1d33f96a9c2",
       "rows": [
        [
         "0",
         "2001806210",
         "0.22",
         "0.5",
         "1091117221940",
         "2.92",
         "121003",
         "140604",
         "b",
         "fwd",
         "174.5",
         "fwd_b",
         "33.0",
         "28.3",
         "61.3"
        ],
        [
         "1",
         "2001806226",
         "0.48",
         "0.5",
         "1091117222065",
         "0.68",
         "121003",
         "723146",
         "d",
         "fwd",
         "90.2",
         "fwd_d",
         "45.4",
         "44.8",
         "90.2"
        ],
        [
         "2",
         "2001806229",
         "0.5",
         "0.5",
         "1091117222080",
         "0.71",
         "121003",
         "421204",
         "d",
         "fwd",
         "90.2",
         "fwd_d",
         "45.4",
         "44.8",
         "90.2"
        ],
        [
         "3",
         "2001806232",
         "1.302",
         "1.5",
         "1091117222124",
         "1.3",
         "121003",
         "507101",
         "d",
         "fwd",
         "135.0",
         "fwd_d",
         "45.4",
         "44.8",
         "179.8"
        ],
        [
         "4",
         "2001806233",
         "0.245",
         "0.5",
         "1091117222135",
         "0.78",
         "121003",
         "263139",
         "b",
         "fwd",
         "61.3",
         "fwd_b",
         "33.0",
         "28.3",
         "61.3"
        ],
        [
         "5",
         "2001806251",
         "0.245",
         "0.5",
         "1091117222146",
         "1.27",
         "121003",
         "743263",
         "d",
         "fwd",
         "135.0",
         "fwd_d",
         "45.4",
         "44.8",
         "90.2"
        ],
        [
         "6",
         "2001806273",
         "0.615",
         "1.0",
         "1091117222194",
         "1.0",
         "121003",
         "486886",
         "d",
         "fwd",
         "90.2",
         "fwd_d",
         "45.4",
         "44.8",
         "135.0"
        ],
        [
         "7",
         "2001806304",
         "0.5",
         "0.5",
         "1091117222360",
         "0.71",
         "121003",
         "302017",
         "d",
         "fwd",
         "90.2",
         "fwd_d",
         "45.4",
         "44.8",
         "90.2"
        ],
        [
         "8",
         "2001806338",
         "0.5",
         "0.5",
         "1091117222570",
         "0.7",
         "121003",
         "392150",
         "d",
         "fwd",
         "90.2",
         "fwd_d",
         "45.4",
         "44.8",
         "90.2"
        ],
        [
         "9",
         "2001806408",
         "2.265",
         "2.5",
         "1091117222931",
         "2.5",
         "121003",
         "532484",
         "d",
         "fwd",
         "224.6",
         "fwd_d",
         "45.4",
         "44.8",
         "269.4"
        ],
        [
         "10",
         "2001806446",
         "0.5",
         "0.5",
         "1091117223211",
         "0.69",
         "121003",
         "382830",
         "d",
         "fwd",
         "90.2",
         "fwd_d",
         "45.4",
         "44.8",
         "90.2"
        ],
        [
         "11",
         "2001806458",
         "0.7",
         "1.0",
         "1091117223244",
         "1.0",
         "121003",
         "143001",
         "b",
         "fwd",
         "61.3",
         "fwd_b",
         "33.0",
         "28.3",
         "89.6"
        ],
        [
         "12",
         "2001806471",
         "1.621",
         "2.0",
         "1091117223351",
         "1.7",
         "121003",
         "313027",
         "d",
         "fwd",
         "179.8",
         "fwd_d",
         "45.4",
         "44.8",
         "224.6"
        ],
        [
         "13",
         "2001806533",
         "0.5",
         "0.5",
         "1091117224353",
         "0.68",
         "121003",
         "711303",
         "d",
         "fwd",
         "90.2",
         "fwd_d",
         "45.4",
         "44.8",
         "90.2"
        ],
        [
         "14",
         "2001806547",
         "0.127",
         "0.5",
         "1091117224611",
         "1.0",
         "121003",
         "283102",
         "b",
         "fwd",
         "61.3",
         "fwd_b",
         "33.0",
         "28.3",
         "61.3"
        ],
        [
         "15",
         "2001806567",
         "0.952",
         "1.0",
         "1091117224902",
         "1.16",
         "121003",
         "370201",
         "d",
         "fwd",
         "135.0",
         "fwd_d",
         "45.4",
         "44.8",
         "135.0"
        ],
        [
         "16",
         "2001806575",
         "0.5",
         "0.5",
         "1091117225016",
         "0.68",
         "121003",
         "248001",
         "b",
         "fwd",
         "61.3",
         "fwd_b",
         "33.0",
         "28.3",
         "61.3"
        ],
        [
         "17",
         "2001806616",
         "0.963",
         "1.0",
         "1091117225484",
         "1.08",
         "121003",
         "144001",
         "b",
         "fwd",
         "89.6",
         "fwd_b",
         "33.0",
         "28.3",
         "89.6"
        ],
        [
         "18",
         "2001806652",
         "0.5",
         "0.5",
         "1091117226221",
         "0.69",
         "121003",
         "403401",
         "d",
         "fwd",
         "90.2",
         "fwd_d",
         "45.4",
         "44.8",
         "90.2"
        ],
        [
         "19",
         "2001806686",
         "0.24",
         "0.5",
         "1091117229555",
         "0.15",
         "121003",
         "326502",
         "d",
         "fwd",
         "45.4",
         "fwd_d",
         "45.4",
         "44.8",
         "90.2"
        ],
        [
         "20",
         "2001806726",
         "0.5",
         "0.5",
         "1091117226910",
         "0.68",
         "121003",
         "831002",
         "d",
         "fwd",
         "90.2",
         "fwd_d",
         "45.4",
         "44.8",
         "90.2"
        ],
        [
         "21",
         "2001806733",
         "0.967",
         "1.0",
         "1091117226674",
         "1.13",
         "121003",
         "452001",
         "d",
         "fwd",
         "135.0",
         "fwd_d",
         "45.4",
         "44.8",
         "135.0"
        ],
        [
         "22",
         "2001806735",
         "0.5",
         "0.5",
         "1091117226711",
         "0.69",
         "121003",
         "721636",
         "d",
         "fwd",
         "90.2",
         "fwd_d",
         "45.4",
         "44.8",
         "90.2"
        ],
        [
         "23",
         "2001806768",
         "0.84",
         "1.0",
         "1091117227116",
         "1.02",
         "121003",
         "322201",
         "d",
         "fwd",
         "135.0",
         "fwd_d",
         "45.4",
         "44.8",
         "135.0"
        ],
        [
         "24",
         "2001806776",
         "0.611",
         "1.0",
         "1091117227573",
         "2.86",
         "121003",
         "226004",
         "b",
         "fwd",
         "174.5",
         "fwd_b",
         "33.0",
         "28.3",
         "89.6"
        ],
        [
         "25",
         "2001806801",
         "0.361",
         "0.5",
         "1091117227816",
         "1.35",
         "121003",
         "248001",
         "b",
         "fwd",
         "89.6",
         "fwd_b",
         "33.0",
         "28.3",
         "61.3"
        ],
        [
         "26",
         "2001806823",
         "0.127",
         "0.5",
         "1091117228133",
         "0.59",
         "121003",
         "314001",
         "d",
         "fwd",
         "90.2",
         "fwd_d",
         "45.4",
         "44.8",
         "90.2"
        ],
        [
         "27",
         "2001806828",
         "0.5",
         "0.5",
         "1091117228192",
         "0.69",
         "121003",
         "331022",
         "d",
         "fwd",
         "90.2",
         "fwd_d",
         "45.4",
         "44.8",
         "90.2"
        ],
        [
         "28",
         "2001806885",
         "0.84",
         "1.0",
         "1091117229776",
         "1.0",
         "121003",
         "208019",
         "b",
         "fwd",
         "61.3",
         "fwd_b",
         "33.0",
         "28.3",
         "89.6"
        ],
        [
         "29",
         "2001806968",
         "0.5",
         "0.5",
         "1091117229183",
         "0.68",
         "121003",
         "305801",
         "d",
         "fwd",
         "90.2",
         "fwd_d",
         "45.4",
         "44.8",
         "90.2"
        ],
        [
         "30",
         "2001807004",
         "0.5",
         "0.5",
         "1091117229290",
         "0.68",
         "121003",
         "410206",
         "d",
         "fwd",
         "90.2",
         "fwd_d",
         "45.4",
         "44.8",
         "90.2"
        ],
        [
         "31",
         "2001807012",
         "0.24",
         "0.5",
         "1091117229345",
         "0.15",
         "121003",
         "515591",
         "d",
         "fwd",
         "45.4",
         "fwd_d",
         "45.4",
         "44.8",
         "90.2"
        ],
        [
         "32",
         "2001807036",
         "1.459",
         "1.5",
         "1091117323005",
         "1.64",
         "121003",
         "516503",
         "d",
         "fwd",
         "179.8",
         "fwd_d",
         "45.4",
         "44.8",
         "179.8"
        ],
        [
         "33",
         "2001807058",
         "1.168",
         "1.5",
         "1091117323112",
         "1.15",
         "121003",
         "140301",
         "b",
         "fwd",
         "89.6",
         "fwd_b",
         "33.0",
         "28.3",
         "117.9"
        ],
        [
         "34",
         "2001807084",
         "0.5",
         "0.5",
         "1091117323215",
         "0.67",
         "121003",
         "742103",
         "d",
         "fwd",
         "90.2",
         "fwd_d",
         "45.4",
         "44.8",
         "90.2"
        ],
        [
         "35",
         "2001807186",
         "0.5",
         "0.5",
         "1091117323812",
         "0.5",
         "121003",
         "396001",
         "d",
         "fwd",
         "45.4",
         "fwd_d",
         "45.4",
         "44.8",
         "90.2"
        ],
        [
         "36",
         "2001807241",
         "0.607",
         "1.0",
         "1091117324011",
         "0.79",
         "121003",
         "341001",
         "d",
         "fwd",
         "90.2",
         "fwd_d",
         "45.4",
         "44.8",
         "135.0"
        ],
        [
         "37",
         "2001807290",
         "0.5",
         "0.5",
         "1091117324206",
         "0.5",
         "121003",
         "711106",
         "d",
         "fwd",
         "45.4",
         "fwd_d",
         "45.4",
         "44.8",
         "90.2"
        ],
        [
         "38",
         "2001807328",
         "0.49",
         "0.5",
         "1091117324346",
         "2.28",
         "121003",
         "335502",
         "d",
         "fwd",
         "224.6",
         "fwd_d",
         "45.4",
         "44.8",
         "90.2"
        ],
        [
         "39",
         "2001807329",
         "0.5",
         "0.5",
         "1091117333100",
         "0.73",
         "121003",
         "302039",
         "d",
         "fwd",
         "90.2",
         "fwd_d",
         "45.4",
         "44.8",
         "90.2"
        ],
        [
         "40",
         "2001807362",
         "2.016",
         "2.5",
         "1091117324394",
         "2.0",
         "121003",
         "452018",
         "d",
         "fwd",
         "179.8",
         "fwd_d",
         "45.4",
         "44.8",
         "269.4"
        ],
        [
         "41",
         "2001807415",
         "1.048",
         "1.5",
         "1091117325094",
         "1.0",
         "121003",
         "208001",
         "b",
         "fwd",
         "61.3",
         "fwd_b",
         "33.0",
         "28.3",
         "117.9"
        ],
        [
         "42",
         "2001807613",
         "0.83",
         "1.0",
         "1091117333251",
         "1.04",
         "121003",
         "335803",
         "d",
         "fwd",
         "135.0",
         "fwd_d",
         "45.4",
         "44.8",
         "135.0"
        ],
        [
         "43",
         "2001807785",
         "0.5",
         "0.5",
         "1091117326424",
         "0.68",
         "121003",
         "306116",
         "d",
         "fwd",
         "90.2",
         "fwd_d",
         "45.4",
         "44.8",
         "90.2"
        ],
        [
         "44",
         "2001807814",
         "0.607",
         "1.0",
         "1091117326612",
         "0.79",
         "121003",
         "284001",
         "b",
         "fwd",
         "61.3",
         "fwd_b",
         "33.0",
         "28.3",
         "89.6"
        ],
        [
         "45",
         "2001807852",
         "0.5",
         "0.5",
         "1091117326925",
         "0.74",
         "121003",
         "311001",
         "d",
         "fwd",
         "90.2",
         "fwd_d",
         "45.4",
         "44.8",
         "90.2"
        ],
        [
         "46",
         "2001807930",
         "0.24",
         "0.5",
         "1091117327695",
         "0.15",
         "121003",
         "845438",
         "d",
         "fwd",
         "45.4",
         "fwd_d",
         "45.4",
         "44.8",
         "90.2"
        ],
        [
         "47",
         "2001807931",
         "0.607",
         "1.0",
         "1091117327172",
         "0.72",
         "121003",
         "441601",
         "d",
         "fwd",
         "90.2",
         "fwd_d",
         "45.4",
         "44.8",
         "135.0"
        ],
        [
         "48",
         "2001807956",
         "1.08",
         "1.5",
         "1091117327275",
         "1.08",
         "121003",
         "248006",
         "b",
         "fwd",
         "89.6",
         "fwd_b",
         "33.0",
         "28.3",
         "117.9"
        ],
        [
         "49",
         "2001807960",
         "0.93",
         "1.0",
         "1091117327312",
         "1.0",
         "121003",
         "485001",
         "d",
         "fwd",
         "90.2",
         "fwd_d",
         "45.4",
         "44.8",
         "135.0"
        ]
       ],
       "shape": {
        "columns": 14,
        "rows": 124
       }
      },
      "text/html": [
       "<div>\n",
       "<style scoped>\n",
       "    .dataframe tbody tr th:only-of-type {\n",
       "        vertical-align: middle;\n",
       "    }\n",
       "\n",
       "    .dataframe tbody tr th {\n",
       "        vertical-align: top;\n",
       "    }\n",
       "\n",
       "    .dataframe thead th {\n",
       "        text-align: right;\n",
       "    }\n",
       "</style>\n",
       "<table border=\"1\" class=\"dataframe\">\n",
       "  <thead>\n",
       "    <tr style=\"text-align: right;\">\n",
       "      <th></th>\n",
       "      <th>Order ID</th>\n",
       "      <th>Total Weight (kg)</th>\n",
       "      <th>Weight Slab (kg)</th>\n",
       "      <th>AWB Code</th>\n",
       "      <th>Charged Weight</th>\n",
       "      <th>Warehouse Pincode</th>\n",
       "      <th>Customer Pincode</th>\n",
       "      <th>Zone</th>\n",
       "      <th>Type of Shipment</th>\n",
       "      <th>Billing Amount (Rs.)</th>\n",
       "      <th>stringPrefix</th>\n",
       "      <th>FixedPrice</th>\n",
       "      <th>AdditionalPrice</th>\n",
       "      <th>ExpectedPrice</th>\n",
       "    </tr>\n",
       "  </thead>\n",
       "  <tbody>\n",
       "    <tr>\n",
       "      <th>0</th>\n",
       "      <td>2001806210</td>\n",
       "      <td>0.220</td>\n",
       "      <td>0.5</td>\n",
       "      <td>1091117221940</td>\n",
       "      <td>2.92</td>\n",
       "      <td>121003</td>\n",
       "      <td>140604</td>\n",
       "      <td>b</td>\n",
       "      <td>fwd</td>\n",
       "      <td>174.5</td>\n",
       "      <td>fwd_b</td>\n",
       "      <td>33.0</td>\n",
       "      <td>28.3</td>\n",
       "      <td>61.3</td>\n",
       "    </tr>\n",
       "    <tr>\n",
       "      <th>1</th>\n",
       "      <td>2001806226</td>\n",
       "      <td>0.480</td>\n",
       "      <td>0.5</td>\n",
       "      <td>1091117222065</td>\n",
       "      <td>0.68</td>\n",
       "      <td>121003</td>\n",
       "      <td>723146</td>\n",
       "      <td>d</td>\n",
       "      <td>fwd</td>\n",
       "      <td>90.2</td>\n",
       "      <td>fwd_d</td>\n",
       "      <td>45.4</td>\n",
       "      <td>44.8</td>\n",
       "      <td>90.2</td>\n",
       "    </tr>\n",
       "    <tr>\n",
       "      <th>2</th>\n",
       "      <td>2001806229</td>\n",
       "      <td>0.500</td>\n",
       "      <td>0.5</td>\n",
       "      <td>1091117222080</td>\n",
       "      <td>0.71</td>\n",
       "      <td>121003</td>\n",
       "      <td>421204</td>\n",
       "      <td>d</td>\n",
       "      <td>fwd</td>\n",
       "      <td>90.2</td>\n",
       "      <td>fwd_d</td>\n",
       "      <td>45.4</td>\n",
       "      <td>44.8</td>\n",
       "      <td>90.2</td>\n",
       "    </tr>\n",
       "    <tr>\n",
       "      <th>3</th>\n",
       "      <td>2001806232</td>\n",
       "      <td>1.302</td>\n",
       "      <td>1.5</td>\n",
       "      <td>1091117222124</td>\n",
       "      <td>1.30</td>\n",
       "      <td>121003</td>\n",
       "      <td>507101</td>\n",
       "      <td>d</td>\n",
       "      <td>fwd</td>\n",
       "      <td>135.0</td>\n",
       "      <td>fwd_d</td>\n",
       "      <td>45.4</td>\n",
       "      <td>44.8</td>\n",
       "      <td>179.8</td>\n",
       "    </tr>\n",
       "    <tr>\n",
       "      <th>4</th>\n",
       "      <td>2001806233</td>\n",
       "      <td>0.245</td>\n",
       "      <td>0.5</td>\n",
       "      <td>1091117222135</td>\n",
       "      <td>0.78</td>\n",
       "      <td>121003</td>\n",
       "      <td>263139</td>\n",
       "      <td>b</td>\n",
       "      <td>fwd</td>\n",
       "      <td>61.3</td>\n",
       "      <td>fwd_b</td>\n",
       "      <td>33.0</td>\n",
       "      <td>28.3</td>\n",
       "      <td>61.3</td>\n",
       "    </tr>\n",
       "    <tr>\n",
       "      <th>...</th>\n",
       "      <td>...</td>\n",
       "      <td>...</td>\n",
       "      <td>...</td>\n",
       "      <td>...</td>\n",
       "      <td>...</td>\n",
       "      <td>...</td>\n",
       "      <td>...</td>\n",
       "      <td>...</td>\n",
       "      <td>...</td>\n",
       "      <td>...</td>\n",
       "      <td>...</td>\n",
       "      <td>...</td>\n",
       "      <td>...</td>\n",
       "      <td>...</td>\n",
       "    </tr>\n",
       "    <tr>\n",
       "      <th>119</th>\n",
       "      <td>2001821995</td>\n",
       "      <td>0.477</td>\n",
       "      <td>0.5</td>\n",
       "      <td>1091121183730</td>\n",
       "      <td>0.50</td>\n",
       "      <td>121003</td>\n",
       "      <td>342008</td>\n",
       "      <td>d</td>\n",
       "      <td>fwd</td>\n",
       "      <td>45.4</td>\n",
       "      <td>fwd_d</td>\n",
       "      <td>45.4</td>\n",
       "      <td>44.8</td>\n",
       "      <td>90.2</td>\n",
       "    </tr>\n",
       "    <tr>\n",
       "      <th>120</th>\n",
       "      <td>2001822466</td>\n",
       "      <td>1.376</td>\n",
       "      <td>1.5</td>\n",
       "      <td>1091121305541</td>\n",
       "      <td>1.10</td>\n",
       "      <td>121003</td>\n",
       "      <td>342301</td>\n",
       "      <td>d</td>\n",
       "      <td>fwd</td>\n",
       "      <td>135.0</td>\n",
       "      <td>fwd_d</td>\n",
       "      <td>45.4</td>\n",
       "      <td>44.8</td>\n",
       "      <td>179.8</td>\n",
       "    </tr>\n",
       "    <tr>\n",
       "      <th>121</th>\n",
       "      <td>2001823564</td>\n",
       "      <td>0.672</td>\n",
       "      <td>1.0</td>\n",
       "      <td>1091121666133</td>\n",
       "      <td>0.70</td>\n",
       "      <td>121003</td>\n",
       "      <td>492001</td>\n",
       "      <td>d</td>\n",
       "      <td>rto</td>\n",
       "      <td>172.8</td>\n",
       "      <td>rto_d</td>\n",
       "      <td>41.3</td>\n",
       "      <td>44.8</td>\n",
       "      <td>130.9</td>\n",
       "    </tr>\n",
       "    <tr>\n",
       "      <th>122</th>\n",
       "      <td>2001825261</td>\n",
       "      <td>1.557</td>\n",
       "      <td>2.0</td>\n",
       "      <td>1091121981575</td>\n",
       "      <td>1.60</td>\n",
       "      <td>121003</td>\n",
       "      <td>517128</td>\n",
       "      <td>d</td>\n",
       "      <td>rto</td>\n",
       "      <td>345.0</td>\n",
       "      <td>rto_d</td>\n",
       "      <td>41.3</td>\n",
       "      <td>44.8</td>\n",
       "      <td>220.5</td>\n",
       "    </tr>\n",
       "    <tr>\n",
       "      <th>123</th>\n",
       "      <td>2001827036</td>\n",
       "      <td>1.676</td>\n",
       "      <td>2.0</td>\n",
       "      <td>1091122418320</td>\n",
       "      <td>1.60</td>\n",
       "      <td>121003</td>\n",
       "      <td>173213</td>\n",
       "      <td>b</td>\n",
       "      <td>fwd</td>\n",
       "      <td>117.9</td>\n",
       "      <td>fwd_b</td>\n",
       "      <td>33.0</td>\n",
       "      <td>28.3</td>\n",
       "      <td>146.2</td>\n",
       "    </tr>\n",
       "  </tbody>\n",
       "</table>\n",
       "<p>124 rows × 14 columns</p>\n",
       "</div>"
      ],
      "text/plain": [
       "       Order ID  Total Weight (kg)  Weight Slab (kg)       AWB Code  \\\n",
       "0    2001806210              0.220               0.5  1091117221940   \n",
       "1    2001806226              0.480               0.5  1091117222065   \n",
       "2    2001806229              0.500               0.5  1091117222080   \n",
       "3    2001806232              1.302               1.5  1091117222124   \n",
       "4    2001806233              0.245               0.5  1091117222135   \n",
       "..          ...                ...               ...            ...   \n",
       "119  2001821995              0.477               0.5  1091121183730   \n",
       "120  2001822466              1.376               1.5  1091121305541   \n",
       "121  2001823564              0.672               1.0  1091121666133   \n",
       "122  2001825261              1.557               2.0  1091121981575   \n",
       "123  2001827036              1.676               2.0  1091122418320   \n",
       "\n",
       "     Charged Weight  Warehouse Pincode  Customer Pincode Zone  \\\n",
       "0              2.92             121003            140604    b   \n",
       "1              0.68             121003            723146    d   \n",
       "2              0.71             121003            421204    d   \n",
       "3              1.30             121003            507101    d   \n",
       "4              0.78             121003            263139    b   \n",
       "..              ...                ...               ...  ...   \n",
       "119            0.50             121003            342008    d   \n",
       "120            1.10             121003            342301    d   \n",
       "121            0.70             121003            492001    d   \n",
       "122            1.60             121003            517128    d   \n",
       "123            1.60             121003            173213    b   \n",
       "\n",
       "    Type of Shipment  Billing Amount (Rs.) stringPrefix  FixedPrice  \\\n",
       "0                fwd                 174.5        fwd_b        33.0   \n",
       "1                fwd                  90.2        fwd_d        45.4   \n",
       "2                fwd                  90.2        fwd_d        45.4   \n",
       "3                fwd                 135.0        fwd_d        45.4   \n",
       "4                fwd                  61.3        fwd_b        33.0   \n",
       "..               ...                   ...          ...         ...   \n",
       "119              fwd                  45.4        fwd_d        45.4   \n",
       "120              fwd                 135.0        fwd_d        45.4   \n",
       "121              rto                 172.8        rto_d        41.3   \n",
       "122              rto                 345.0        rto_d        41.3   \n",
       "123              fwd                 117.9        fwd_b        33.0   \n",
       "\n",
       "     AdditionalPrice  ExpectedPrice  \n",
       "0               28.3           61.3  \n",
       "1               44.8           90.2  \n",
       "2               44.8           90.2  \n",
       "3               44.8          179.8  \n",
       "4               28.3           61.3  \n",
       "..               ...            ...  \n",
       "119             44.8           90.2  \n",
       "120             44.8          179.8  \n",
       "121             44.8          130.9  \n",
       "122             44.8          220.5  \n",
       "123             28.3          146.2  \n",
       "\n",
       "[124 rows x 14 columns]"
      ]
     },
     "execution_count": 84,
     "metadata": {},
     "output_type": "execute_result"
    }
   ],
   "source": [
    "finalDf['ExpectedPrice'] = (finalDf['FixedPrice'] + (finalDf['Weight Slab (kg)'] / 0.5 * finalDf['AdditionalPrice'])).round(2)\n",
    "finalDf"
   ]
  },
  {
   "cell_type": "markdown",
   "metadata": {},
   "source": [
    "Charged honestly"
   ]
  },
  {
   "cell_type": "code",
   "execution_count": 88,
   "metadata": {},
   "outputs": [],
   "source": [
    "dfEqual = finalDf[finalDf['Billing Amount (Rs.)'] == finalDf['ExpectedPrice']]"
   ]
  },
  {
   "cell_type": "markdown",
   "metadata": {},
   "source": [
    "Undercharge"
   ]
  },
  {
   "cell_type": "code",
   "execution_count": 92,
   "metadata": {},
   "outputs": [],
   "source": [
    "dfLess = finalDf[finalDf['Billing Amount (Rs.)'] < finalDf['ExpectedPrice']]"
   ]
  },
  {
   "cell_type": "code",
   "execution_count": 99,
   "metadata": {},
   "outputs": [],
   "source": [
    "differeceValueLess = (dfLess['ExpectedPrice'].sum() - dfLess['Billing Amount (Rs.)'].sum()).round(2)"
   ]
  },
  {
   "cell_type": "markdown",
   "metadata": {},
   "source": [
    "OverCharge"
   ]
  },
  {
   "cell_type": "code",
   "execution_count": 96,
   "metadata": {},
   "outputs": [],
   "source": [
    "dfMore = finalDf[finalDf['Billing Amount (Rs.)'] > finalDf['ExpectedPrice']]"
   ]
  },
  {
   "cell_type": "code",
   "execution_count": 98,
   "metadata": {},
   "outputs": [],
   "source": [
    "differeceValueMore = (dfMore['ExpectedPrice'].sum() - dfMore['Billing Amount (Rs.)'].sum()).round(2)"
   ]
  },
  {
   "cell_type": "code",
   "execution_count": 102,
   "metadata": {},
   "outputs": [],
   "source": [
    "dfResult = pd.DataFrame({\n",
    "    'Description': ['Total Orders where ABC has been correctly charged', 'Total Orders where ABC has been overcharged', 'Total Orders where ABC has been undercharged'],\n",
    "    'Count': [len(dfEqual), len(dfMore), len(dfLess)],\n",
    "    'Difference Amount (Rs.)': [0, differeceValueMore, differeceValueLess]\n",
    "})"
   ]
  },
  {
   "cell_type": "code",
   "execution_count": 103,
   "metadata": {},
   "outputs": [
    {
     "data": {
      "application/vnd.microsoft.datawrangler.viewer.v0+json": {
       "columns": [
        {
         "name": "index",
         "rawType": "int64",
         "type": "integer"
        },
        {
         "name": "Description",
         "rawType": "object",
         "type": "string"
        },
        {
         "name": "Count",
         "rawType": "int64",
         "type": "integer"
        },
        {
         "name": "Difference Amount (Rs.)",
         "rawType": "float64",
         "type": "float"
        }
       ],
       "conversionMethod": "pd.DataFrame",
       "ref": "ab3e9854-4561-467a-9cd1-e5fe4982f88b",
       "rows": [
        [
         "0",
         "Total Orders where ABC has been correctly charged",
         "41",
         "0.0"
        ],
        [
         "1",
         "Total Orders where ABC has been overcharged",
         "24",
         "-1613.4"
        ],
        [
         "2",
         "Total Orders where ABC has been undercharged",
         "59",
         "2720.5"
        ]
       ],
       "shape": {
        "columns": 3,
        "rows": 3
       }
      },
      "text/html": [
       "<div>\n",
       "<style scoped>\n",
       "    .dataframe tbody tr th:only-of-type {\n",
       "        vertical-align: middle;\n",
       "    }\n",
       "\n",
       "    .dataframe tbody tr th {\n",
       "        vertical-align: top;\n",
       "    }\n",
       "\n",
       "    .dataframe thead th {\n",
       "        text-align: right;\n",
       "    }\n",
       "</style>\n",
       "<table border=\"1\" class=\"dataframe\">\n",
       "  <thead>\n",
       "    <tr style=\"text-align: right;\">\n",
       "      <th></th>\n",
       "      <th>Description</th>\n",
       "      <th>Count</th>\n",
       "      <th>Difference Amount (Rs.)</th>\n",
       "    </tr>\n",
       "  </thead>\n",
       "  <tbody>\n",
       "    <tr>\n",
       "      <th>0</th>\n",
       "      <td>Total Orders where ABC has been correctly charged</td>\n",
       "      <td>41</td>\n",
       "      <td>0.0</td>\n",
       "    </tr>\n",
       "    <tr>\n",
       "      <th>1</th>\n",
       "      <td>Total Orders where ABC has been overcharged</td>\n",
       "      <td>24</td>\n",
       "      <td>-1613.4</td>\n",
       "    </tr>\n",
       "    <tr>\n",
       "      <th>2</th>\n",
       "      <td>Total Orders where ABC has been undercharged</td>\n",
       "      <td>59</td>\n",
       "      <td>2720.5</td>\n",
       "    </tr>\n",
       "  </tbody>\n",
       "</table>\n",
       "</div>"
      ],
      "text/plain": [
       "                                         Description  Count  \\\n",
       "0  Total Orders where ABC has been correctly charged     41   \n",
       "1        Total Orders where ABC has been overcharged     24   \n",
       "2       Total Orders where ABC has been undercharged     59   \n",
       "\n",
       "   Difference Amount (Rs.)  \n",
       "0                      0.0  \n",
       "1                  -1613.4  \n",
       "2                   2720.5  "
      ]
     },
     "execution_count": 103,
     "metadata": {},
     "output_type": "execute_result"
    }
   ],
   "source": [
    "dfResult"
   ]
  }
 ],
 "metadata": {
  "kernelspec": {
   "display_name": "Python 3",
   "language": "python",
   "name": "python3"
  },
  "language_info": {
   "codemirror_mode": {
    "name": "ipython",
    "version": 3
   },
   "file_extension": ".py",
   "mimetype": "text/x-python",
   "name": "python",
   "nbconvert_exporter": "python",
   "pygments_lexer": "ipython3",
   "version": "3.11.7"
  }
 },
 "nbformat": 4,
 "nbformat_minor": 2
}
